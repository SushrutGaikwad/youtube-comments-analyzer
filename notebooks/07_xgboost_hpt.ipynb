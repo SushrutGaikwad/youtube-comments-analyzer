{
 "cells": [
  {
   "cell_type": "code",
   "execution_count": 1,
   "id": "e0a255e8",
   "metadata": {},
   "outputs": [],
   "source": [
    "# Imports\n",
    "\n",
    "import optuna\n",
    "import mlflow\n",
    "import dagshub\n",
    "import mlflow.sklearn\n",
    "\n",
    "import numpy as np\n",
    "import pandas as pd\n",
    "import seaborn as sns\n",
    "import matplotlib.pyplot as plt\n",
    "\n",
    "from imblearn.under_sampling import RandomUnderSampler\n",
    "from sklearn.feature_extraction.text import CountVectorizer\n",
    "from sklearn.model_selection import train_test_split\n",
    "from xgboost import XGBClassifier\n",
    "from sklearn.metrics import accuracy_score, classification_report, confusion_matrix"
   ]
  },
  {
   "cell_type": "code",
   "execution_count": 2,
   "id": "340814d1",
   "metadata": {},
   "outputs": [
    {
     "data": {
      "text/html": [
       "<pre style=\"white-space:pre;overflow-x:auto;line-height:normal;font-family:Menlo,'DejaVu Sans Mono',consolas,'Courier New',monospace\">Accessing as SushrutGaikwad\n",
       "</pre>\n"
      ],
      "text/plain": [
       "Accessing as SushrutGaikwad\n"
      ]
     },
     "metadata": {},
     "output_type": "display_data"
    },
    {
     "data": {
      "text/html": [
       "<pre style=\"white-space:pre;overflow-x:auto;line-height:normal;font-family:Menlo,'DejaVu Sans Mono',consolas,'Courier New',monospace\">Initialized MLflow to track repo <span style=\"color: #008000; text-decoration-color: #008000\">\"SushrutGaikwad/youtube-comments-analyzer\"</span>\n",
       "</pre>\n"
      ],
      "text/plain": [
       "Initialized MLflow to track repo \u001b[32m\"SushrutGaikwad/youtube-comments-analyzer\"\u001b[0m\n"
      ]
     },
     "metadata": {},
     "output_type": "display_data"
    },
    {
     "data": {
      "text/html": [
       "<pre style=\"white-space:pre;overflow-x:auto;line-height:normal;font-family:Menlo,'DejaVu Sans Mono',consolas,'Courier New',monospace\">Repository SushrutGaikwad/youtube-comments-analyzer initialized!\n",
       "</pre>\n"
      ],
      "text/plain": [
       "Repository SushrutGaikwad/youtube-comments-analyzer initialized!\n"
      ]
     },
     "metadata": {},
     "output_type": "display_data"
    }
   ],
   "source": [
    "# Setting up DagsHub\n",
    "\n",
    "dagshub.init(repo_owner='SushrutGaikwad', repo_name='youtube-comments-analyzer', mlflow=True)"
   ]
  },
  {
   "cell_type": "markdown",
   "id": "7fc07df8",
   "metadata": {},
   "source": [
    "# Data"
   ]
  },
  {
   "cell_type": "code",
   "execution_count": 3,
   "id": "8fdb57c3",
   "metadata": {},
   "outputs": [
    {
     "data": {
      "text/plain": [
       "(36662, 2)"
      ]
     },
     "execution_count": 3,
     "metadata": {},
     "output_type": "execute_result"
    }
   ],
   "source": [
    "PREPROCESSED_DATA_PATH = \"../data/processed/reddit_preprocessed.csv\"\n",
    "df = pd.read_csv(PREPROCESSED_DATA_PATH)\n",
    "df.dropna(subset=[\"clean_comment\"], inplace=True)\n",
    "df.shape"
   ]
  },
  {
   "cell_type": "markdown",
   "id": "481c46eb",
   "metadata": {},
   "source": [
    "# Running the experiment"
   ]
  },
  {
   "cell_type": "code",
   "execution_count": 4,
   "id": "5826c056",
   "metadata": {},
   "outputs": [
    {
     "name": "stderr",
     "output_type": "stream",
     "text": [
      "2025/06/04 19:49:04 INFO mlflow.tracking.fluent: Experiment with name 'Exp 4: ML algorithms with hyperparameter tuning' does not exist. Creating a new experiment.\n"
     ]
    },
    {
     "data": {
      "text/plain": [
       "<Experiment: artifact_location='mlflow-artifacts:/3f66177ebab24d6392ce8f143c28100b', creation_time=1749046747756, experiment_id='5', last_update_time=1749046747756, lifecycle_stage='active', name='Exp 4: ML algorithms with hyperparameter tuning', tags={}>"
      ]
     },
     "execution_count": 4,
     "metadata": {},
     "output_type": "execute_result"
    }
   ],
   "source": [
    "# Setting experiment name\n",
    "\n",
    "mlflow.set_experiment(\"Exp 4: ML algorithms with hyperparameter tuning\")"
   ]
  },
  {
   "cell_type": "markdown",
   "id": "09759128",
   "metadata": {},
   "source": [
    "## Preprocessing"
   ]
  },
  {
   "cell_type": "code",
   "execution_count": 5,
   "id": "5af0ebf0",
   "metadata": {},
   "outputs": [],
   "source": [
    "# Remapping class labels from {-1, 0, 1} to {2, 0, 1}\n",
    "mapping = {\n",
    "    -1: 2,\n",
    "    0: 0,\n",
    "    1: 1\n",
    "}\n",
    "df[\"category\"] = df[\"category\"].map(mapping)\n",
    "\n",
    "# Removing missing sentiments\n",
    "df.dropna(subset=[\"category\"], inplace=True)\n",
    "\n",
    "# Feature engineering\n",
    "ngram_range = (1, 2)\n",
    "max_features = 1000\n",
    "vectorizer = CountVectorizer(\n",
    "    ngram_range=ngram_range,\n",
    "    max_features=max_features\n",
    ")\n",
    "\n",
    "# Train-test split\n",
    "X_train, X_test, y_train, y_test = train_test_split(\n",
    "    df[\"clean_comment\"],\n",
    "    df[\"category\"],\n",
    "    test_size=0.2,\n",
    "    random_state=42,\n",
    "    stratify=df[\"category\"]\n",
    ")\n",
    "X_train_vectorized = vectorizer.fit_transform(X_train)\n",
    "X_test_vectorized = vectorizer.transform(X_test)\n",
    "\n",
    "# Undersampling\n",
    "rus = RandomUnderSampler(random_state=42)\n",
    "X_train_vectorized, y_train = rus.fit_resample(\n",
    "    X_train_vectorized,\n",
    "    y_train\n",
    ")"
   ]
  },
  {
   "cell_type": "markdown",
   "id": "a486b2f0",
   "metadata": {},
   "source": [
    "## Running the experiment"
   ]
  },
  {
   "cell_type": "code",
   "execution_count": 6,
   "id": "bd1f4fcb",
   "metadata": {},
   "outputs": [],
   "source": [
    "# Function to log results to MLFlow\n",
    "def log_to_mlflow(\n",
    "    model_name,\n",
    "    model,\n",
    "    X_train,\n",
    "    X_test,\n",
    "    y_train,\n",
    "    y_test\n",
    "):\n",
    "    with mlflow.start_run():\n",
    "        # Tags\n",
    "        mlflow.set_tag(\n",
    "            \"mlflow.runName\", f\"{model_name}_BoW_bigrams_1000_undersampling\"\n",
    "        )\n",
    "        mlflow.set_tag(\"experiment_type\", \"ML_models_comparison\")\n",
    "        \n",
    "        # Logging model name as a parameter\n",
    "        mlflow.log_param(\"model_name\", model_name)\n",
    "        \n",
    "        # Initializing and training the model\n",
    "        model.fit(X_train, y_train)\n",
    "        \n",
    "        # Making predictions on the test set and logging metrics\n",
    "        y_pred = model.predict(X_test)\n",
    "        \n",
    "        # Logging accuracy\n",
    "        accuracy = accuracy_score(\n",
    "            y_true=y_test,\n",
    "            y_pred=y_pred\n",
    "        )\n",
    "        mlflow.log_metric(\"accuracy\", accuracy)\n",
    "        \n",
    "        # Logging classification report metrics\n",
    "        classification_rep = classification_report(\n",
    "            y_true=y_test,\n",
    "            y_pred=y_pred,\n",
    "            output_dict=True\n",
    "        )\n",
    "        for label, metrics in classification_rep.items():\n",
    "            if isinstance(metrics, dict):\n",
    "                for metric, value in metrics.items():\n",
    "                    mlflow.log_metric(f\"{label}: {metric}\", value)\n",
    "        \n",
    "        # Logging the model\n",
    "        mlflow.sklearn.log_model(model, f\"{model_name}_model\")"
   ]
  },
  {
   "cell_type": "code",
   "execution_count": 7,
   "id": "6adab933",
   "metadata": {},
   "outputs": [],
   "source": [
    "# Optuna objective function\n",
    "def objective(trial):\n",
    "    n_estimators = trial.suggest_int(\"n_estimators\", 50, 300)\n",
    "    learning_rate = trial.suggest_float(\"learning_rate\", 1e-4, 1e-1, log=True)\n",
    "    max_depth = trial.suggest_int(\"max_depth\", 3, 10)\n",
    "    \n",
    "    model = XGBClassifier(\n",
    "        n_estimators=n_estimators,\n",
    "        learning_rate=learning_rate,\n",
    "        max_depth=max_depth,\n",
    "        random_state=42,\n",
    "        n_jobs=-1\n",
    "    )\n",
    "    model.fit(X_train_vectorized, y_train)\n",
    "    y_pred = model.predict(X_test_vectorized)\n",
    "    return accuracy_score(\n",
    "        y_true=y_test,\n",
    "        y_pred=y_pred\n",
    "    )"
   ]
  },
  {
   "cell_type": "code",
   "execution_count": 10,
   "id": "861cd43f",
   "metadata": {},
   "outputs": [],
   "source": [
    "def run_experiment():\n",
    "    study = optuna.create_study(direction=\"maximize\")\n",
    "    study.optimize(objective, n_trials=50)\n",
    "    \n",
    "    # Getting the best parameters and logging the best model\n",
    "    best_params = study.best_params\n",
    "    best_model = XGBClassifier(\n",
    "        n_estimators=best_params[\"n_estimators\"],\n",
    "        learning_rate=best_params[\"learning_rate\"],\n",
    "        max_depth=best_params[\"max_depth\"],\n",
    "        random_state=42,\n",
    "        n_jobs=-1\n",
    "    )\n",
    "    log_to_mlflow(\n",
    "        model_name=\"XGBoost\",\n",
    "        model=best_model,\n",
    "        X_train=X_train_vectorized,\n",
    "        X_test=X_test_vectorized,\n",
    "        y_train=y_train,\n",
    "        y_test=y_test\n",
    "    )"
   ]
  },
  {
   "cell_type": "code",
   "execution_count": 11,
   "id": "ae8f5eb7",
   "metadata": {},
   "outputs": [
    {
     "name": "stderr",
     "output_type": "stream",
     "text": [
      "[I 2025-06-04 20:12:37,945] A new study created in memory with name: no-name-0c72f5b9-690d-4c33-b7a5-d5388d45c2cf\n",
      "[I 2025-06-04 20:12:38,219] Trial 0 finished with value: 0.590617755352516 and parameters: {'n_estimators': 90, 'learning_rate': 0.02263023965104894, 'max_depth': 3}. Best is trial 0 with value: 0.590617755352516.\n",
      "[I 2025-06-04 20:12:39,274] Trial 1 finished with value: 0.7370789581344607 and parameters: {'n_estimators': 186, 'learning_rate': 0.06163214474967551, 'max_depth': 6}. Best is trial 1 with value: 0.7370789581344607.\n",
      "[I 2025-06-04 20:12:41,472] Trial 2 finished with value: 0.6158461748261285 and parameters: {'n_estimators': 95, 'learning_rate': 0.0007520128959431579, 'max_depth': 10}. Best is trial 1 with value: 0.7370789581344607.\n",
      "[I 2025-06-04 20:12:42,427] Trial 3 finished with value: 0.5381153688804037 and parameters: {'n_estimators': 222, 'learning_rate': 0.0005038079612994032, 'max_depth': 5}. Best is trial 1 with value: 0.7370789581344607.\n",
      "[I 2025-06-04 20:12:44,594] Trial 4 finished with value: 0.5657984453838811 and parameters: {'n_estimators': 286, 'learning_rate': 0.0002885714150264849, 'max_depth': 7}. Best is trial 1 with value: 0.7370789581344607.\n",
      "[I 2025-06-04 20:12:45,194] Trial 5 finished with value: 0.5820264557479885 and parameters: {'n_estimators': 63, 'learning_rate': 0.0014572494900520904, 'max_depth': 8}. Best is trial 1 with value: 0.7370789581344607.\n",
      "[I 2025-06-04 20:12:45,682] Trial 6 finished with value: 0.5025228419473613 and parameters: {'n_estimators': 184, 'learning_rate': 0.0010036298588540335, 'max_depth': 3}. Best is trial 1 with value: 0.7370789581344607.\n",
      "[I 2025-06-04 20:12:47,530] Trial 7 finished with value: 0.6166643938360835 and parameters: {'n_estimators': 148, 'learning_rate': 0.0006055118012168897, 'max_depth': 10}. Best is trial 1 with value: 0.7370789581344607.\n",
      "[I 2025-06-04 20:12:50,102] Trial 8 finished with value: 0.7482612846038457 and parameters: {'n_estimators': 293, 'learning_rate': 0.049431854652625506, 'max_depth': 6}. Best is trial 8 with value: 0.7482612846038457.\n",
      "[I 2025-06-04 20:12:50,817] Trial 9 finished with value: 0.5486158461748262 and parameters: {'n_estimators': 110, 'learning_rate': 0.00010697751166579163, 'max_depth': 6}. Best is trial 8 with value: 0.7482612846038457.\n",
      "[I 2025-06-04 20:12:53,421] Trial 10 finished with value: 0.6673939724532933 and parameters: {'n_estimators': 290, 'learning_rate': 0.00797044490608202, 'max_depth': 8}. Best is trial 8 with value: 0.7482612846038457.\n",
      "[I 2025-06-04 20:12:54,374] Trial 11 finished with value: 0.7488067639438156 and parameters: {'n_estimators': 228, 'learning_rate': 0.07553916773746383, 'max_depth': 5}. Best is trial 11 with value: 0.7488067639438156.\n",
      "[I 2025-06-04 20:12:55,036] Trial 12 finished with value: 0.761489158598118 and parameters: {'n_estimators': 245, 'learning_rate': 0.09423095275630614, 'max_depth': 5}. Best is trial 12 with value: 0.761489158598118.\n",
      "[I 2025-06-04 20:12:55,518] Trial 13 finished with value: 0.7516705304786582 and parameters: {'n_estimators': 234, 'learning_rate': 0.09822592041227095, 'max_depth': 4}. Best is trial 12 with value: 0.761489158598118.\n",
      "[I 2025-06-04 20:12:56,088] Trial 14 finished with value: 0.6312559661802809 and parameters: {'n_estimators': 244, 'learning_rate': 0.01135556441418659, 'max_depth': 4}. Best is trial 12 with value: 0.761489158598118.\n",
      "[I 2025-06-04 20:12:56,695] Trial 15 finished with value: 0.5738442656484386 and parameters: {'n_estimators': 249, 'learning_rate': 0.0039025132810436656, 'max_depth': 4}. Best is trial 12 with value: 0.761489158598118.\n",
      "[I 2025-06-04 20:12:57,202] Trial 16 finished with value: 0.6664393836083459 and parameters: {'n_estimators': 208, 'learning_rate': 0.02365376119575078, 'max_depth': 4}. Best is trial 12 with value: 0.761489158598118.\n",
      "[I 2025-06-04 20:12:58,159] Trial 17 finished with value: 0.6978044456566208 and parameters: {'n_estimators': 264, 'learning_rate': 0.025956233959936757, 'max_depth': 5}. Best is trial 12 with value: 0.761489158598118.\n",
      "[I 2025-06-04 20:12:58,482] Trial 18 finished with value: 0.7062593754261557 and parameters: {'n_estimators': 150, 'learning_rate': 0.08421352286573812, 'max_depth': 3}. Best is trial 12 with value: 0.761489158598118.\n",
      "[I 2025-06-04 20:13:00,217] Trial 19 finished with value: 0.618982681030956 and parameters: {'n_estimators': 207, 'learning_rate': 0.004115586813426246, 'max_depth': 7}. Best is trial 12 with value: 0.761489158598118.\n",
      "[I 2025-06-04 20:13:01,214] Trial 20 finished with value: 0.6312559661802809 and parameters: {'n_estimators': 270, 'learning_rate': 0.010253278246194866, 'max_depth': 4}. Best is trial 12 with value: 0.761489158598118.\n",
      "[I 2025-06-04 20:13:02,144] Trial 21 finished with value: 0.7186690304104733 and parameters: {'n_estimators': 230, 'learning_rate': 0.042530496055735445, 'max_depth': 5}. Best is trial 12 with value: 0.761489158598118.\n",
      "[I 2025-06-04 20:13:03,212] Trial 22 finished with value: 0.7602618300831856 and parameters: {'n_estimators': 248, 'learning_rate': 0.09175310877967444, 'max_depth': 5}. Best is trial 12 with value: 0.761489158598118.\n",
      "[I 2025-06-04 20:13:04,255] Trial 23 finished with value: 0.7586253920632756 and parameters: {'n_estimators': 259, 'learning_rate': 0.08647757657753374, 'max_depth': 5}. Best is trial 12 with value: 0.761489158598118.\n",
      "[I 2025-06-04 20:13:05,583] Trial 24 finished with value: 0.7327151234147007 and parameters: {'n_estimators': 258, 'learning_rate': 0.039109991596978984, 'max_depth': 6}. Best is trial 12 with value: 0.761489158598118.\n",
      "[I 2025-06-04 20:13:06,721] Trial 25 finished with value: 0.7122596481658258 and parameters: {'n_estimators': 273, 'learning_rate': 0.031950178206657236, 'max_depth': 5}. Best is trial 12 with value: 0.761489158598118.\n",
      "[I 2025-06-04 20:13:08,213] Trial 26 finished with value: 0.6774853402427383 and parameters: {'n_estimators': 207, 'learning_rate': 0.016756437046277942, 'max_depth': 7}. Best is trial 12 with value: 0.761489158598118.\n",
      "[I 2025-06-04 20:13:09,479] Trial 27 finished with value: 0.7350334106095732 and parameters: {'n_estimators': 159, 'learning_rate': 0.052752117268190866, 'max_depth': 8}. Best is trial 12 with value: 0.761489158598118.\n",
      "[I 2025-06-04 20:13:10,940] Trial 28 finished with value: 0.6256648029455885 and parameters: {'n_estimators': 300, 'learning_rate': 0.006359198476518691, 'max_depth': 5}. Best is trial 12 with value: 0.761489158598118.\n",
      "[I 2025-06-04 20:13:11,645] Trial 29 finished with value: 0.6300286376653484 and parameters: {'n_estimators': 275, 'learning_rate': 0.014666182926139729, 'max_depth': 3}. Best is trial 12 with value: 0.761489158598118.\n",
      "[I 2025-06-04 20:13:13,140] Trial 30 finished with value: 0.5814809764080185 and parameters: {'n_estimators': 249, 'learning_rate': 0.001859350973618943, 'max_depth': 6}. Best is trial 12 with value: 0.761489158598118.\n",
      "[I 2025-06-04 20:13:13,657] Trial 31 finished with value: 0.7425337515341607 and parameters: {'n_estimators': 237, 'learning_rate': 0.07939396864721181, 'max_depth': 4}. Best is trial 12 with value: 0.761489158598118.\n",
      "[I 2025-06-04 20:13:14,136] Trial 32 finished with value: 0.7471703259239056 and parameters: {'n_estimators': 220, 'learning_rate': 0.09826180390127803, 'max_depth': 4}. Best is trial 12 with value: 0.761489158598118.\n",
      "[I 2025-06-04 20:13:14,838] Trial 33 finished with value: 0.7444429292240556 and parameters: {'n_estimators': 255, 'learning_rate': 0.06130542207154032, 'max_depth': 5}. Best is trial 12 with value: 0.761489158598118.\n",
      "[I 2025-06-04 20:13:15,177] Trial 34 finished with value: 0.7263057411700532 and parameters: {'n_estimators': 202, 'learning_rate': 0.09407108649501104, 'max_depth': 3}. Best is trial 12 with value: 0.761489158598118.\n",
      "[I 2025-06-04 20:13:15,628] Trial 35 finished with value: 0.6889404063821083 and parameters: {'n_estimators': 185, 'learning_rate': 0.03822446533280111, 'max_depth': 4}. Best is trial 12 with value: 0.761489158598118.\n",
      "[I 2025-06-04 20:13:16,473] Trial 36 finished with value: 0.6825310241374608 and parameters: {'n_estimators': 277, 'learning_rate': 0.018805268309765942, 'max_depth': 5}. Best is trial 12 with value: 0.761489158598118.\n",
      "[I 2025-06-04 20:13:17,405] Trial 37 finished with value: 0.7428064912041457 and parameters: {'n_estimators': 222, 'learning_rate': 0.05804319863804525, 'max_depth': 6}. Best is trial 12 with value: 0.761489158598118.\n",
      "[I 2025-06-04 20:13:18,435] Trial 38 finished with value: 0.6954861584617482 and parameters: {'n_estimators': 165, 'learning_rate': 0.029446737558207568, 'max_depth': 7}. Best is trial 12 with value: 0.761489158598118.\n",
      "[I 2025-06-04 20:13:18,931] Trial 39 finished with value: 0.7059866357561707 and parameters: {'n_estimators': 131, 'learning_rate': 0.06316024217214498, 'max_depth': 5}. Best is trial 12 with value: 0.761489158598118.\n",
      "[I 2025-06-04 20:13:19,451] Trial 40 finished with value: 0.7403518341742806 and parameters: {'n_estimators': 238, 'learning_rate': 0.09898358796851535, 'max_depth': 3}. Best is trial 12 with value: 0.761489158598118.\n",
      "[I 2025-06-04 20:13:20,377] Trial 41 finished with value: 0.7428064912041457 and parameters: {'n_estimators': 229, 'learning_rate': 0.06703674762876691, 'max_depth': 5}. Best is trial 12 with value: 0.761489158598118.\n",
      "[I 2025-06-04 20:13:21,729] Trial 42 finished with value: 0.7369425882994681 and parameters: {'n_estimators': 262, 'learning_rate': 0.043269340729860085, 'max_depth': 6}. Best is trial 12 with value: 0.761489158598118.\n",
      "[I 2025-06-04 20:13:22,388] Trial 43 finished with value: 0.5142506477567163 and parameters: {'n_estimators': 196, 'learning_rate': 0.00026008075780452393, 'max_depth': 4}. Best is trial 12 with value: 0.761489158598118.\n",
      "[I 2025-06-04 20:13:22,789] Trial 44 finished with value: 0.6834856129824083 and parameters: {'n_estimators': 63, 'learning_rate': 0.07332185334699817, 'max_depth': 6}. Best is trial 12 with value: 0.761489158598118.\n",
      "[I 2025-06-04 20:13:24,743] Trial 45 finished with value: 0.7552161461884631 and parameters: {'n_estimators': 217, 'learning_rate': 0.051417210488767254, 'max_depth': 9}. Best is trial 12 with value: 0.761489158598118.\n",
      "[I 2025-06-04 20:13:26,533] Trial 46 finished with value: 0.7508523114687031 and parameters: {'n_estimators': 218, 'learning_rate': 0.04941967690456564, 'max_depth': 8}. Best is trial 12 with value: 0.761489158598118.\n",
      "[I 2025-06-04 20:13:28,906] Trial 47 finished with value: 0.7357152597845357 and parameters: {'n_estimators': 242, 'learning_rate': 0.03042215422100368, 'max_depth': 9}. Best is trial 12 with value: 0.761489158598118.\n",
      "[I 2025-06-04 20:13:32,385] Trial 48 finished with value: 0.7299877267148507 and parameters: {'n_estimators': 285, 'learning_rate': 0.020640426086308374, 'max_depth': 10}. Best is trial 12 with value: 0.761489158598118.\n",
      "[I 2025-06-04 20:13:33,995] Trial 49 finished with value: 0.769944088367653 and parameters: {'n_estimators': 178, 'learning_rate': 0.09899722333607942, 'max_depth': 9}. Best is trial 49 with value: 0.769944088367653.\n",
      "2025/06/04 20:13:51 WARNING mlflow.models.model: Model logged without a signature and input example. Please set `input_example` parameter when logging the model to auto infer the model signature.\n"
     ]
    },
    {
     "name": "stdout",
     "output_type": "stream",
     "text": [
      "🏃 View run XGBoost_BoW_bigrams_1000_undersampling at: https://dagshub.com/SushrutGaikwad/youtube-comments-analyzer.mlflow/#/experiments/5/runs/c5fa96d3462a4263a95255e7d8419546\n",
      "🧪 View experiment at: https://dagshub.com/SushrutGaikwad/youtube-comments-analyzer.mlflow/#/experiments/5\n"
     ]
    }
   ],
   "source": [
    "run_experiment()"
   ]
  },
  {
   "cell_type": "code",
   "execution_count": null,
   "id": "2a24acf9",
   "metadata": {},
   "outputs": [],
   "source": []
  }
 ],
 "metadata": {
  "kernelspec": {
   "display_name": "venv",
   "language": "python",
   "name": "python3"
  },
  "language_info": {
   "codemirror_mode": {
    "name": "ipython",
    "version": 3
   },
   "file_extension": ".py",
   "mimetype": "text/x-python",
   "name": "python",
   "nbconvert_exporter": "python",
   "pygments_lexer": "ipython3",
   "version": "3.11.12"
  }
 },
 "nbformat": 4,
 "nbformat_minor": 5
}
