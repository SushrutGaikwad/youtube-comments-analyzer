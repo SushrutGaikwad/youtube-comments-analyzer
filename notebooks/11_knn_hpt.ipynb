{
 "cells": [
  {
   "cell_type": "code",
   "execution_count": 1,
   "id": "6df829fd",
   "metadata": {},
   "outputs": [],
   "source": [
    "# Imports\n",
    "\n",
    "import optuna\n",
    "import mlflow\n",
    "import dagshub\n",
    "import mlflow.sklearn\n",
    "\n",
    "import numpy as np\n",
    "import pandas as pd\n",
    "import seaborn as sns\n",
    "import matplotlib.pyplot as plt\n",
    "\n",
    "from imblearn.under_sampling import RandomUnderSampler\n",
    "from sklearn.feature_extraction.text import CountVectorizer\n",
    "from sklearn.model_selection import train_test_split\n",
    "from sklearn.neighbors import KNeighborsClassifier\n",
    "from sklearn.metrics import accuracy_score, classification_report, confusion_matrix"
   ]
  },
  {
   "cell_type": "code",
   "execution_count": 2,
   "id": "6163c8ba",
   "metadata": {},
   "outputs": [
    {
     "data": {
      "text/html": [
       "<pre style=\"white-space:pre;overflow-x:auto;line-height:normal;font-family:Menlo,'DejaVu Sans Mono',consolas,'Courier New',monospace\">Accessing as SushrutGaikwad\n",
       "</pre>\n"
      ],
      "text/plain": [
       "Accessing as SushrutGaikwad\n"
      ]
     },
     "metadata": {},
     "output_type": "display_data"
    },
    {
     "data": {
      "text/html": [
       "<pre style=\"white-space:pre;overflow-x:auto;line-height:normal;font-family:Menlo,'DejaVu Sans Mono',consolas,'Courier New',monospace\">Initialized MLflow to track repo <span style=\"color: #008000; text-decoration-color: #008000\">\"SushrutGaikwad/youtube-comments-analyzer\"</span>\n",
       "</pre>\n"
      ],
      "text/plain": [
       "Initialized MLflow to track repo \u001b[32m\"SushrutGaikwad/youtube-comments-analyzer\"\u001b[0m\n"
      ]
     },
     "metadata": {},
     "output_type": "display_data"
    },
    {
     "data": {
      "text/html": [
       "<pre style=\"white-space:pre;overflow-x:auto;line-height:normal;font-family:Menlo,'DejaVu Sans Mono',consolas,'Courier New',monospace\">Repository SushrutGaikwad/youtube-comments-analyzer initialized!\n",
       "</pre>\n"
      ],
      "text/plain": [
       "Repository SushrutGaikwad/youtube-comments-analyzer initialized!\n"
      ]
     },
     "metadata": {},
     "output_type": "display_data"
    }
   ],
   "source": [
    "# Setting up DagsHub\n",
    "\n",
    "dagshub.init(repo_owner='SushrutGaikwad', repo_name='youtube-comments-analyzer', mlflow=True)"
   ]
  },
  {
   "cell_type": "markdown",
   "id": "d50cb5db",
   "metadata": {},
   "source": [
    "# Data"
   ]
  },
  {
   "cell_type": "code",
   "execution_count": 3,
   "id": "425fe003",
   "metadata": {},
   "outputs": [
    {
     "data": {
      "text/plain": [
       "(36662, 2)"
      ]
     },
     "execution_count": 3,
     "metadata": {},
     "output_type": "execute_result"
    }
   ],
   "source": [
    "PREPROCESSED_DATA_PATH = \"../data/processed/reddit_preprocessed.csv\"\n",
    "df = pd.read_csv(PREPROCESSED_DATA_PATH)\n",
    "df.dropna(subset=[\"clean_comment\"], inplace=True)\n",
    "df.shape"
   ]
  },
  {
   "cell_type": "markdown",
   "id": "7e06628b",
   "metadata": {},
   "source": [
    "# Running the experiment"
   ]
  },
  {
   "cell_type": "code",
   "execution_count": 4,
   "id": "3312684f",
   "metadata": {},
   "outputs": [
    {
     "data": {
      "text/plain": [
       "<Experiment: artifact_location='mlflow-artifacts:/3f66177ebab24d6392ce8f143c28100b', creation_time=1749046747756, experiment_id='5', last_update_time=1749046747756, lifecycle_stage='active', name='Exp 4: ML algorithms with hyperparameter tuning', tags={}>"
      ]
     },
     "execution_count": 4,
     "metadata": {},
     "output_type": "execute_result"
    }
   ],
   "source": [
    "# Setting experiment name\n",
    "\n",
    "mlflow.set_experiment(\"Exp 4: ML algorithms with hyperparameter tuning\")"
   ]
  },
  {
   "cell_type": "markdown",
   "id": "99be0102",
   "metadata": {},
   "source": [
    "## Preprocessing"
   ]
  },
  {
   "cell_type": "code",
   "execution_count": 5,
   "id": "1dfda024",
   "metadata": {},
   "outputs": [],
   "source": [
    "# Remapping class labels from {-1, 0, 1} to {2, 0, 1}\n",
    "mapping = {\n",
    "    -1: 2,\n",
    "    0: 0,\n",
    "    1: 1\n",
    "}\n",
    "df[\"category\"] = df[\"category\"].map(mapping)\n",
    "\n",
    "# Removing missing sentiments\n",
    "df.dropna(subset=[\"category\"], inplace=True)\n",
    "\n",
    "# Feature engineering\n",
    "ngram_range = (1, 2)\n",
    "max_features = 1000\n",
    "vectorizer = CountVectorizer(\n",
    "    ngram_range=ngram_range,\n",
    "    max_features=max_features\n",
    ")\n",
    "\n",
    "# Train-test split\n",
    "X_train, X_test, y_train, y_test = train_test_split(\n",
    "    df[\"clean_comment\"],\n",
    "    df[\"category\"],\n",
    "    test_size=0.2,\n",
    "    random_state=42,\n",
    "    stratify=df[\"category\"]\n",
    ")\n",
    "X_train_vectorized = vectorizer.fit_transform(X_train)\n",
    "X_test_vectorized = vectorizer.transform(X_test)\n",
    "\n",
    "# Undersampling\n",
    "rus = RandomUnderSampler(random_state=42)\n",
    "X_train_vectorized, y_train = rus.fit_resample(\n",
    "    X_train_vectorized,\n",
    "    y_train\n",
    ")"
   ]
  },
  {
   "cell_type": "markdown",
   "id": "7d6ab918",
   "metadata": {},
   "source": [
    "## Running the experiment"
   ]
  },
  {
   "cell_type": "code",
   "execution_count": 6,
   "id": "fd844049",
   "metadata": {},
   "outputs": [],
   "source": [
    "# Function to log results to MLFlow\n",
    "def log_to_mlflow(\n",
    "    model_name,\n",
    "    model,\n",
    "    X_train,\n",
    "    X_test,\n",
    "    y_train,\n",
    "    y_test\n",
    "):\n",
    "    with mlflow.start_run():\n",
    "        # Tags\n",
    "        mlflow.set_tag(\n",
    "            \"mlflow.runName\", f\"{model_name}_BoW_bigrams_1000_undersampling\"\n",
    "        )\n",
    "        mlflow.set_tag(\"experiment_type\", \"ML_models_comparison\")\n",
    "        \n",
    "        # Logging model name as a parameter\n",
    "        mlflow.log_param(\"model_name\", model_name)\n",
    "        \n",
    "        # Initializing and training the model\n",
    "        model.fit(X_train, y_train)\n",
    "        \n",
    "        # Making predictions on the test set and logging metrics\n",
    "        y_pred = model.predict(X_test)\n",
    "        \n",
    "        # Logging accuracy\n",
    "        accuracy = accuracy_score(\n",
    "            y_true=y_test,\n",
    "            y_pred=y_pred\n",
    "        )\n",
    "        mlflow.log_metric(\"accuracy\", accuracy)\n",
    "        \n",
    "        # Logging classification report metrics\n",
    "        classification_rep = classification_report(\n",
    "            y_true=y_test,\n",
    "            y_pred=y_pred,\n",
    "            output_dict=True\n",
    "        )\n",
    "        for label, metrics in classification_rep.items():\n",
    "            if isinstance(metrics, dict):\n",
    "                for metric, value in metrics.items():\n",
    "                    mlflow.log_metric(f\"{label}: {metric}\", value)\n",
    "        \n",
    "        # Logging the model\n",
    "        mlflow.sklearn.log_model(model, f\"{model_name}_model\")"
   ]
  },
  {
   "cell_type": "code",
   "execution_count": 7,
   "id": "eb3ed748",
   "metadata": {},
   "outputs": [],
   "source": [
    "# Optuna objective function\n",
    "def objective(trial):\n",
    "    n_neighbors = trial.suggest_int(\"n_neighbors\", 3, 30)\n",
    "    p = trial.suggest_categorical(\n",
    "        \"p\", [1, 2]\n",
    "    )\n",
    "    \n",
    "    model = KNeighborsClassifier(\n",
    "        n_neighbors=n_neighbors, p=p, n_jobs=-1\n",
    "    )\n",
    "    model.fit(X_train_vectorized, y_train)\n",
    "    y_pred = model.predict(X_test_vectorized)\n",
    "    return accuracy_score(\n",
    "        y_true=y_test,\n",
    "        y_pred=y_pred\n",
    "    )"
   ]
  },
  {
   "cell_type": "code",
   "execution_count": 8,
   "id": "2cf43480",
   "metadata": {},
   "outputs": [],
   "source": [
    "def run_experiment():\n",
    "    study = optuna.create_study(direction=\"maximize\")\n",
    "    study.optimize(objective, n_trials=50)\n",
    "    \n",
    "    # Getting the best parameters and logging the best model\n",
    "    best_params = study.best_params\n",
    "    best_model = KNeighborsClassifier(\n",
    "        n_neighbors=best_params[\"n_neighbors\"],\n",
    "        p=best_params[\"p\"],\n",
    "        n_jobs=-1\n",
    "    )\n",
    "    log_to_mlflow(\n",
    "        model_name=\"KNN\",\n",
    "        model=best_model,\n",
    "        X_train=X_train_vectorized,\n",
    "        X_test=X_test_vectorized,\n",
    "        y_train=y_train,\n",
    "        y_test=y_test\n",
    "    )"
   ]
  },
  {
   "cell_type": "code",
   "execution_count": 9,
   "id": "cc8546b8",
   "metadata": {},
   "outputs": [
    {
     "name": "stderr",
     "output_type": "stream",
     "text": [
      "[I 2025-06-04 21:21:06,053] A new study created in memory with name: no-name-25d2d4cc-d42d-4cf9-bf58-6bb119fa0c32\n",
      "[I 2025-06-04 21:21:08,771] Trial 0 finished with value: 0.47347606709395884 and parameters: {'n_neighbors': 13, 'p': 2}. Best is trial 0 with value: 0.47347606709395884.\n",
      "[I 2025-06-04 21:21:11,169] Trial 1 finished with value: 0.4936588026728488 and parameters: {'n_neighbors': 4, 'p': 2}. Best is trial 1 with value: 0.4936588026728488.\n",
      "[I 2025-06-04 21:21:13,578] Trial 2 finished with value: 0.4520660030001364 and parameters: {'n_neighbors': 19, 'p': 2}. Best is trial 1 with value: 0.4936588026728488.\n",
      "[I 2025-06-04 21:21:19,383] Trial 3 finished with value: 0.46720305468430384 and parameters: {'n_neighbors': 6, 'p': 1}. Best is trial 1 with value: 0.4936588026728488.\n",
      "[I 2025-06-04 21:21:22,191] Trial 4 finished with value: 0.46720305468430384 and parameters: {'n_neighbors': 6, 'p': 1}. Best is trial 1 with value: 0.4936588026728488.\n",
      "[I 2025-06-04 21:21:24,423] Trial 5 finished with value: 0.4520660030001364 and parameters: {'n_neighbors': 19, 'p': 2}. Best is trial 1 with value: 0.4936588026728488.\n",
      "[I 2025-06-04 21:21:26,650] Trial 6 finished with value: 0.4337924451111414 and parameters: {'n_neighbors': 26, 'p': 2}. Best is trial 1 with value: 0.4936588026728488.\n",
      "[I 2025-06-04 21:21:29,443] Trial 7 finished with value: 0.42465566616664396 and parameters: {'n_neighbors': 22, 'p': 1}. Best is trial 1 with value: 0.4936588026728488.\n",
      "[I 2025-06-04 21:21:31,794] Trial 8 finished with value: 0.4774307923087413 and parameters: {'n_neighbors': 11, 'p': 2}. Best is trial 1 with value: 0.4936588026728488.\n",
      "[I 2025-06-04 21:21:34,517] Trial 9 finished with value: 0.42465566616664396 and parameters: {'n_neighbors': 22, 'p': 1}. Best is trial 1 with value: 0.4936588026728488.\n",
      "[I 2025-06-04 21:21:36,784] Trial 10 finished with value: 0.49488613118778124 and parameters: {'n_neighbors': 3, 'p': 2}. Best is trial 10 with value: 0.49488613118778124.\n",
      "[I 2025-06-04 21:21:39,055] Trial 11 finished with value: 0.49488613118778124 and parameters: {'n_neighbors': 3, 'p': 2}. Best is trial 10 with value: 0.49488613118778124.\n",
      "[I 2025-06-04 21:21:41,444] Trial 12 finished with value: 0.49488613118778124 and parameters: {'n_neighbors': 3, 'p': 2}. Best is trial 10 with value: 0.49488613118778124.\n",
      "[I 2025-06-04 21:21:43,587] Trial 13 finished with value: 0.4772944224737488 and parameters: {'n_neighbors': 10, 'p': 2}. Best is trial 10 with value: 0.49488613118778124.\n",
      "[I 2025-06-04 21:21:45,776] Trial 14 finished with value: 0.4796127096686213 and parameters: {'n_neighbors': 9, 'p': 2}. Best is trial 10 with value: 0.49488613118778124.\n",
      "[I 2025-06-04 21:21:48,014] Trial 15 finished with value: 0.4286103913814264 and parameters: {'n_neighbors': 30, 'p': 2}. Best is trial 10 with value: 0.49488613118778124.\n",
      "[I 2025-06-04 21:21:50,281] Trial 16 finished with value: 0.46802127369425883 and parameters: {'n_neighbors': 14, 'p': 2}. Best is trial 10 with value: 0.49488613118778124.\n",
      "[I 2025-06-04 21:21:52,485] Trial 17 finished with value: 0.4886131187781263 and parameters: {'n_neighbors': 7, 'p': 2}. Best is trial 10 with value: 0.49488613118778124.\n",
      "[I 2025-06-04 21:21:55,149] Trial 18 finished with value: 0.4451111414155189 and parameters: {'n_neighbors': 15, 'p': 1}. Best is trial 10 with value: 0.49488613118778124.\n",
      "[I 2025-06-04 21:21:57,359] Trial 19 finished with value: 0.49488613118778124 and parameters: {'n_neighbors': 3, 'p': 2}. Best is trial 10 with value: 0.49488613118778124.\n",
      "[I 2025-06-04 21:21:59,569] Trial 20 finished with value: 0.4886131187781263 and parameters: {'n_neighbors': 7, 'p': 2}. Best is trial 10 with value: 0.49488613118778124.\n",
      "[I 2025-06-04 21:22:01,878] Trial 21 finished with value: 0.49488613118778124 and parameters: {'n_neighbors': 3, 'p': 2}. Best is trial 10 with value: 0.49488613118778124.\n",
      "[I 2025-06-04 21:22:04,065] Trial 22 finished with value: 0.49938633574253377 and parameters: {'n_neighbors': 5, 'p': 2}. Best is trial 22 with value: 0.49938633574253377.\n",
      "[I 2025-06-04 21:22:06,233] Trial 23 finished with value: 0.4839765443883813 and parameters: {'n_neighbors': 8, 'p': 2}. Best is trial 22 with value: 0.49938633574253377.\n",
      "[I 2025-06-04 21:22:08,468] Trial 24 finished with value: 0.49938633574253377 and parameters: {'n_neighbors': 5, 'p': 2}. Best is trial 22 with value: 0.49938633574253377.\n",
      "[I 2025-06-04 21:22:10,670] Trial 25 finished with value: 0.4774307923087413 and parameters: {'n_neighbors': 11, 'p': 2}. Best is trial 22 with value: 0.49938633574253377.\n",
      "[I 2025-06-04 21:22:13,235] Trial 26 finished with value: 0.4823401063684713 and parameters: {'n_neighbors': 5, 'p': 1}. Best is trial 22 with value: 0.49938633574253377.\n",
      "[I 2025-06-04 21:22:15,368] Trial 27 finished with value: 0.4796127096686213 and parameters: {'n_neighbors': 9, 'p': 2}. Best is trial 22 with value: 0.49938633574253377.\n",
      "[I 2025-06-04 21:22:17,620] Trial 28 finished with value: 0.49938633574253377 and parameters: {'n_neighbors': 5, 'p': 2}. Best is trial 22 with value: 0.49938633574253377.\n",
      "[I 2025-06-04 21:22:19,804] Trial 29 finished with value: 0.47347606709395884 and parameters: {'n_neighbors': 12, 'p': 2}. Best is trial 22 with value: 0.49938633574253377.\n",
      "[I 2025-06-04 21:22:22,195] Trial 30 finished with value: 0.46147552161461886 and parameters: {'n_neighbors': 16, 'p': 2}. Best is trial 22 with value: 0.49938633574253377.\n",
      "[I 2025-06-04 21:22:24,532] Trial 31 finished with value: 0.49938633574253377 and parameters: {'n_neighbors': 5, 'p': 2}. Best is trial 22 with value: 0.49938633574253377.\n",
      "[I 2025-06-04 21:22:26,780] Trial 32 finished with value: 0.49938633574253377 and parameters: {'n_neighbors': 5, 'p': 2}. Best is trial 22 with value: 0.49938633574253377.\n",
      "[I 2025-06-04 21:22:29,070] Trial 33 finished with value: 0.49938633574253377 and parameters: {'n_neighbors': 5, 'p': 2}. Best is trial 22 with value: 0.49938633574253377.\n",
      "[I 2025-06-04 21:22:31,281] Trial 34 finished with value: 0.4839765443883813 and parameters: {'n_neighbors': 8, 'p': 2}. Best is trial 22 with value: 0.49938633574253377.\n",
      "[I 2025-06-04 21:22:33,510] Trial 35 finished with value: 0.4858857220782763 and parameters: {'n_neighbors': 6, 'p': 2}. Best is trial 22 with value: 0.49938633574253377.\n",
      "[I 2025-06-04 21:22:36,100] Trial 36 finished with value: 0.4823401063684713 and parameters: {'n_neighbors': 5, 'p': 1}. Best is trial 22 with value: 0.49938633574253377.\n",
      "[I 2025-06-04 21:22:38,324] Trial 37 finished with value: 0.47347606709395884 and parameters: {'n_neighbors': 13, 'p': 2}. Best is trial 22 with value: 0.49938633574253377.\n",
      "[I 2025-06-04 21:22:40,632] Trial 38 finished with value: 0.4886131187781263 and parameters: {'n_neighbors': 7, 'p': 2}. Best is trial 22 with value: 0.49938633574253377.\n",
      "[I 2025-06-04 21:22:43,322] Trial 39 finished with value: 0.46447565798445384 and parameters: {'n_neighbors': 9, 'p': 1}. Best is trial 22 with value: 0.49938633574253377.\n",
      "[I 2025-06-04 21:22:45,544] Trial 40 finished with value: 0.4556116187099414 and parameters: {'n_neighbors': 18, 'p': 2}. Best is trial 22 with value: 0.49938633574253377.\n",
      "[I 2025-06-04 21:22:47,714] Trial 41 finished with value: 0.49938633574253377 and parameters: {'n_neighbors': 5, 'p': 2}. Best is trial 22 with value: 0.49938633574253377.\n",
      "[I 2025-06-04 21:22:49,967] Trial 42 finished with value: 0.4858857220782763 and parameters: {'n_neighbors': 6, 'p': 2}. Best is trial 22 with value: 0.49938633574253377.\n",
      "[I 2025-06-04 21:22:52,120] Trial 43 finished with value: 0.4936588026728488 and parameters: {'n_neighbors': 4, 'p': 2}. Best is trial 22 with value: 0.49938633574253377.\n",
      "[I 2025-06-04 21:22:54,447] Trial 44 finished with value: 0.4936588026728488 and parameters: {'n_neighbors': 4, 'p': 2}. Best is trial 22 with value: 0.49938633574253377.\n",
      "[I 2025-06-04 21:22:56,729] Trial 45 finished with value: 0.4839765443883813 and parameters: {'n_neighbors': 8, 'p': 2}. Best is trial 22 with value: 0.49938633574253377.\n",
      "[I 2025-06-04 21:22:59,162] Trial 46 finished with value: 0.4430655938906314 and parameters: {'n_neighbors': 22, 'p': 2}. Best is trial 22 with value: 0.49938633574253377.\n",
      "[I 2025-06-04 21:23:01,732] Trial 47 finished with value: 0.4612027819446338 and parameters: {'n_neighbors': 10, 'p': 1}. Best is trial 22 with value: 0.49938633574253377.\n",
      "[I 2025-06-04 21:23:03,971] Trial 48 finished with value: 0.4858857220782763 and parameters: {'n_neighbors': 6, 'p': 2}. Best is trial 22 with value: 0.49938633574253377.\n",
      "[I 2025-06-04 21:23:06,285] Trial 49 finished with value: 0.4936588026728488 and parameters: {'n_neighbors': 4, 'p': 2}. Best is trial 22 with value: 0.49938633574253377.\n",
      "2025/06/04 21:23:24 WARNING mlflow.models.model: Model logged without a signature and input example. Please set `input_example` parameter when logging the model to auto infer the model signature.\n"
     ]
    },
    {
     "name": "stdout",
     "output_type": "stream",
     "text": [
      "🏃 View run KNN_BoW_bigrams_1000_undersampling at: https://dagshub.com/SushrutGaikwad/youtube-comments-analyzer.mlflow/#/experiments/5/runs/54821890f7c64da5861a073248be71d6\n",
      "🧪 View experiment at: https://dagshub.com/SushrutGaikwad/youtube-comments-analyzer.mlflow/#/experiments/5\n"
     ]
    }
   ],
   "source": [
    "run_experiment()"
   ]
  }
 ],
 "metadata": {
  "kernelspec": {
   "display_name": "venv",
   "language": "python",
   "name": "python3"
  },
  "language_info": {
   "codemirror_mode": {
    "name": "ipython",
    "version": 3
   },
   "file_extension": ".py",
   "mimetype": "text/x-python",
   "name": "python",
   "nbconvert_exporter": "python",
   "pygments_lexer": "ipython3",
   "version": "3.11.12"
  }
 },
 "nbformat": 4,
 "nbformat_minor": 5
}
