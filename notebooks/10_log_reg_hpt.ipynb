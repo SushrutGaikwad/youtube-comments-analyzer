{
 "cells": [
  {
   "cell_type": "code",
   "execution_count": 1,
   "id": "95b5144b",
   "metadata": {},
   "outputs": [],
   "source": [
    "# Imports\n",
    "\n",
    "import optuna\n",
    "import mlflow\n",
    "import dagshub\n",
    "import mlflow.sklearn\n",
    "\n",
    "import numpy as np\n",
    "import pandas as pd\n",
    "import seaborn as sns\n",
    "import matplotlib.pyplot as plt\n",
    "\n",
    "from imblearn.under_sampling import RandomUnderSampler\n",
    "from sklearn.feature_extraction.text import CountVectorizer\n",
    "from sklearn.model_selection import train_test_split\n",
    "from sklearn.linear_model import LogisticRegression\n",
    "from sklearn.metrics import accuracy_score, classification_report, confusion_matrix"
   ]
  },
  {
   "cell_type": "code",
   "execution_count": 2,
   "id": "cc0490d0",
   "metadata": {},
   "outputs": [
    {
     "data": {
      "text/html": [
       "<pre style=\"white-space:pre;overflow-x:auto;line-height:normal;font-family:Menlo,'DejaVu Sans Mono',consolas,'Courier New',monospace\">Accessing as SushrutGaikwad\n",
       "</pre>\n"
      ],
      "text/plain": [
       "Accessing as SushrutGaikwad\n"
      ]
     },
     "metadata": {},
     "output_type": "display_data"
    },
    {
     "data": {
      "text/html": [
       "<pre style=\"white-space:pre;overflow-x:auto;line-height:normal;font-family:Menlo,'DejaVu Sans Mono',consolas,'Courier New',monospace\">Initialized MLflow to track repo <span style=\"color: #008000; text-decoration-color: #008000\">\"SushrutGaikwad/youtube-comments-analyzer\"</span>\n",
       "</pre>\n"
      ],
      "text/plain": [
       "Initialized MLflow to track repo \u001b[32m\"SushrutGaikwad/youtube-comments-analyzer\"\u001b[0m\n"
      ]
     },
     "metadata": {},
     "output_type": "display_data"
    },
    {
     "data": {
      "text/html": [
       "<pre style=\"white-space:pre;overflow-x:auto;line-height:normal;font-family:Menlo,'DejaVu Sans Mono',consolas,'Courier New',monospace\">Repository SushrutGaikwad/youtube-comments-analyzer initialized!\n",
       "</pre>\n"
      ],
      "text/plain": [
       "Repository SushrutGaikwad/youtube-comments-analyzer initialized!\n"
      ]
     },
     "metadata": {},
     "output_type": "display_data"
    }
   ],
   "source": [
    "# Setting up DagsHub\n",
    "\n",
    "dagshub.init(repo_owner='SushrutGaikwad', repo_name='youtube-comments-analyzer', mlflow=True)"
   ]
  },
  {
   "cell_type": "markdown",
   "id": "03e5411a",
   "metadata": {},
   "source": [
    "# Data"
   ]
  },
  {
   "cell_type": "code",
   "execution_count": 3,
   "id": "17413582",
   "metadata": {},
   "outputs": [
    {
     "data": {
      "text/plain": [
       "(36662, 2)"
      ]
     },
     "execution_count": 3,
     "metadata": {},
     "output_type": "execute_result"
    }
   ],
   "source": [
    "PREPROCESSED_DATA_PATH = \"../data/processed/reddit_preprocessed.csv\"\n",
    "df = pd.read_csv(PREPROCESSED_DATA_PATH)\n",
    "df.dropna(subset=[\"clean_comment\"], inplace=True)\n",
    "df.shape"
   ]
  },
  {
   "cell_type": "markdown",
   "id": "c79cb0a6",
   "metadata": {},
   "source": [
    "# Running the experiment"
   ]
  },
  {
   "cell_type": "code",
   "execution_count": 4,
   "id": "bf1ea654",
   "metadata": {},
   "outputs": [
    {
     "data": {
      "text/plain": [
       "<Experiment: artifact_location='mlflow-artifacts:/3f66177ebab24d6392ce8f143c28100b', creation_time=1749046747756, experiment_id='5', last_update_time=1749046747756, lifecycle_stage='active', name='Exp 4: ML algorithms with hyperparameter tuning', tags={}>"
      ]
     },
     "execution_count": 4,
     "metadata": {},
     "output_type": "execute_result"
    }
   ],
   "source": [
    "# Setting experiment name\n",
    "\n",
    "mlflow.set_experiment(\"Exp 4: ML algorithms with hyperparameter tuning\")"
   ]
  },
  {
   "cell_type": "markdown",
   "id": "a0776b02",
   "metadata": {},
   "source": [
    "## Preprocessing"
   ]
  },
  {
   "cell_type": "code",
   "execution_count": 5,
   "id": "cf9575f9",
   "metadata": {},
   "outputs": [],
   "source": [
    "# Remapping class labels from {-1, 0, 1} to {2, 0, 1}\n",
    "mapping = {\n",
    "    -1: 2,\n",
    "    0: 0,\n",
    "    1: 1\n",
    "}\n",
    "df[\"category\"] = df[\"category\"].map(mapping)\n",
    "\n",
    "# Removing missing sentiments\n",
    "df.dropna(subset=[\"category\"], inplace=True)\n",
    "\n",
    "# Feature engineering\n",
    "ngram_range = (1, 2)\n",
    "max_features = 1000\n",
    "vectorizer = CountVectorizer(\n",
    "    ngram_range=ngram_range,\n",
    "    max_features=max_features\n",
    ")\n",
    "\n",
    "# Train-test split\n",
    "X_train, X_test, y_train, y_test = train_test_split(\n",
    "    df[\"clean_comment\"],\n",
    "    df[\"category\"],\n",
    "    test_size=0.2,\n",
    "    random_state=42,\n",
    "    stratify=df[\"category\"]\n",
    ")\n",
    "X_train_vectorized = vectorizer.fit_transform(X_train)\n",
    "X_test_vectorized = vectorizer.transform(X_test)\n",
    "\n",
    "# Undersampling\n",
    "rus = RandomUnderSampler(random_state=42)\n",
    "X_train_vectorized, y_train = rus.fit_resample(\n",
    "    X_train_vectorized,\n",
    "    y_train\n",
    ")"
   ]
  },
  {
   "cell_type": "markdown",
   "id": "7045fd8a",
   "metadata": {},
   "source": [
    "## Running the experiment"
   ]
  },
  {
   "cell_type": "code",
   "execution_count": 6,
   "id": "0b020a8e",
   "metadata": {},
   "outputs": [],
   "source": [
    "# Function to log results to MLFlow\n",
    "def log_to_mlflow(\n",
    "    model_name,\n",
    "    model,\n",
    "    X_train,\n",
    "    X_test,\n",
    "    y_train,\n",
    "    y_test\n",
    "):\n",
    "    with mlflow.start_run():\n",
    "        # Tags\n",
    "        mlflow.set_tag(\n",
    "            \"mlflow.runName\", f\"{model_name}_BoW_bigrams_1000_undersampling\"\n",
    "        )\n",
    "        mlflow.set_tag(\"experiment_type\", \"ML_models_comparison\")\n",
    "        \n",
    "        # Logging model name as a parameter\n",
    "        mlflow.log_param(\"model_name\", model_name)\n",
    "        \n",
    "        # Initializing and training the model\n",
    "        model.fit(X_train, y_train)\n",
    "        \n",
    "        # Making predictions on the test set and logging metrics\n",
    "        y_pred = model.predict(X_test)\n",
    "        \n",
    "        # Logging accuracy\n",
    "        accuracy = accuracy_score(\n",
    "            y_true=y_test,\n",
    "            y_pred=y_pred\n",
    "        )\n",
    "        mlflow.log_metric(\"accuracy\", accuracy)\n",
    "        \n",
    "        # Logging classification report metrics\n",
    "        classification_rep = classification_report(\n",
    "            y_true=y_test,\n",
    "            y_pred=y_pred,\n",
    "            output_dict=True\n",
    "        )\n",
    "        for label, metrics in classification_rep.items():\n",
    "            if isinstance(metrics, dict):\n",
    "                for metric, value in metrics.items():\n",
    "                    mlflow.log_metric(f\"{label}: {metric}\", value)\n",
    "        \n",
    "        # Logging the model\n",
    "        mlflow.sklearn.log_model(model, f\"{model_name}_model\")"
   ]
  },
  {
   "cell_type": "code",
   "execution_count": 7,
   "id": "828751e9",
   "metadata": {},
   "outputs": [],
   "source": [
    "# Optuna objective function\n",
    "def objective(trial):\n",
    "    C = trial.suggest_float(\"C\", 1e-4, 10.0, log=True)\n",
    "    penalty = trial.suggest_categorical(\n",
    "        \"penalty\", [\"l1\", \"l2\"]\n",
    "    )\n",
    "    \n",
    "    model = LogisticRegression(\n",
    "        C=C,\n",
    "        penalty=penalty,\n",
    "        solver=\"liblinear\",\n",
    "        random_state=42\n",
    "    )\n",
    "    model.fit(X_train_vectorized, y_train)\n",
    "    y_pred = model.predict(X_test_vectorized)\n",
    "    return accuracy_score(\n",
    "        y_true=y_test,\n",
    "        y_pred=y_pred\n",
    "    )"
   ]
  },
  {
   "cell_type": "code",
   "execution_count": 8,
   "id": "07b1ce1d",
   "metadata": {},
   "outputs": [],
   "source": [
    "def run_experiment():\n",
    "    study = optuna.create_study(direction=\"maximize\")\n",
    "    study.optimize(objective, n_trials=50)\n",
    "    \n",
    "    # Getting the best parameters and logging the best model\n",
    "    best_params = study.best_params\n",
    "    best_model = LogisticRegression(\n",
    "        C=best_params[\"C\"],\n",
    "        penalty=best_params[\"penalty\"],\n",
    "        solver=\"liblinear\",\n",
    "        random_state=42\n",
    "    )\n",
    "    log_to_mlflow(\n",
    "        model_name=\"LogisticRegression\",\n",
    "        model=best_model,\n",
    "        X_train=X_train_vectorized,\n",
    "        X_test=X_test_vectorized,\n",
    "        y_train=y_train,\n",
    "        y_test=y_test\n",
    "    )"
   ]
  },
  {
   "cell_type": "code",
   "execution_count": 9,
   "id": "22006bf2",
   "metadata": {},
   "outputs": [
    {
     "name": "stderr",
     "output_type": "stream",
     "text": [
      "[I 2025-06-04 21:13:26,852] A new study created in memory with name: no-name-5ef288d6-8863-4f94-8ec2-46c745346e97\n",
      "[I 2025-06-04 21:13:27,028] Trial 0 finished with value: 0.778671757807173 and parameters: {'C': 3.0414365410945003, 'penalty': 'l1'}. Best is trial 0 with value: 0.778671757807173.\n",
      "[I 2025-06-04 21:13:27,050] Trial 1 finished with value: 0.44879312696031637 and parameters: {'C': 0.00112881866866375, 'penalty': 'l1'}. Best is trial 0 with value: 0.778671757807173.\n",
      "[I 2025-06-04 21:13:27,157] Trial 2 finished with value: 0.7850811400518205 and parameters: {'C': 0.6939557446920596, 'penalty': 'l1'}. Best is trial 2 with value: 0.7850811400518205.\n",
      "[I 2025-06-04 21:13:27,174] Trial 3 finished with value: 0.3448793126960316 and parameters: {'C': 0.00027823959182235333, 'penalty': 'l1'}. Best is trial 2 with value: 0.7850811400518205.\n",
      "[I 2025-06-04 21:13:27,194] Trial 4 finished with value: 0.3448793126960316 and parameters: {'C': 0.0006266541559122352, 'penalty': 'l1'}. Best is trial 2 with value: 0.7850811400518205.\n",
      "[I 2025-06-04 21:13:27,290] Trial 5 finished with value: 0.7073503341060957 and parameters: {'C': 0.01616661999258293, 'penalty': 'l2'}. Best is trial 2 with value: 0.7850811400518205.\n",
      "[I 2025-06-04 21:13:27,306] Trial 6 finished with value: 0.3448793126960316 and parameters: {'C': 0.00016437790462538754, 'penalty': 'l1'}. Best is trial 2 with value: 0.7850811400518205.\n",
      "[I 2025-06-04 21:13:27,360] Trial 7 finished with value: 0.7822173735169781 and parameters: {'C': 0.23481667868584705, 'penalty': 'l1'}. Best is trial 2 with value: 0.7850811400518205.\n",
      "[I 2025-06-04 21:13:27,381] Trial 8 finished with value: 0.41292786035728896 and parameters: {'C': 0.0007868175813620402, 'penalty': 'l1'}. Best is trial 2 with value: 0.7850811400518205.\n",
      "[I 2025-06-04 21:13:27,433] Trial 9 finished with value: 0.7837174417018955 and parameters: {'C': 0.25217462268258256, 'penalty': 'l1'}. Best is trial 2 with value: 0.7850811400518205.\n",
      "d:\\projects\\DSMP2_p2\\youtube-comments-analyzer\\venv\\Lib\\site-packages\\sklearn\\svm\\_base.py:1249: ConvergenceWarning: Liblinear failed to converge, increase the number of iterations.\n",
      "  warnings.warn(\n",
      "[I 2025-06-04 21:13:28,204] Trial 10 finished with value: 0.7752625119323605 and parameters: {'C': 6.4164553655879155, 'penalty': 'l2'}. Best is trial 2 with value: 0.7850811400518205.\n",
      "[I 2025-06-04 21:13:28,395] Trial 11 finished with value: 0.7638074457929905 and parameters: {'C': 0.11717894944860394, 'penalty': 'l2'}. Best is trial 2 with value: 0.7850811400518205.\n",
      "[I 2025-06-04 21:13:28,503] Trial 12 finished with value: 0.7848084003818355 and parameters: {'C': 0.6149106852136804, 'penalty': 'l1'}. Best is trial 2 with value: 0.7850811400518205.\n",
      "[I 2025-06-04 21:13:28,642] Trial 13 finished with value: 0.7807173053320605 and parameters: {'C': 1.577196457588093, 'penalty': 'l1'}. Best is trial 2 with value: 0.7850811400518205.\n",
      "[I 2025-06-04 21:13:28,760] Trial 14 finished with value: 0.7173053320605483 and parameters: {'C': 0.020516903971265824, 'penalty': 'l2'}. Best is trial 2 with value: 0.7850811400518205.\n",
      "[I 2025-06-04 21:13:28,886] Trial 15 finished with value: 0.782490113186963 and parameters: {'C': 1.1122253028513425, 'penalty': 'l1'}. Best is trial 2 with value: 0.7850811400518205.\n",
      "[I 2025-06-04 21:13:28,939] Trial 16 finished with value: 0.7448520387290332 and parameters: {'C': 0.06717528453354323, 'penalty': 'l1'}. Best is trial 2 with value: 0.7850811400518205.\n",
      "[I 2025-06-04 21:13:29,031] Trial 17 finished with value: 0.7849447702168281 and parameters: {'C': 0.5648932221467118, 'penalty': 'l1'}. Best is trial 2 with value: 0.7850811400518205.\n",
      "[I 2025-06-04 21:13:29,107] Trial 18 finished with value: 0.6713486976680758 and parameters: {'C': 0.006720327006301117, 'penalty': 'l2'}. Best is trial 2 with value: 0.7850811400518205.\n",
      "[I 2025-06-04 21:13:29,284] Trial 19 finished with value: 0.7764898404472931 and parameters: {'C': 7.578329903597064, 'penalty': 'l1'}. Best is trial 2 with value: 0.7850811400518205.\n",
      "[I 2025-06-04 21:13:29,344] Trial 20 finished with value: 0.7858993590617755 and parameters: {'C': 0.33846704574578834, 'penalty': 'l1'}. Best is trial 20 with value: 0.7858993590617755.\n",
      "[I 2025-06-04 21:13:29,432] Trial 21 finished with value: 0.785762989226783 and parameters: {'C': 0.42689883771644216, 'penalty': 'l1'}. Best is trial 20 with value: 0.7858993590617755.\n",
      "[I 2025-06-04 21:13:29,470] Trial 22 finished with value: 0.7381699168144007 and parameters: {'C': 0.0594156759451939, 'penalty': 'l1'}. Best is trial 20 with value: 0.7858993590617755.\n",
      "[I 2025-06-04 21:13:29,523] Trial 23 finished with value: 0.7863084685667531 and parameters: {'C': 0.36488879614612096, 'penalty': 'l1'}. Best is trial 23 with value: 0.7863084685667531.\n",
      "[I 2025-06-04 21:13:29,572] Trial 24 finished with value: 0.7764898404472931 and parameters: {'C': 0.17933553474776345, 'penalty': 'l1'}. Best is trial 23 with value: 0.7863084685667531.\n",
      "[I 2025-06-04 21:13:29,604] Trial 25 finished with value: 0.49065866630301375 and parameters: {'C': 0.0045160166574435764, 'penalty': 'l1'}. Best is trial 23 with value: 0.7863084685667531.\n",
      "[I 2025-06-04 21:13:30,120] Trial 26 finished with value: 0.7760807309423156 and parameters: {'C': 2.349758386658514, 'penalty': 'l2'}. Best is trial 23 with value: 0.7863084685667531.\n",
      "[I 2025-06-04 21:13:30,160] Trial 27 finished with value: 0.7273966998499932 and parameters: {'C': 0.05107035389735303, 'penalty': 'l1'}. Best is trial 23 with value: 0.7863084685667531.\n",
      "[I 2025-06-04 21:13:30,232] Trial 28 finished with value: 0.785762989226783 and parameters: {'C': 0.42966954296503107, 'penalty': 'l1'}. Best is trial 23 with value: 0.7863084685667531.\n",
      "[I 2025-06-04 21:13:30,403] Trial 29 finished with value: 0.7785353879721806 and parameters: {'C': 3.6121478886869753, 'penalty': 'l1'}. Best is trial 23 with value: 0.7863084685667531.\n",
      "[I 2025-06-04 21:13:30,456] Trial 30 finished with value: 0.7659893631528706 and parameters: {'C': 0.10856455997990713, 'penalty': 'l1'}. Best is trial 23 with value: 0.7863084685667531.\n",
      "[I 2025-06-04 21:13:30,544] Trial 31 finished with value: 0.7861720987317605 and parameters: {'C': 0.4478911384966461, 'penalty': 'l1'}. Best is trial 23 with value: 0.7863084685667531.\n",
      "[I 2025-06-04 21:13:30,670] Trial 32 finished with value: 0.782490113186963 and parameters: {'C': 1.1004956862806587, 'penalty': 'l1'}. Best is trial 23 with value: 0.7863084685667531.\n",
      "[I 2025-06-04 21:13:30,722] Trial 33 finished with value: 0.785490249556798 and parameters: {'C': 0.3514013534597346, 'penalty': 'l1'}. Best is trial 23 with value: 0.7863084685667531.\n",
      "[I 2025-06-04 21:13:30,890] Trial 34 finished with value: 0.7785353879721806 and parameters: {'C': 2.9349853657250713, 'penalty': 'l1'}. Best is trial 23 with value: 0.7863084685667531.\n",
      "[I 2025-06-04 21:13:31,020] Trial 35 finished with value: 0.7831719623619255 and parameters: {'C': 0.9582766086597228, 'penalty': 'l1'}. Best is trial 23 with value: 0.7863084685667531.\n",
      "[I 2025-06-04 21:13:31,060] Trial 36 finished with value: 0.6799399972726033 and parameters: {'C': 0.026049438961840914, 'penalty': 'l1'}. Best is trial 23 with value: 0.7863084685667531.\n",
      "[I 2025-06-04 21:13:31,105] Trial 37 finished with value: 0.7734897040774581 and parameters: {'C': 0.14634732537029033, 'penalty': 'l1'}. Best is trial 23 with value: 0.7863084685667531.\n",
      "[I 2025-06-04 21:13:31,139] Trial 38 finished with value: 0.606163916541661 and parameters: {'C': 0.010984410399764862, 'penalty': 'l1'}. Best is trial 23 with value: 0.7863084685667531.\n",
      "[I 2025-06-04 21:13:31,197] Trial 39 finished with value: 0.6379380880949134 and parameters: {'C': 0.0023774213659640483, 'penalty': 'l2'}. Best is trial 23 with value: 0.7863084685667531.\n",
      "[I 2025-06-04 21:13:31,249] Trial 40 finished with value: 0.7853538797218055 and parameters: {'C': 0.29635825566778906, 'penalty': 'l1'}. Best is trial 23 with value: 0.7863084685667531.\n",
      "[I 2025-06-04 21:13:31,331] Trial 41 finished with value: 0.786035728896768 and parameters: {'C': 0.4486869431360177, 'penalty': 'l1'}. Best is trial 23 with value: 0.7863084685667531.\n",
      "[I 2025-06-04 21:13:31,486] Trial 42 finished with value: 0.779762716487113 and parameters: {'C': 2.0422872652597146, 'penalty': 'l1'}. Best is trial 23 with value: 0.7863084685667531.\n",
      "[I 2025-06-04 21:13:31,549] Trial 43 finished with value: 0.785762989226783 and parameters: {'C': 0.3929545255658216, 'penalty': 'l1'}. Best is trial 23 with value: 0.7863084685667531.\n",
      "[I 2025-06-04 21:13:31,662] Trial 44 finished with value: 0.7849447702168281 and parameters: {'C': 0.7012169222411155, 'penalty': 'l1'}. Best is trial 23 with value: 0.7863084685667531.\n",
      "[I 2025-06-04 21:13:31,706] Trial 45 finished with value: 0.758761761898268 and parameters: {'C': 0.09365698296089688, 'penalty': 'l1'}. Best is trial 23 with value: 0.7863084685667531.\n",
      "[I 2025-06-04 21:13:31,746] Trial 46 finished with value: 0.7110323196508932 and parameters: {'C': 0.04132519299773264, 'penalty': 'l1'}. Best is trial 23 with value: 0.7863084685667531.\n",
      "[I 2025-06-04 21:13:31,913] Trial 47 finished with value: 0.778399018137188 and parameters: {'C': 3.8533416643000034, 'penalty': 'l1'}. Best is trial 23 with value: 0.7863084685667531.\n",
      "[I 2025-06-04 21:13:32,142] Trial 48 finished with value: 0.7704895677076231 and parameters: {'C': 0.1873721282734517, 'penalty': 'l2'}. Best is trial 23 with value: 0.7863084685667531.\n",
      "[I 2025-06-04 21:13:32,281] Trial 49 finished with value: 0.781126414837038 and parameters: {'C': 1.39874567705191, 'penalty': 'l1'}. Best is trial 23 with value: 0.7863084685667531.\n",
      "2025/06/04 21:13:49 WARNING mlflow.models.model: Model logged without a signature and input example. Please set `input_example` parameter when logging the model to auto infer the model signature.\n"
     ]
    },
    {
     "name": "stdout",
     "output_type": "stream",
     "text": [
      "🏃 View run LogisticRegression_BoW_bigrams_1000_undersampling at: https://dagshub.com/SushrutGaikwad/youtube-comments-analyzer.mlflow/#/experiments/5/runs/b24236908d7e41e095ccbfeb23982cfe\n",
      "🧪 View experiment at: https://dagshub.com/SushrutGaikwad/youtube-comments-analyzer.mlflow/#/experiments/5\n"
     ]
    }
   ],
   "source": [
    "run_experiment()"
   ]
  }
 ],
 "metadata": {
  "kernelspec": {
   "display_name": "venv",
   "language": "python",
   "name": "python3"
  },
  "language_info": {
   "codemirror_mode": {
    "name": "ipython",
    "version": 3
   },
   "file_extension": ".py",
   "mimetype": "text/x-python",
   "name": "python",
   "nbconvert_exporter": "python",
   "pygments_lexer": "ipython3",
   "version": "3.11.12"
  }
 },
 "nbformat": 4,
 "nbformat_minor": 5
}
