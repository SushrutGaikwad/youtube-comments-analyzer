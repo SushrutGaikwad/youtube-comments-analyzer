{
 "cells": [
  {
   "cell_type": "code",
   "execution_count": 1,
   "id": "93fc6968",
   "metadata": {},
   "outputs": [],
   "source": [
    "# Imports\n",
    "\n",
    "import plotly\n",
    "import optuna\n",
    "import mlflow\n",
    "import dagshub\n",
    "import mlflow.sklearn\n",
    "\n",
    "import numpy as np\n",
    "import pandas as pd\n",
    "import seaborn as sns\n",
    "import matplotlib.pyplot as plt\n",
    "\n",
    "from imblearn.under_sampling import RandomUnderSampler\n",
    "from sklearn.feature_extraction.text import CountVectorizer\n",
    "from sklearn.model_selection import train_test_split\n",
    "from xgboost import XGBClassifier\n",
    "from sklearn.metrics import accuracy_score, classification_report, confusion_matrix"
   ]
  },
  {
   "cell_type": "code",
   "execution_count": 2,
   "id": "5daceb37",
   "metadata": {},
   "outputs": [
    {
     "data": {
      "text/html": [
       "<pre style=\"white-space:pre;overflow-x:auto;line-height:normal;font-family:Menlo,'DejaVu Sans Mono',consolas,'Courier New',monospace\">Accessing as SushrutGaikwad\n",
       "</pre>\n"
      ],
      "text/plain": [
       "Accessing as SushrutGaikwad\n"
      ]
     },
     "metadata": {},
     "output_type": "display_data"
    },
    {
     "data": {
      "text/html": [
       "<pre style=\"white-space:pre;overflow-x:auto;line-height:normal;font-family:Menlo,'DejaVu Sans Mono',consolas,'Courier New',monospace\">Initialized MLflow to track repo <span style=\"color: #008000; text-decoration-color: #008000\">\"SushrutGaikwad/youtube-comments-analyzer\"</span>\n",
       "</pre>\n"
      ],
      "text/plain": [
       "Initialized MLflow to track repo \u001b[32m\"SushrutGaikwad/youtube-comments-analyzer\"\u001b[0m\n"
      ]
     },
     "metadata": {},
     "output_type": "display_data"
    },
    {
     "data": {
      "text/html": [
       "<pre style=\"white-space:pre;overflow-x:auto;line-height:normal;font-family:Menlo,'DejaVu Sans Mono',consolas,'Courier New',monospace\">Repository SushrutGaikwad/youtube-comments-analyzer initialized!\n",
       "</pre>\n"
      ],
      "text/plain": [
       "Repository SushrutGaikwad/youtube-comments-analyzer initialized!\n"
      ]
     },
     "metadata": {},
     "output_type": "display_data"
    }
   ],
   "source": [
    "# Setting up DagsHub\n",
    "\n",
    "dagshub.init(repo_owner='SushrutGaikwad', repo_name='youtube-comments-analyzer', mlflow=True)"
   ]
  },
  {
   "cell_type": "markdown",
   "id": "ed8eaaa8",
   "metadata": {},
   "source": [
    "# Data"
   ]
  },
  {
   "cell_type": "code",
   "execution_count": 3,
   "id": "0f767be7",
   "metadata": {},
   "outputs": [
    {
     "data": {
      "text/plain": [
       "(36662, 2)"
      ]
     },
     "execution_count": 3,
     "metadata": {},
     "output_type": "execute_result"
    }
   ],
   "source": [
    "PREPROCESSED_DATA_PATH = \"../data/processed/reddit_preprocessed.csv\"\n",
    "df = pd.read_csv(PREPROCESSED_DATA_PATH)\n",
    "df.dropna(subset=[\"clean_comment\"], inplace=True)\n",
    "df.shape"
   ]
  },
  {
   "cell_type": "markdown",
   "id": "c8a5a5f5",
   "metadata": {},
   "source": [
    "# Running the experiment"
   ]
  },
  {
   "cell_type": "code",
   "execution_count": 4,
   "id": "21de00da",
   "metadata": {},
   "outputs": [
    {
     "data": {
      "text/plain": [
       "<Experiment: artifact_location='mlflow-artifacts:/50f3ef58d8344cd3bd0def333af39f2d', creation_time=1749058038347, experiment_id='6', last_update_time=1749064965442, lifecycle_stage='active', name='Exp 5: Detailed hyperparameter tuning', tags={}>"
      ]
     },
     "execution_count": 4,
     "metadata": {},
     "output_type": "execute_result"
    }
   ],
   "source": [
    "# Setting experiment name\n",
    "\n",
    "mlflow.set_experiment(\"Exp 5: Detailed hyperparameter tuning\")"
   ]
  },
  {
   "cell_type": "markdown",
   "id": "05f541ae",
   "metadata": {},
   "source": [
    "## Preprocessing"
   ]
  },
  {
   "cell_type": "code",
   "execution_count": 5,
   "id": "fa597527",
   "metadata": {},
   "outputs": [],
   "source": [
    "# Remapping class labels from {-1, 0, 1} to {2, 0, 1}\n",
    "mapping = {\n",
    "    -1: 2,\n",
    "    0: 0,\n",
    "    1: 1\n",
    "}\n",
    "df[\"category\"] = df[\"category\"].map(mapping)\n",
    "\n",
    "# Removing missing sentiments\n",
    "df.dropna(subset=[\"category\"], inplace=True)\n",
    "\n",
    "# Feature engineering\n",
    "ngram_range = (1, 2)\n",
    "max_features = 1000\n",
    "vectorizer = CountVectorizer(\n",
    "    ngram_range=ngram_range,\n",
    "    max_features=max_features\n",
    ")\n",
    "\n",
    "# Train-test split\n",
    "X_train, X_test, y_train, y_test = train_test_split(\n",
    "    df[\"clean_comment\"],\n",
    "    df[\"category\"],\n",
    "    test_size=0.2,\n",
    "    random_state=42,\n",
    "    stratify=df[\"category\"]\n",
    ")\n",
    "X_train_vectorized = vectorizer.fit_transform(X_train)\n",
    "X_test_vectorized = vectorizer.transform(X_test)\n",
    "\n",
    "# Undersampling\n",
    "rus = RandomUnderSampler(random_state=42)\n",
    "X_train_vectorized, y_train = rus.fit_resample(\n",
    "    X_train_vectorized,\n",
    "    y_train\n",
    ")"
   ]
  },
  {
   "cell_type": "markdown",
   "id": "faa691b6",
   "metadata": {},
   "source": [
    "## Running the experiment"
   ]
  },
  {
   "cell_type": "code",
   "execution_count": 6,
   "id": "205ec611",
   "metadata": {},
   "outputs": [],
   "source": [
    "# Function to log results to MLFlow\n",
    "def log_to_mlflow(\n",
    "    model_name,\n",
    "    model,\n",
    "    X_train,\n",
    "    X_test,\n",
    "    y_train,\n",
    "    y_test,\n",
    "    params,\n",
    "    trial_number\n",
    "):\n",
    "    with mlflow.start_run():\n",
    "        # Tags\n",
    "        mlflow.set_tag(\n",
    "            \"mlflow.runName\", f\"Trial_{trial_number}_{model_name}_undersampling_BoW_1000_bigrams\"\n",
    "        )\n",
    "        mlflow.set_tag(\"experiment_type\", \"ML_models_comparison\")\n",
    "        \n",
    "        # Logging model name as a parameter\n",
    "        mlflow.log_param(\"model_name\", model_name)\n",
    "        \n",
    "        # Logging hyperparameters\n",
    "        for key, value in params.items():\n",
    "            mlflow.log_param(key, value)\n",
    "        \n",
    "        # Initializing and training the model\n",
    "        model.fit(X_train, y_train)\n",
    "        \n",
    "        # Making predictions on the test set and logging metrics\n",
    "        y_pred = model.predict(X_test)\n",
    "        \n",
    "        # Logging accuracy\n",
    "        accuracy = accuracy_score(\n",
    "            y_true=y_test,\n",
    "            y_pred=y_pred\n",
    "        )\n",
    "        mlflow.log_metric(\"accuracy\", accuracy)\n",
    "        \n",
    "        # Logging classification report metrics\n",
    "        classification_rep = classification_report(\n",
    "            y_true=y_test,\n",
    "            y_pred=y_pred,\n",
    "            output_dict=True\n",
    "        )\n",
    "        for label, metrics in classification_rep.items():\n",
    "            if isinstance(metrics, dict):\n",
    "                for metric, value in metrics.items():\n",
    "                    mlflow.log_metric(f\"{label}: {metric}\", value)\n",
    "        \n",
    "        # Logging the model\n",
    "        mlflow.sklearn.log_model(model, f\"{model_name}_model\")\n",
    "        \n",
    "        return accuracy"
   ]
  },
  {
   "cell_type": "code",
   "execution_count": 7,
   "id": "daec1968",
   "metadata": {},
   "outputs": [],
   "source": [
    "def objective(trial):\n",
    "    # Hyperparameter space\n",
    "    n_estimators = trial.suggest_int(\"n_estimators\", 100, 1000)\n",
    "    learning_rate = trial.suggest_float(\"learning_rate\", 1e-4, 1e-1, log=True)\n",
    "    max_depth = trial.suggest_int(\"max_depth\", 3, 15)\n",
    "    subsample = trial.suggest_float(\"subsample\", 0.5, 1.0)\n",
    "    colsample_bytree = trial.suggest_float(\"colsample_bytree\", 0.5, 1.0)\n",
    "    gamma = trial.suggest_float(\"gamma\", 0, 5)\n",
    "    reg_alpha = trial.suggest_float(\"reg_alpha\", 1e-4, 10.0, log=True)\n",
    "    reg_lambda = trial.suggest_float(\"reg_lambda\", 1e-4, 10.0, log=True)\n",
    "    \n",
    "    params = {\n",
    "        \"n_estimators\": n_estimators,\n",
    "        \"learning_rate\": learning_rate,\n",
    "        \"max_depth\": max_depth,\n",
    "        \"subsample\": subsample,\n",
    "        \"colsample_bytree\": colsample_bytree,\n",
    "        \"gamma\": gamma,\n",
    "        \"reg_alpha\": reg_alpha,\n",
    "        \"reg_lambda\": reg_lambda\n",
    "    }\n",
    "    \n",
    "    model = XGBClassifier(\n",
    "        n_estimators=n_estimators,\n",
    "        learning_rate=learning_rate,\n",
    "        max_depth=max_depth,\n",
    "        subsample=subsample,\n",
    "        colsample_bytree=colsample_bytree,\n",
    "        gamma=gamma,\n",
    "        reg_alpha=reg_alpha,\n",
    "        reg_lambda=reg_lambda,\n",
    "        random_state=42,\n",
    "        n_jobs=-1\n",
    "    )\n",
    "    \n",
    "    # Logging each trial as a separate run\n",
    "    accuracy = log_to_mlflow(\n",
    "        model_name=\"XGBoost\",\n",
    "        model=model,\n",
    "        X_train=X_train_vectorized,\n",
    "        X_test=X_test_vectorized,\n",
    "        y_train=y_train,\n",
    "        y_test=y_test,\n",
    "        params=params,\n",
    "        trial_number=trial.number\n",
    "    )\n",
    "    \n",
    "    return accuracy"
   ]
  },
  {
   "cell_type": "code",
   "execution_count": 8,
   "id": "1b2bdcb8",
   "metadata": {},
   "outputs": [
    {
     "name": "stderr",
     "output_type": "stream",
     "text": [
      "[I 2025-06-05 00:53:58,660] A new study created in memory with name: no-name-6ad965c3-8317-4bcd-8bc8-f0aedbd1c03b\n",
      "2025/06/05 00:54:26 WARNING mlflow.models.model: Model logged without a signature and input example. Please set `input_example` parameter when logging the model to auto infer the model signature.\n"
     ]
    },
    {
     "name": "stdout",
     "output_type": "stream",
     "text": [
      "🏃 View run Trial_0_XGBoost_undersampling_BoW_1000_bigrams at: https://dagshub.com/SushrutGaikwad/youtube-comments-analyzer.mlflow/#/experiments/6/runs/38d3fbc574b84130b4b0da821364cf4b\n",
      "🧪 View experiment at: https://dagshub.com/SushrutGaikwad/youtube-comments-analyzer.mlflow/#/experiments/6\n"
     ]
    },
    {
     "name": "stderr",
     "output_type": "stream",
     "text": [
      "[I 2025-06-05 00:54:32,497] Trial 0 finished with value: 0.584072003272876 and parameters: {'n_estimators': 912, 'learning_rate': 0.00012551519198700936, 'max_depth': 6, 'subsample': 0.526167618143076, 'colsample_bytree': 0.9466050627637463, 'gamma': 1.216484884032576, 'reg_alpha': 0.010980997223880951, 'reg_lambda': 5.742867085334908}. Best is trial 0 with value: 0.584072003272876.\n",
      "2025/06/05 00:55:07 WARNING mlflow.models.model: Model logged without a signature and input example. Please set `input_example` parameter when logging the model to auto infer the model signature.\n"
     ]
    },
    {
     "name": "stdout",
     "output_type": "stream",
     "text": [
      "🏃 View run Trial_1_XGBoost_undersampling_BoW_1000_bigrams at: https://dagshub.com/SushrutGaikwad/youtube-comments-analyzer.mlflow/#/experiments/6/runs/266f17a0b9e1402a9afb7f0c4d0a38ca\n",
      "🧪 View experiment at: https://dagshub.com/SushrutGaikwad/youtube-comments-analyzer.mlflow/#/experiments/6\n"
     ]
    },
    {
     "name": "stderr",
     "output_type": "stream",
     "text": [
      "[I 2025-06-05 00:55:12,170] Trial 1 finished with value: 0.6702577389881358 and parameters: {'n_estimators': 252, 'learning_rate': 0.004590196515363164, 'max_depth': 10, 'subsample': 0.9619760293006714, 'colsample_bytree': 0.6807266982550868, 'gamma': 0.4812308512110547, 'reg_alpha': 0.014268011523763521, 'reg_lambda': 0.12185371052100098}. Best is trial 1 with value: 0.6702577389881358.\n",
      "2025/06/05 00:55:48 WARNING mlflow.models.model: Model logged without a signature and input example. Please set `input_example` parameter when logging the model to auto infer the model signature.\n"
     ]
    },
    {
     "name": "stdout",
     "output_type": "stream",
     "text": [
      "🏃 View run Trial_2_XGBoost_undersampling_BoW_1000_bigrams at: https://dagshub.com/SushrutGaikwad/youtube-comments-analyzer.mlflow/#/experiments/6/runs/75e7485ba306435095286fec0bd19e29\n",
      "🧪 View experiment at: https://dagshub.com/SushrutGaikwad/youtube-comments-analyzer.mlflow/#/experiments/6\n"
     ]
    },
    {
     "name": "stderr",
     "output_type": "stream",
     "text": [
      "[I 2025-06-05 00:55:55,333] Trial 2 finished with value: 0.7119869084958407 and parameters: {'n_estimators': 645, 'learning_rate': 0.0071738903732326735, 'max_depth': 9, 'subsample': 0.832278747256372, 'colsample_bytree': 0.9702448981455923, 'gamma': 1.0714663983229356, 'reg_alpha': 0.47925234225142377, 'reg_lambda': 0.00027188185719115526}. Best is trial 2 with value: 0.7119869084958407.\n",
      "2025/06/05 00:56:31 WARNING mlflow.models.model: Model logged without a signature and input example. Please set `input_example` parameter when logging the model to auto infer the model signature.\n"
     ]
    },
    {
     "name": "stdout",
     "output_type": "stream",
     "text": [
      "🏃 View run Trial_3_XGBoost_undersampling_BoW_1000_bigrams at: https://dagshub.com/SushrutGaikwad/youtube-comments-analyzer.mlflow/#/experiments/6/runs/1939aa88005942ffb98150ff0ae50c38\n",
      "🧪 View experiment at: https://dagshub.com/SushrutGaikwad/youtube-comments-analyzer.mlflow/#/experiments/6\n"
     ]
    },
    {
     "name": "stderr",
     "output_type": "stream",
     "text": [
      "[I 2025-06-05 00:56:36,388] Trial 3 finished with value: 0.7651711441429155 and parameters: {'n_estimators': 152, 'learning_rate': 0.09324479690973221, 'max_depth': 13, 'subsample': 0.58696680240221, 'colsample_bytree': 0.6233059000451722, 'gamma': 4.603985834903574, 'reg_alpha': 0.0001400840906248679, 'reg_lambda': 0.7377371914377515}. Best is trial 3 with value: 0.7651711441429155.\n",
      "2025/06/05 00:57:12 WARNING mlflow.models.model: Model logged without a signature and input example. Please set `input_example` parameter when logging the model to auto infer the model signature.\n"
     ]
    },
    {
     "name": "stdout",
     "output_type": "stream",
     "text": [
      "🏃 View run Trial_4_XGBoost_undersampling_BoW_1000_bigrams at: https://dagshub.com/SushrutGaikwad/youtube-comments-analyzer.mlflow/#/experiments/6/runs/ee6a734fe258460cb43c6eb17b2fc599\n",
      "🧪 View experiment at: https://dagshub.com/SushrutGaikwad/youtube-comments-analyzer.mlflow/#/experiments/6\n"
     ]
    },
    {
     "name": "stderr",
     "output_type": "stream",
     "text": [
      "[I 2025-06-05 00:57:18,278] Trial 4 finished with value: 0.6481658257193509 and parameters: {'n_estimators': 645, 'learning_rate': 0.0002563424651013892, 'max_depth': 9, 'subsample': 0.5130379620434099, 'colsample_bytree': 0.7556705997933467, 'gamma': 0.9467289626944675, 'reg_alpha': 0.05948569154593261, 'reg_lambda': 0.2632618509107708}. Best is trial 3 with value: 0.7651711441429155.\n",
      "2025/06/05 00:57:53 WARNING mlflow.models.model: Model logged without a signature and input example. Please set `input_example` parameter when logging the model to auto infer the model signature.\n"
     ]
    },
    {
     "name": "stdout",
     "output_type": "stream",
     "text": [
      "🏃 View run Trial_5_XGBoost_undersampling_BoW_1000_bigrams at: https://dagshub.com/SushrutGaikwad/youtube-comments-analyzer.mlflow/#/experiments/6/runs/f9d129ff1f0b4a4280d848eafdb972d9\n",
      "🧪 View experiment at: https://dagshub.com/SushrutGaikwad/youtube-comments-analyzer.mlflow/#/experiments/6\n"
     ]
    },
    {
     "name": "stderr",
     "output_type": "stream",
     "text": [
      "[I 2025-06-05 00:58:00,161] Trial 5 finished with value: 0.590890495022501 and parameters: {'n_estimators': 150, 'learning_rate': 0.006900897696377967, 'max_depth': 3, 'subsample': 0.850860109390414, 'colsample_bytree': 0.5940996348190435, 'gamma': 3.7551853920809206, 'reg_alpha': 0.007023057107587686, 'reg_lambda': 0.006518746578025733}. Best is trial 3 with value: 0.7651711441429155.\n",
      "2025/06/05 00:58:35 WARNING mlflow.models.model: Model logged without a signature and input example. Please set `input_example` parameter when logging the model to auto infer the model signature.\n"
     ]
    },
    {
     "name": "stdout",
     "output_type": "stream",
     "text": [
      "🏃 View run Trial_6_XGBoost_undersampling_BoW_1000_bigrams at: https://dagshub.com/SushrutGaikwad/youtube-comments-analyzer.mlflow/#/experiments/6/runs/553a963422244e47be69e0cff5ffe920\n",
      "🧪 View experiment at: https://dagshub.com/SushrutGaikwad/youtube-comments-analyzer.mlflow/#/experiments/6\n"
     ]
    },
    {
     "name": "stderr",
     "output_type": "stream",
     "text": [
      "[I 2025-06-05 00:58:42,168] Trial 6 finished with value: 0.7788081276421656 and parameters: {'n_estimators': 443, 'learning_rate': 0.05732627698663634, 'max_depth': 10, 'subsample': 0.8161140397591217, 'colsample_bytree': 0.8656584565839482, 'gamma': 3.0406641292236696, 'reg_alpha': 0.28470883128936003, 'reg_lambda': 0.004763114428892405}. Best is trial 6 with value: 0.7788081276421656.\n",
      "2025/06/05 00:59:18 WARNING mlflow.models.model: Model logged without a signature and input example. Please set `input_example` parameter when logging the model to auto infer the model signature.\n"
     ]
    },
    {
     "name": "stdout",
     "output_type": "stream",
     "text": [
      "🏃 View run Trial_7_XGBoost_undersampling_BoW_1000_bigrams at: https://dagshub.com/SushrutGaikwad/youtube-comments-analyzer.mlflow/#/experiments/6/runs/0112a5475c184c0fa451f2fb0440f5d9\n",
      "🧪 View experiment at: https://dagshub.com/SushrutGaikwad/youtube-comments-analyzer.mlflow/#/experiments/6\n"
     ]
    },
    {
     "name": "stderr",
     "output_type": "stream",
     "text": [
      "[I 2025-06-05 00:59:24,389] Trial 7 finished with value: 0.7704895677076231 and parameters: {'n_estimators': 726, 'learning_rate': 0.023165939366471676, 'max_depth': 15, 'subsample': 0.7317843922424881, 'colsample_bytree': 0.5302685744726738, 'gamma': 3.4899589337311476, 'reg_alpha': 1.0763361174983013, 'reg_lambda': 0.00043954167278930083}. Best is trial 6 with value: 0.7788081276421656.\n",
      "2025/06/05 01:00:00 WARNING mlflow.models.model: Model logged without a signature and input example. Please set `input_example` parameter when logging the model to auto infer the model signature.\n"
     ]
    },
    {
     "name": "stdout",
     "output_type": "stream",
     "text": [
      "🏃 View run Trial_8_XGBoost_undersampling_BoW_1000_bigrams at: https://dagshub.com/SushrutGaikwad/youtube-comments-analyzer.mlflow/#/experiments/6/runs/e5a3a7785ea14b43b8f4244212b59283\n",
      "🧪 View experiment at: https://dagshub.com/SushrutGaikwad/youtube-comments-analyzer.mlflow/#/experiments/6\n"
     ]
    },
    {
     "name": "stderr",
     "output_type": "stream",
     "text": [
      "[I 2025-06-05 01:00:07,060] Trial 8 finished with value: 0.6537569889540433 and parameters: {'n_estimators': 992, 'learning_rate': 0.0002318766332956606, 'max_depth': 11, 'subsample': 0.8381933361166256, 'colsample_bytree': 0.8191270694748702, 'gamma': 3.7700112894670834, 'reg_alpha': 0.24954236153592102, 'reg_lambda': 0.0014308769385768091}. Best is trial 6 with value: 0.7788081276421656.\n",
      "2025/06/05 01:00:42 WARNING mlflow.models.model: Model logged without a signature and input example. Please set `input_example` parameter when logging the model to auto infer the model signature.\n"
     ]
    },
    {
     "name": "stdout",
     "output_type": "stream",
     "text": [
      "🏃 View run Trial_9_XGBoost_undersampling_BoW_1000_bigrams at: https://dagshub.com/SushrutGaikwad/youtube-comments-analyzer.mlflow/#/experiments/6/runs/63fff31a368340eea337854a541c383c\n",
      "🧪 View experiment at: https://dagshub.com/SushrutGaikwad/youtube-comments-analyzer.mlflow/#/experiments/6\n"
     ]
    },
    {
     "name": "stderr",
     "output_type": "stream",
     "text": [
      "[I 2025-06-05 01:00:48,188] Trial 9 finished with value: 0.592254193372426 and parameters: {'n_estimators': 525, 'learning_rate': 0.0003195443848785606, 'max_depth': 6, 'subsample': 0.899089514087854, 'colsample_bytree': 0.8034326366799478, 'gamma': 3.6926876806871363, 'reg_alpha': 0.0002248158089341104, 'reg_lambda': 0.09560712052813129}. Best is trial 6 with value: 0.7788081276421656.\n",
      "2025/06/05 01:01:24 WARNING mlflow.models.model: Model logged without a signature and input example. Please set `input_example` parameter when logging the model to auto infer the model signature.\n"
     ]
    },
    {
     "name": "stdout",
     "output_type": "stream",
     "text": [
      "🏃 View run Trial_10_XGBoost_undersampling_BoW_1000_bigrams at: https://dagshub.com/SushrutGaikwad/youtube-comments-analyzer.mlflow/#/experiments/6/runs/db491773598b4e9fa24d46abfeb1a860\n",
      "🧪 View experiment at: https://dagshub.com/SushrutGaikwad/youtube-comments-analyzer.mlflow/#/experiments/6\n"
     ]
    },
    {
     "name": "stderr",
     "output_type": "stream",
     "text": [
      "[I 2025-06-05 01:01:30,612] Trial 10 finished with value: 0.591981453702441 and parameters: {'n_estimators': 403, 'learning_rate': 0.0012675875614758035, 'max_depth': 6, 'subsample': 0.6887748193843679, 'colsample_bytree': 0.8743942831895058, 'gamma': 2.219344061360464, 'reg_alpha': 5.4297273433802875, 'reg_lambda': 0.01002846671057557}. Best is trial 6 with value: 0.7788081276421656.\n",
      "2025/06/05 01:02:06 WARNING mlflow.models.model: Model logged without a signature and input example. Please set `input_example` parameter when logging the model to auto infer the model signature.\n"
     ]
    },
    {
     "name": "stdout",
     "output_type": "stream",
     "text": [
      "🏃 View run Trial_11_XGBoost_undersampling_BoW_1000_bigrams at: https://dagshub.com/SushrutGaikwad/youtube-comments-analyzer.mlflow/#/experiments/6/runs/56cae289d8034330a617d863f3cef6d4\n",
      "🧪 View experiment at: https://dagshub.com/SushrutGaikwad/youtube-comments-analyzer.mlflow/#/experiments/6\n"
     ]
    },
    {
     "name": "stderr",
     "output_type": "stream",
     "text": [
      "[I 2025-06-05 01:02:12,163] Trial 11 finished with value: 0.7588981317332606 and parameters: {'n_estimators': 776, 'learning_rate': 0.05718791776457006, 'max_depth': 15, 'subsample': 0.7142272682264491, 'colsample_bytree': 0.5217383650671725, 'gamma': 2.3643730230113134, 'reg_alpha': 3.95275780395004, 'reg_lambda': 0.00010670289345551965}. Best is trial 6 with value: 0.7788081276421656.\n",
      "2025/06/05 01:02:48 WARNING mlflow.models.model: Model logged without a signature and input example. Please set `input_example` parameter when logging the model to auto infer the model signature.\n"
     ]
    },
    {
     "name": "stdout",
     "output_type": "stream",
     "text": [
      "🏃 View run Trial_12_XGBoost_undersampling_BoW_1000_bigrams at: https://dagshub.com/SushrutGaikwad/youtube-comments-analyzer.mlflow/#/experiments/6/runs/9d19bb779ffb484484a95284a22d9b9f\n",
      "🧪 View experiment at: https://dagshub.com/SushrutGaikwad/youtube-comments-analyzer.mlflow/#/experiments/6\n"
     ]
    },
    {
     "name": "stderr",
     "output_type": "stream",
     "text": [
      "[I 2025-06-05 01:02:54,176] Trial 12 finished with value: 0.7710350470475931 and parameters: {'n_estimators': 446, 'learning_rate': 0.02706811223698879, 'max_depth': 15, 'subsample': 0.7619841802696624, 'colsample_bytree': 0.8832413210638836, 'gamma': 2.994154492151621, 'reg_alpha': 0.6548948819899826, 'reg_lambda': 0.0013438552304284581}. Best is trial 6 with value: 0.7788081276421656.\n",
      "2025/06/05 01:03:30 WARNING mlflow.models.model: Model logged without a signature and input example. Please set `input_example` parameter when logging the model to auto infer the model signature.\n"
     ]
    },
    {
     "name": "stdout",
     "output_type": "stream",
     "text": [
      "🏃 View run Trial_13_XGBoost_undersampling_BoW_1000_bigrams at: https://dagshub.com/SushrutGaikwad/youtube-comments-analyzer.mlflow/#/experiments/6/runs/58452c51f4dd444bb1550b442e1bc986\n",
      "🧪 View experiment at: https://dagshub.com/SushrutGaikwad/youtube-comments-analyzer.mlflow/#/experiments/6\n"
     ]
    },
    {
     "name": "stderr",
     "output_type": "stream",
     "text": [
      "[I 2025-06-05 01:03:36,183] Trial 13 finished with value: 0.7618982681030956 and parameters: {'n_estimators': 398, 'learning_rate': 0.024195367367655346, 'max_depth': 12, 'subsample': 0.6536159023166879, 'colsample_bytree': 0.8785636354953344, 'gamma': 3.073061597683187, 'reg_alpha': 0.09884784178437034, 'reg_lambda': 0.0023333063984022507}. Best is trial 6 with value: 0.7788081276421656.\n",
      "2025/06/05 01:04:12 WARNING mlflow.models.model: Model logged without a signature and input example. Please set `input_example` parameter when logging the model to auto infer the model signature.\n"
     ]
    },
    {
     "name": "stdout",
     "output_type": "stream",
     "text": [
      "🏃 View run Trial_14_XGBoost_undersampling_BoW_1000_bigrams at: https://dagshub.com/SushrutGaikwad/youtube-comments-analyzer.mlflow/#/experiments/6/runs/4e9928b4ebc545b0b925efbbe59ec3cf\n",
      "🧪 View experiment at: https://dagshub.com/SushrutGaikwad/youtube-comments-analyzer.mlflow/#/experiments/6\n"
     ]
    },
    {
     "name": "stderr",
     "output_type": "stream",
     "text": [
      "[I 2025-06-05 01:04:18,184] Trial 14 finished with value: 0.765852993317878 and parameters: {'n_estimators': 438, 'learning_rate': 0.024886266869967536, 'max_depth': 13, 'subsample': 0.7852568347217374, 'colsample_bytree': 0.8988419554931686, 'gamma': 2.6266066301420543, 'reg_alpha': 1.0612567374396495, 'reg_lambda': 0.0245832961165353}. Best is trial 6 with value: 0.7788081276421656.\n",
      "2025/06/05 01:04:54 WARNING mlflow.models.model: Model logged without a signature and input example. Please set `input_example` parameter when logging the model to auto infer the model signature.\n"
     ]
    },
    {
     "name": "stdout",
     "output_type": "stream",
     "text": [
      "🏃 View run Trial_15_XGBoost_undersampling_BoW_1000_bigrams at: https://dagshub.com/SushrutGaikwad/youtube-comments-analyzer.mlflow/#/experiments/6/runs/e6dbd2b4afaa4e8c92e01d77f542bbce\n",
      "🧪 View experiment at: https://dagshub.com/SushrutGaikwad/youtube-comments-analyzer.mlflow/#/experiments/6\n"
     ]
    },
    {
     "name": "stderr",
     "output_type": "stream",
     "text": [
      "[I 2025-06-05 01:05:00,164] Trial 15 finished with value: 0.6131187781262785 and parameters: {'n_estimators': 300, 'learning_rate': 0.001830225355744872, 'max_depth': 8, 'subsample': 0.9697544784461083, 'colsample_bytree': 0.9907559664285656, 'gamma': 4.638800438038553, 'reg_alpha': 0.0026413359789430597, 'reg_lambda': 0.0013148620426170945}. Best is trial 6 with value: 0.7788081276421656.\n",
      "2025/06/05 01:05:35 WARNING mlflow.models.model: Model logged without a signature and input example. Please set `input_example` parameter when logging the model to auto infer the model signature.\n"
     ]
    },
    {
     "name": "stdout",
     "output_type": "stream",
     "text": [
      "🏃 View run Trial_16_XGBoost_undersampling_BoW_1000_bigrams at: https://dagshub.com/SushrutGaikwad/youtube-comments-analyzer.mlflow/#/experiments/6/runs/074f3c9055f9489ba2eba93d68365c69\n",
      "🧪 View experiment at: https://dagshub.com/SushrutGaikwad/youtube-comments-analyzer.mlflow/#/experiments/6\n"
     ]
    },
    {
     "name": "stderr",
     "output_type": "stream",
     "text": [
      "[I 2025-06-05 01:05:42,173] Trial 16 finished with value: 0.7432156007091232 and parameters: {'n_estimators': 522, 'learning_rate': 0.044210780210968956, 'max_depth': 3, 'subsample': 0.7887863395310072, 'colsample_bytree': 0.8155631502582728, 'gamma': 1.9097440457460153, 'reg_alpha': 0.13701330079540608, 'reg_lambda': 0.005181019360185934}. Best is trial 6 with value: 0.7788081276421656.\n",
      "2025/06/05 01:06:18 WARNING mlflow.models.model: Model logged without a signature and input example. Please set `input_example` parameter when logging the model to auto infer the model signature.\n"
     ]
    },
    {
     "name": "stdout",
     "output_type": "stream",
     "text": [
      "🏃 View run Trial_17_XGBoost_undersampling_BoW_1000_bigrams at: https://dagshub.com/SushrutGaikwad/youtube-comments-analyzer.mlflow/#/experiments/6/runs/ab83c73bb29846e09984406732cdde10\n",
      "🧪 View experiment at: https://dagshub.com/SushrutGaikwad/youtube-comments-analyzer.mlflow/#/experiments/6\n"
     ]
    },
    {
     "name": "stderr",
     "output_type": "stream",
     "text": [
      "[I 2025-06-05 01:06:24,184] Trial 17 finished with value: 0.7177144415655257 and parameters: {'n_estimators': 283, 'learning_rate': 0.01217599962964433, 'max_depth': 14, 'subsample': 0.9021537171800332, 'colsample_bytree': 0.7272110619307552, 'gamma': 3.0050525795345573, 'reg_alpha': 1.7523907170886703, 'reg_lambda': 0.03545445332039006}. Best is trial 6 with value: 0.7788081276421656.\n",
      "2025/06/05 01:06:59 WARNING mlflow.models.model: Model logged without a signature and input example. Please set `input_example` parameter when logging the model to auto infer the model signature.\n"
     ]
    },
    {
     "name": "stdout",
     "output_type": "stream",
     "text": [
      "🏃 View run Trial_18_XGBoost_undersampling_BoW_1000_bigrams at: https://dagshub.com/SushrutGaikwad/youtube-comments-analyzer.mlflow/#/experiments/6/runs/62a77c4e0f274b6c8857c63c2ce679ee\n",
      "🧪 View experiment at: https://dagshub.com/SushrutGaikwad/youtube-comments-analyzer.mlflow/#/experiments/6\n"
     ]
    },
    {
     "name": "stderr",
     "output_type": "stream",
     "text": [
      "[I 2025-06-05 01:07:06,163] Trial 18 finished with value: 0.7347606709395882 and parameters: {'n_estimators': 605, 'learning_rate': 0.09316071398924436, 'max_depth': 11, 'subsample': 0.6139284701046137, 'colsample_bytree': 0.9175344494086424, 'gamma': 1.9243533034304865, 'reg_alpha': 8.779522881784931, 'reg_lambda': 0.0008471312411059954}. Best is trial 6 with value: 0.7788081276421656.\n",
      "2025/06/05 01:07:42 WARNING mlflow.models.model: Model logged without a signature and input example. Please set `input_example` parameter when logging the model to auto infer the model signature.\n"
     ]
    },
    {
     "name": "stdout",
     "output_type": "stream",
     "text": [
      "🏃 View run Trial_19_XGBoost_undersampling_BoW_1000_bigrams at: https://dagshub.com/SushrutGaikwad/youtube-comments-analyzer.mlflow/#/experiments/6/runs/e284c14c9e70418a9f4022958d941747\n",
      "🧪 View experiment at: https://dagshub.com/SushrutGaikwad/youtube-comments-analyzer.mlflow/#/experiments/6\n"
     ]
    },
    {
     "name": "stderr",
     "output_type": "stream",
     "text": [
      "[I 2025-06-05 01:07:48,176] Trial 19 finished with value: 0.7080321832810582 and parameters: {'n_estimators': 449, 'learning_rate': 0.012164414969231936, 'max_depth': 7, 'subsample': 0.7752389779671512, 'colsample_bytree': 0.8502918866507142, 'gamma': 4.063801047723999, 'reg_alpha': 0.0014724100615481966, 'reg_lambda': 0.00010200901062506519}. Best is trial 6 with value: 0.7788081276421656.\n",
      "2025/06/05 01:08:24 WARNING mlflow.models.model: Model logged without a signature and input example. Please set `input_example` parameter when logging the model to auto infer the model signature.\n"
     ]
    },
    {
     "name": "stdout",
     "output_type": "stream",
     "text": [
      "🏃 View run Trial_20_XGBoost_undersampling_BoW_1000_bigrams at: https://dagshub.com/SushrutGaikwad/youtube-comments-analyzer.mlflow/#/experiments/6/runs/47d020bbb4e3493883354bf1a945c056\n",
      "🧪 View experiment at: https://dagshub.com/SushrutGaikwad/youtube-comments-analyzer.mlflow/#/experiments/6\n"
     ]
    },
    {
     "name": "stderr",
     "output_type": "stream",
     "text": [
      "[I 2025-06-05 01:08:31,111] Trial 20 finished with value: 0.6893495158870858 and parameters: {'n_estimators': 765, 'learning_rate': 0.0018794535590094322, 'max_depth': 13, 'subsample': 0.9113428596389327, 'colsample_bytree': 0.7762918773145677, 'gamma': 2.9754603388471286, 'reg_alpha': 0.2876531197156657, 'reg_lambda': 0.020975695592394435}. Best is trial 6 with value: 0.7788081276421656.\n",
      "2025/06/05 01:09:06 WARNING mlflow.models.model: Model logged without a signature and input example. Please set `input_example` parameter when logging the model to auto infer the model signature.\n"
     ]
    },
    {
     "name": "stdout",
     "output_type": "stream",
     "text": [
      "🏃 View run Trial_21_XGBoost_undersampling_BoW_1000_bigrams at: https://dagshub.com/SushrutGaikwad/youtube-comments-analyzer.mlflow/#/experiments/6/runs/4630d8ba1ca847f4bd3e24ab1820a901\n",
      "🧪 View experiment at: https://dagshub.com/SushrutGaikwad/youtube-comments-analyzer.mlflow/#/experiments/6\n"
     ]
    },
    {
     "name": "stderr",
     "output_type": "stream",
     "text": [
      "[I 2025-06-05 01:09:12,167] Trial 21 finished with value: 0.7707623073776081 and parameters: {'n_estimators': 750, 'learning_rate': 0.02808783921073911, 'max_depth': 15, 'subsample': 0.740394997742047, 'colsample_bytree': 0.5304693560876229, 'gamma': 3.3758234014264374, 'reg_alpha': 1.2256889968139533, 'reg_lambda': 0.00041403340093423336}. Best is trial 6 with value: 0.7788081276421656.\n",
      "2025/06/05 01:09:48 WARNING mlflow.models.model: Model logged without a signature and input example. Please set `input_example` parameter when logging the model to auto infer the model signature.\n"
     ]
    },
    {
     "name": "stdout",
     "output_type": "stream",
     "text": [
      "🏃 View run Trial_22_XGBoost_undersampling_BoW_1000_bigrams at: https://dagshub.com/SushrutGaikwad/youtube-comments-analyzer.mlflow/#/experiments/6/runs/5943da524c034076b9ddd3f97389fe96\n",
      "🧪 View experiment at: https://dagshub.com/SushrutGaikwad/youtube-comments-analyzer.mlflow/#/experiments/6\n"
     ]
    },
    {
     "name": "stderr",
     "output_type": "stream",
     "text": [
      "[I 2025-06-05 01:09:54,166] Trial 22 finished with value: 0.7768989499522706 and parameters: {'n_estimators': 866, 'learning_rate': 0.03863654613435095, 'max_depth': 15, 'subsample': 0.7511981015927015, 'colsample_bytree': 0.6884348908548226, 'gamma': 3.2289243908619727, 'reg_alpha': 0.562951545059184, 'reg_lambda': 0.0031931777597380643}. Best is trial 6 with value: 0.7788081276421656.\n",
      "2025/06/05 01:10:29 WARNING mlflow.models.model: Model logged without a signature and input example. Please set `input_example` parameter when logging the model to auto infer the model signature.\n"
     ]
    },
    {
     "name": "stdout",
     "output_type": "stream",
     "text": [
      "🏃 View run Trial_23_XGBoost_undersampling_BoW_1000_bigrams at: https://dagshub.com/SushrutGaikwad/youtube-comments-analyzer.mlflow/#/experiments/6/runs/1cad426b0b8249128061aff8a3c850cb\n",
      "🧪 View experiment at: https://dagshub.com/SushrutGaikwad/youtube-comments-analyzer.mlflow/#/experiments/6\n"
     ]
    },
    {
     "name": "stderr",
     "output_type": "stream",
     "text": [
      "[I 2025-06-05 01:10:36,168] Trial 23 finished with value: 0.7794899768171281 and parameters: {'n_estimators': 353, 'learning_rate': 0.050283316207503634, 'max_depth': 14, 'subsample': 0.6683314885249614, 'colsample_bytree': 0.7002952473161439, 'gamma': 2.6234428431783217, 'reg_alpha': 0.035261157163512205, 'reg_lambda': 0.002757692328019848}. Best is trial 23 with value: 0.7794899768171281.\n",
      "2025/06/05 01:11:12 WARNING mlflow.models.model: Model logged without a signature and input example. Please set `input_example` parameter when logging the model to auto infer the model signature.\n"
     ]
    },
    {
     "name": "stdout",
     "output_type": "stream",
     "text": [
      "🏃 View run Trial_24_XGBoost_undersampling_BoW_1000_bigrams at: https://dagshub.com/SushrutGaikwad/youtube-comments-analyzer.mlflow/#/experiments/6/runs/63f0e6b6e6f14dc4ad30873e15be9ccc\n",
      "🧪 View experiment at: https://dagshub.com/SushrutGaikwad/youtube-comments-analyzer.mlflow/#/experiments/6\n"
     ]
    },
    {
     "name": "stderr",
     "output_type": "stream",
     "text": [
      "[I 2025-06-05 01:11:18,160] Trial 24 finished with value: 0.782490113186963 and parameters: {'n_estimators': 348, 'learning_rate': 0.06425282348315542, 'max_depth': 12, 'subsample': 0.6768077909537584, 'colsample_bytree': 0.6961100232869103, 'gamma': 1.731443466487641, 'reg_alpha': 0.036285397154426774, 'reg_lambda': 0.003536845151014869}. Best is trial 24 with value: 0.782490113186963.\n",
      "2025/06/05 01:11:54 WARNING mlflow.models.model: Model logged without a signature and input example. Please set `input_example` parameter when logging the model to auto infer the model signature.\n"
     ]
    },
    {
     "name": "stdout",
     "output_type": "stream",
     "text": [
      "🏃 View run Trial_25_XGBoost_undersampling_BoW_1000_bigrams at: https://dagshub.com/SushrutGaikwad/youtube-comments-analyzer.mlflow/#/experiments/6/runs/623e1bcb33bb441286ef31bedb7e4074\n",
      "🧪 View experiment at: https://dagshub.com/SushrutGaikwad/youtube-comments-analyzer.mlflow/#/experiments/6\n"
     ]
    },
    {
     "name": "stderr",
     "output_type": "stream",
     "text": [
      "[I 2025-06-05 01:12:00,154] Trial 25 finished with value: 0.7818082640120005 and parameters: {'n_estimators': 350, 'learning_rate': 0.0637889635832535, 'max_depth': 11, 'subsample': 0.6491214746290077, 'colsample_bytree': 0.7054393277345689, 'gamma': 1.5626608758594767, 'reg_alpha': 0.07747808769750385, 'reg_lambda': 0.012170327744022116}. Best is trial 24 with value: 0.782490113186963.\n",
      "2025/06/05 01:12:35 WARNING mlflow.models.model: Model logged without a signature and input example. Please set `input_example` parameter when logging the model to auto infer the model signature.\n"
     ]
    },
    {
     "name": "stdout",
     "output_type": "stream",
     "text": [
      "🏃 View run Trial_26_XGBoost_undersampling_BoW_1000_bigrams at: https://dagshub.com/SushrutGaikwad/youtube-comments-analyzer.mlflow/#/experiments/6/runs/888874a8e3164c07bf7a5863e6f66824\n",
      "🧪 View experiment at: https://dagshub.com/SushrutGaikwad/youtube-comments-analyzer.mlflow/#/experiments/6\n"
     ]
    },
    {
     "name": "stderr",
     "output_type": "stream",
     "text": [
      "[I 2025-06-05 01:12:42,159] Trial 26 finished with value: 0.7419882721941906 and parameters: {'n_estimators': 344, 'learning_rate': 0.015278578885820444, 'max_depth': 12, 'subsample': 0.654223361542392, 'colsample_bytree': 0.6500126586835159, 'gamma': 1.6600537171844625, 'reg_alpha': 0.027081386073942833, 'reg_lambda': 0.012267942705301424}. Best is trial 24 with value: 0.782490113186963.\n",
      "2025/06/05 01:13:18 WARNING mlflow.models.model: Model logged without a signature and input example. Please set `input_example` parameter when logging the model to auto infer the model signature.\n"
     ]
    },
    {
     "name": "stdout",
     "output_type": "stream",
     "text": [
      "🏃 View run Trial_27_XGBoost_undersampling_BoW_1000_bigrams at: https://dagshub.com/SushrutGaikwad/youtube-comments-analyzer.mlflow/#/experiments/6/runs/145920a937b74f1088853fc3dca77fa6\n",
      "🧪 View experiment at: https://dagshub.com/SushrutGaikwad/youtube-comments-analyzer.mlflow/#/experiments/6\n"
     ]
    },
    {
     "name": "stderr",
     "output_type": "stream",
     "text": [
      "[I 2025-06-05 01:13:24,169] Trial 27 finished with value: 0.7710350470475931 and parameters: {'n_estimators': 197, 'learning_rate': 0.057840514550944064, 'max_depth': 12, 'subsample': 0.5681877977823419, 'colsample_bytree': 0.70888842085355, 'gamma': 0.050207973446878995, 'reg_alpha': 0.0315653518740659, 'reg_lambda': 0.03770177022464339}. Best is trial 24 with value: 0.782490113186963.\n",
      "2025/06/05 01:13:59 WARNING mlflow.models.model: Model logged without a signature and input example. Please set `input_example` parameter when logging the model to auto infer the model signature.\n"
     ]
    },
    {
     "name": "stdout",
     "output_type": "stream",
     "text": [
      "🏃 View run Trial_28_XGBoost_undersampling_BoW_1000_bigrams at: https://dagshub.com/SushrutGaikwad/youtube-comments-analyzer.mlflow/#/experiments/6/runs/ca0da4ac9c794c3d8d8537913a16c604\n",
      "🧪 View experiment at: https://dagshub.com/SushrutGaikwad/youtube-comments-analyzer.mlflow/#/experiments/6\n"
     ]
    },
    {
     "name": "stderr",
     "output_type": "stream",
     "text": [
      "[I 2025-06-05 01:14:06,152] Trial 28 finished with value: 0.7833083321969181 and parameters: {'n_estimators': 335, 'learning_rate': 0.09566604537610857, 'max_depth': 11, 'subsample': 0.6624140501518245, 'colsample_bytree': 0.6171796573774283, 'gamma': 1.4843125102823636, 'reg_alpha': 0.0035460080510952207, 'reg_lambda': 0.947361218547772}. Best is trial 28 with value: 0.7833083321969181.\n",
      "2025/06/05 01:14:42 WARNING mlflow.models.model: Model logged without a signature and input example. Please set `input_example` parameter when logging the model to auto infer the model signature.\n"
     ]
    },
    {
     "name": "stdout",
     "output_type": "stream",
     "text": [
      "🏃 View run Trial_29_XGBoost_undersampling_BoW_1000_bigrams at: https://dagshub.com/SushrutGaikwad/youtube-comments-analyzer.mlflow/#/experiments/6/runs/d621d7a355d84e0bb1df0b320f8c5431\n",
      "🧪 View experiment at: https://dagshub.com/SushrutGaikwad/youtube-comments-analyzer.mlflow/#/experiments/6\n"
     ]
    },
    {
     "name": "stderr",
     "output_type": "stream",
     "text": [
      "[I 2025-06-05 01:14:48,162] Trial 29 finished with value: 0.6558025364789308 and parameters: {'n_estimators': 222, 'learning_rate': 0.0006304855956059301, 'max_depth': 10, 'subsample': 0.617839384345712, 'colsample_bytree': 0.5903661919426626, 'gamma': 1.4461188214016003, 'reg_alpha': 0.0008244428798537249, 'reg_lambda': 9.649081924755263}. Best is trial 28 with value: 0.7833083321969181.\n",
      "2025/06/05 01:15:23 WARNING mlflow.models.model: Model logged without a signature and input example. Please set `input_example` parameter when logging the model to auto infer the model signature.\n"
     ]
    },
    {
     "name": "stdout",
     "output_type": "stream",
     "text": [
      "🏃 View run Trial_30_XGBoost_undersampling_BoW_1000_bigrams at: https://dagshub.com/SushrutGaikwad/youtube-comments-analyzer.mlflow/#/experiments/6/runs/0f654ce7ad354bcb90237eca5593b6fb\n",
      "🧪 View experiment at: https://dagshub.com/SushrutGaikwad/youtube-comments-analyzer.mlflow/#/experiments/6\n"
     ]
    },
    {
     "name": "stderr",
     "output_type": "stream",
     "text": [
      "[I 2025-06-05 01:15:30,168] Trial 30 finished with value: 0.7624437474430656 and parameters: {'n_estimators': 105, 'learning_rate': 0.09962730808157962, 'max_depth': 11, 'subsample': 0.566967499551857, 'colsample_bytree': 0.6495682122084652, 'gamma': 0.6899524553740894, 'reg_alpha': 0.005246263207911621, 'reg_lambda': 1.455538153492971}. Best is trial 28 with value: 0.7833083321969181.\n",
      "2025/06/05 01:16:27 WARNING mlflow.models.model: Model logged without a signature and input example. Please set `input_example` parameter when logging the model to auto infer the model signature.\n"
     ]
    },
    {
     "name": "stdout",
     "output_type": "stream",
     "text": [
      "🏃 View run Trial_31_XGBoost_undersampling_BoW_1000_bigrams at: https://dagshub.com/SushrutGaikwad/youtube-comments-analyzer.mlflow/#/experiments/6/runs/d8706a7d4d024cabb7fe78dbd19db565\n",
      "🧪 View experiment at: https://dagshub.com/SushrutGaikwad/youtube-comments-analyzer.mlflow/#/experiments/6\n"
     ]
    },
    {
     "name": "stderr",
     "output_type": "stream",
     "text": [
      "[I 2025-06-05 01:16:33,781] Trial 31 finished with value: 0.7801718259920906 and parameters: {'n_estimators': 317, 'learning_rate': 0.06677669887685175, 'max_depth': 14, 'subsample': 0.6782105637611062, 'colsample_bytree': 0.7398113897965259, 'gamma': 1.3550037183322552, 'reg_alpha': 0.012552009765525262, 'reg_lambda': 2.946505552874401}. Best is trial 28 with value: 0.7833083321969181.\n",
      "2025/06/05 01:17:09 WARNING mlflow.models.model: Model logged without a signature and input example. Please set `input_example` parameter when logging the model to auto infer the model signature.\n"
     ]
    },
    {
     "name": "stdout",
     "output_type": "stream",
     "text": [
      "🏃 View run Trial_32_XGBoost_undersampling_BoW_1000_bigrams at: https://dagshub.com/SushrutGaikwad/youtube-comments-analyzer.mlflow/#/experiments/6/runs/220007c34c934a75acf4ffaaed62c123\n",
      "🧪 View experiment at: https://dagshub.com/SushrutGaikwad/youtube-comments-analyzer.mlflow/#/experiments/6\n"
     ]
    },
    {
     "name": "stderr",
     "output_type": "stream",
     "text": [
      "[I 2025-06-05 01:17:15,736] Trial 32 finished with value: 0.780308195827083 and parameters: {'n_estimators': 328, 'learning_rate': 0.069141162993179, 'max_depth': 12, 'subsample': 0.6998030620128454, 'colsample_bytree': 0.7542870580739509, 'gamma': 1.3847626019616845, 'reg_alpha': 0.013569688304412035, 'reg_lambda': 2.9844929588462557}. Best is trial 28 with value: 0.7833083321969181.\n",
      "2025/06/05 01:17:52 WARNING mlflow.models.model: Model logged without a signature and input example. Please set `input_example` parameter when logging the model to auto infer the model signature.\n"
     ]
    },
    {
     "name": "stdout",
     "output_type": "stream",
     "text": [
      "🏃 View run Trial_33_XGBoost_undersampling_BoW_1000_bigrams at: https://dagshub.com/SushrutGaikwad/youtube-comments-analyzer.mlflow/#/experiments/6/runs/62212e9c242d47cc94da301f2d487138\n",
      "🧪 View experiment at: https://dagshub.com/SushrutGaikwad/youtube-comments-analyzer.mlflow/#/experiments/6\n"
     ]
    },
    {
     "name": "stderr",
     "output_type": "stream",
     "text": [
      "[I 2025-06-05 01:17:57,744] Trial 33 finished with value: 0.7603981999181781 and parameters: {'n_estimators': 248, 'learning_rate': 0.038240805363179906, 'max_depth': 11, 'subsample': 0.700336594507912, 'colsample_bytree': 0.6654646975384916, 'gamma': 1.6800558595143007, 'reg_alpha': 0.0033727044087302595, 'reg_lambda': 0.3620701556958392}. Best is trial 28 with value: 0.7833083321969181.\n",
      "2025/06/05 01:18:33 WARNING mlflow.models.model: Model logged without a signature and input example. Please set `input_example` parameter when logging the model to auto infer the model signature.\n"
     ]
    },
    {
     "name": "stdout",
     "output_type": "stream",
     "text": [
      "🏃 View run Trial_34_XGBoost_undersampling_BoW_1000_bigrams at: https://dagshub.com/SushrutGaikwad/youtube-comments-analyzer.mlflow/#/experiments/6/runs/e735cfec03d14dfa9b44810fbdbd4cd3\n",
      "🧪 View experiment at: https://dagshub.com/SushrutGaikwad/youtube-comments-analyzer.mlflow/#/experiments/6\n"
     ]
    },
    {
     "name": "stderr",
     "output_type": "stream",
     "text": [
      "[I 2025-06-05 01:18:39,728] Trial 34 finished with value: 0.7258966316650757 and parameters: {'n_estimators': 368, 'learning_rate': 0.016622060736243886, 'max_depth': 9, 'subsample': 0.6450661661699466, 'colsample_bytree': 0.6116110833542452, 'gamma': 0.9562932338003596, 'reg_alpha': 0.0006984224930035428, 'reg_lambda': 3.2822060230230297}. Best is trial 28 with value: 0.7833083321969181.\n",
      "2025/06/05 01:19:15 WARNING mlflow.models.model: Model logged without a signature and input example. Please set `input_example` parameter when logging the model to auto infer the model signature.\n"
     ]
    },
    {
     "name": "stdout",
     "output_type": "stream",
     "text": [
      "🏃 View run Trial_35_XGBoost_undersampling_BoW_1000_bigrams at: https://dagshub.com/SushrutGaikwad/youtube-comments-analyzer.mlflow/#/experiments/6/runs/64d5e14d404141c9a98d76a1f58917b1\n",
      "🧪 View experiment at: https://dagshub.com/SushrutGaikwad/youtube-comments-analyzer.mlflow/#/experiments/6\n"
     ]
    },
    {
     "name": "stderr",
     "output_type": "stream",
     "text": [
      "[I 2025-06-05 01:19:21,864] Trial 35 finished with value: 0.7808536751670531 and parameters: {'n_estimators': 270, 'learning_rate': 0.077800807417844, 'max_depth': 10, 'subsample': 0.6181532989524529, 'colsample_bytree': 0.5629343263733306, 'gamma': 0.3866125944725898, 'reg_alpha': 0.00909010155565287, 'reg_lambda': 0.08889306773629911}. Best is trial 28 with value: 0.7833083321969181.\n",
      "2025/06/05 01:19:57 WARNING mlflow.models.model: Model logged without a signature and input example. Please set `input_example` parameter when logging the model to auto infer the model signature.\n"
     ]
    },
    {
     "name": "stdout",
     "output_type": "stream",
     "text": [
      "🏃 View run Trial_36_XGBoost_undersampling_BoW_1000_bigrams at: https://dagshub.com/SushrutGaikwad/youtube-comments-analyzer.mlflow/#/experiments/6/runs/b90464aeb0c641c88e5c764da15b44dc\n",
      "🧪 View experiment at: https://dagshub.com/SushrutGaikwad/youtube-comments-analyzer.mlflow/#/experiments/6\n"
     ]
    },
    {
     "name": "stderr",
     "output_type": "stream",
     "text": [
      "[I 2025-06-05 01:20:03,752] Trial 36 finished with value: 0.6798036274376108 and parameters: {'n_estimators': 191, 'learning_rate': 0.006378289416951529, 'max_depth': 10, 'subsample': 0.6144776470179684, 'colsample_bytree': 0.5692542111032726, 'gamma': 0.5496879171551678, 'reg_alpha': 0.07423085250046998, 'reg_lambda': 0.07512180093155954}. Best is trial 28 with value: 0.7833083321969181.\n",
      "2025/06/05 01:20:39 WARNING mlflow.models.model: Model logged without a signature and input example. Please set `input_example` parameter when logging the model to auto infer the model signature.\n"
     ]
    },
    {
     "name": "stdout",
     "output_type": "stream",
     "text": [
      "🏃 View run Trial_37_XGBoost_undersampling_BoW_1000_bigrams at: https://dagshub.com/SushrutGaikwad/youtube-comments-analyzer.mlflow/#/experiments/6/runs/ca0119513589480fbfd0b45b2d5002d8\n",
      "🧪 View experiment at: https://dagshub.com/SushrutGaikwad/youtube-comments-analyzer.mlflow/#/experiments/6\n"
     ]
    },
    {
     "name": "stderr",
     "output_type": "stream",
     "text": [
      "[I 2025-06-05 01:20:45,748] Trial 37 finished with value: 0.6661666439383608 and parameters: {'n_estimators': 273, 'learning_rate': 0.003693685230503409, 'max_depth': 8, 'subsample': 0.5392807872790535, 'colsample_bytree': 0.5587252302645751, 'gamma': 0.24398758828485034, 'reg_alpha': 0.007044743614462919, 'reg_lambda': 0.2448257458193486}. Best is trial 28 with value: 0.7833083321969181.\n",
      "2025/06/05 01:21:21 WARNING mlflow.models.model: Model logged without a signature and input example. Please set `input_example` parameter when logging the model to auto infer the model signature.\n"
     ]
    },
    {
     "name": "stdout",
     "output_type": "stream",
     "text": [
      "🏃 View run Trial_38_XGBoost_undersampling_BoW_1000_bigrams at: https://dagshub.com/SushrutGaikwad/youtube-comments-analyzer.mlflow/#/experiments/6/runs/cd8f75530eae45299c4a74b9ff99fec8\n",
      "🧪 View experiment at: https://dagshub.com/SushrutGaikwad/youtube-comments-analyzer.mlflow/#/experiments/6\n"
     ]
    },
    {
     "name": "stderr",
     "output_type": "stream",
     "text": [
      "[I 2025-06-05 01:21:27,843] Trial 38 finished with value: 0.7708986772126005 and parameters: {'n_estimators': 144, 'learning_rate': 0.09977071945966176, 'max_depth': 10, 'subsample': 0.6293924503622766, 'colsample_bytree': 0.6320003966273513, 'gamma': 1.10734635537579, 'reg_alpha': 0.0205676775769805, 'reg_lambda': 0.5572605627097382}. Best is trial 28 with value: 0.7833083321969181.\n",
      "2025/06/05 01:22:03 WARNING mlflow.models.model: Model logged without a signature and input example. Please set `input_example` parameter when logging the model to auto infer the model signature.\n"
     ]
    },
    {
     "name": "stdout",
     "output_type": "stream",
     "text": [
      "🏃 View run Trial_39_XGBoost_undersampling_BoW_1000_bigrams at: https://dagshub.com/SushrutGaikwad/youtube-comments-analyzer.mlflow/#/experiments/6/runs/17bef3ec5230487bac896a61edcb2376\n",
      "🧪 View experiment at: https://dagshub.com/SushrutGaikwad/youtube-comments-analyzer.mlflow/#/experiments/6\n"
     ]
    },
    {
     "name": "stderr",
     "output_type": "stream",
     "text": [
      "[I 2025-06-05 01:22:09,746] Trial 39 finished with value: 0.7692622391926905 and parameters: {'n_estimators': 478, 'learning_rate': 0.03512404446594757, 'max_depth': 8, 'subsample': 0.5788096566042219, 'colsample_bytree': 0.5665396396905311, 'gamma': 0.7249361306647739, 'reg_alpha': 0.04475210932298033, 'reg_lambda': 0.0707086702692879}. Best is trial 28 with value: 0.7833083321969181.\n",
      "2025/06/05 01:22:45 WARNING mlflow.models.model: Model logged without a signature and input example. Please set `input_example` parameter when logging the model to auto infer the model signature.\n"
     ]
    },
    {
     "name": "stdout",
     "output_type": "stream",
     "text": [
      "🏃 View run Trial_40_XGBoost_undersampling_BoW_1000_bigrams at: https://dagshub.com/SushrutGaikwad/youtube-comments-analyzer.mlflow/#/experiments/6/runs/255b488ea9f64079bd3ec0f26c244f29\n",
      "🧪 View experiment at: https://dagshub.com/SushrutGaikwad/youtube-comments-analyzer.mlflow/#/experiments/6\n"
     ]
    },
    {
     "name": "stderr",
     "output_type": "stream",
     "text": [
      "[I 2025-06-05 01:22:51,728] Trial 40 finished with value: 0.7781262784672031 and parameters: {'n_estimators': 556, 'learning_rate': 0.07802217029638658, 'max_depth': 9, 'subsample': 0.5019183742241295, 'colsample_bytree': 0.6721266760964332, 'gamma': 2.1151859699757996, 'reg_alpha': 0.14500077067185174, 'reg_lambda': 1.030023868483876}. Best is trial 28 with value: 0.7833083321969181.\n",
      "2025/06/05 01:23:27 WARNING mlflow.models.model: Model logged without a signature and input example. Please set `input_example` parameter when logging the model to auto infer the model signature.\n"
     ]
    },
    {
     "name": "stdout",
     "output_type": "stream",
     "text": [
      "🏃 View run Trial_41_XGBoost_undersampling_BoW_1000_bigrams at: https://dagshub.com/SushrutGaikwad/youtube-comments-analyzer.mlflow/#/experiments/6/runs/16d3b76fdf214ef68d355f487734bd85\n",
      "🧪 View experiment at: https://dagshub.com/SushrutGaikwad/youtube-comments-analyzer.mlflow/#/experiments/6\n"
     ]
    },
    {
     "name": "stderr",
     "output_type": "stream",
     "text": [
      "[I 2025-06-05 01:23:33,724] Trial 41 finished with value: 0.7755352516023456 and parameters: {'n_estimators': 313, 'learning_rate': 0.07138862626005502, 'max_depth': 12, 'subsample': 0.5983892348175825, 'colsample_bytree': 0.775582001800845, 'gamma': 1.5571482037181081, 'reg_alpha': 0.015569260438304202, 'reg_lambda': 4.383721559023368}. Best is trial 28 with value: 0.7833083321969181.\n",
      "2025/06/05 01:24:09 WARNING mlflow.models.model: Model logged without a signature and input example. Please set `input_example` parameter when logging the model to auto infer the model signature.\n"
     ]
    },
    {
     "name": "stdout",
     "output_type": "stream",
     "text": [
      "🏃 View run Trial_42_XGBoost_undersampling_BoW_1000_bigrams at: https://dagshub.com/SushrutGaikwad/youtube-comments-analyzer.mlflow/#/experiments/6/runs/a352b72be8184472a21a9f4f173f1a12\n",
      "🧪 View experiment at: https://dagshub.com/SushrutGaikwad/youtube-comments-analyzer.mlflow/#/experiments/6\n"
     ]
    },
    {
     "name": "stderr",
     "output_type": "stream",
     "text": [
      "[I 2025-06-05 01:24:15,731] Trial 42 finished with value: 0.781399154507023 and parameters: {'n_estimators': 389, 'learning_rate': 0.05209287933488319, 'max_depth': 11, 'subsample': 0.7206512371558349, 'colsample_bytree': 0.7182209566993114, 'gamma': 1.2501389936070653, 'reg_alpha': 0.007509581719643277, 'reg_lambda': 0.1763727733407739}. Best is trial 28 with value: 0.7833083321969181.\n",
      "2025/06/05 01:24:51 WARNING mlflow.models.model: Model logged without a signature and input example. Please set `input_example` parameter when logging the model to auto infer the model signature.\n"
     ]
    },
    {
     "name": "stdout",
     "output_type": "stream",
     "text": [
      "🏃 View run Trial_43_XGBoost_undersampling_BoW_1000_bigrams at: https://dagshub.com/SushrutGaikwad/youtube-comments-analyzer.mlflow/#/experiments/6/runs/c7317ec9f13c464a951e7c7ddc8ff535\n",
      "🧪 View experiment at: https://dagshub.com/SushrutGaikwad/youtube-comments-analyzer.mlflow/#/experiments/6\n"
     ]
    },
    {
     "name": "stderr",
     "output_type": "stream",
     "text": [
      "[I 2025-06-05 01:24:58,062] Trial 43 finished with value: 0.7796263466521206 and parameters: {'n_estimators': 384, 'learning_rate': 0.04579547179415715, 'max_depth': 11, 'subsample': 0.7229782350970088, 'colsample_bytree': 0.7143221105090433, 'gamma': 1.1747056758443626, 'reg_alpha': 0.006100863023498999, 'reg_lambda': 0.20055758014875968}. Best is trial 28 with value: 0.7833083321969181.\n",
      "2025/06/05 01:25:33 WARNING mlflow.models.model: Model logged without a signature and input example. Please set `input_example` parameter when logging the model to auto infer the model signature.\n"
     ]
    },
    {
     "name": "stdout",
     "output_type": "stream",
     "text": [
      "🏃 View run Trial_44_XGBoost_undersampling_BoW_1000_bigrams at: https://dagshub.com/SushrutGaikwad/youtube-comments-analyzer.mlflow/#/experiments/6/runs/1953c8795d5f432eb37e2a7e6aa806eb\n",
      "🧪 View experiment at: https://dagshub.com/SushrutGaikwad/youtube-comments-analyzer.mlflow/#/experiments/6\n"
     ]
    },
    {
     "name": "stderr",
     "output_type": "stream",
     "text": [
      "[I 2025-06-05 01:25:39,733] Trial 44 finished with value: 0.6804854766125733 and parameters: {'n_estimators': 243, 'learning_rate': 0.00011889788071328661, 'max_depth': 11, 'subsample': 0.5395183073385349, 'colsample_bytree': 0.5047451609954261, 'gamma': 0.8053671254962843, 'reg_alpha': 0.0024915904185285435, 'reg_lambda': 0.16590085722081235}. Best is trial 28 with value: 0.7833083321969181.\n",
      "2025/06/05 01:26:15 WARNING mlflow.models.model: Model logged without a signature and input example. Please set `input_example` parameter when logging the model to auto infer the model signature.\n"
     ]
    },
    {
     "name": "stdout",
     "output_type": "stream",
     "text": [
      "🏃 View run Trial_45_XGBoost_undersampling_BoW_1000_bigrams at: https://dagshub.com/SushrutGaikwad/youtube-comments-analyzer.mlflow/#/experiments/6/runs/df809692fe76400c9419d4583e3847ad\n",
      "🧪 View experiment at: https://dagshub.com/SushrutGaikwad/youtube-comments-analyzer.mlflow/#/experiments/6\n"
     ]
    },
    {
     "name": "stderr",
     "output_type": "stream",
     "text": [
      "[I 2025-06-05 01:26:22,230] Trial 45 finished with value: 0.7620346379380881 and parameters: {'n_estimators': 484, 'learning_rate': 0.017187857662558252, 'max_depth': 13, 'subsample': 0.6747395666774514, 'colsample_bytree': 0.617937663710734, 'gamma': 1.890435351463737, 'reg_alpha': 0.008280042901696942, 'reg_lambda': 0.011577861968304484}. Best is trial 28 with value: 0.7833083321969181.\n",
      "2025/06/05 01:26:57 WARNING mlflow.models.model: Model logged without a signature and input example. Please set `input_example` parameter when logging the model to auto infer the model signature.\n"
     ]
    },
    {
     "name": "stdout",
     "output_type": "stream",
     "text": [
      "🏃 View run Trial_46_XGBoost_undersampling_BoW_1000_bigrams at: https://dagshub.com/SushrutGaikwad/youtube-comments-analyzer.mlflow/#/experiments/6/runs/fbce7df3e5bd4d40a0e1f640f6236022\n",
      "🧪 View experiment at: https://dagshub.com/SushrutGaikwad/youtube-comments-analyzer.mlflow/#/experiments/6\n"
     ]
    },
    {
     "name": "stderr",
     "output_type": "stream",
     "text": [
      "[I 2025-06-05 01:27:03,738] Trial 46 finished with value: 0.7663984726578481 and parameters: {'n_estimators': 406, 'learning_rate': 0.03194034637764921, 'max_depth': 10, 'subsample': 0.6359689457033952, 'colsample_bytree': 0.5892614615336356, 'gamma': 1.219106516525589, 'reg_alpha': 0.001471852714519792, 'reg_lambda': 0.5229819344517794}. Best is trial 28 with value: 0.7833083321969181.\n",
      "2025/06/05 01:27:39 WARNING mlflow.models.model: Model logged without a signature and input example. Please set `input_example` parameter when logging the model to auto infer the model signature.\n"
     ]
    },
    {
     "name": "stdout",
     "output_type": "stream",
     "text": [
      "🏃 View run Trial_47_XGBoost_undersampling_BoW_1000_bigrams at: https://dagshub.com/SushrutGaikwad/youtube-comments-analyzer.mlflow/#/experiments/6/runs/e364946afc09417492f3f5d85ab25e93\n",
      "🧪 View experiment at: https://dagshub.com/SushrutGaikwad/youtube-comments-analyzer.mlflow/#/experiments/6\n"
     ]
    },
    {
     "name": "stderr",
     "output_type": "stream",
     "text": [
      "[I 2025-06-05 01:27:45,725] Trial 47 finished with value: 0.7567162143733807 and parameters: {'n_estimators': 201, 'learning_rate': 0.053182500595843125, 'max_depth': 9, 'subsample': 0.7050441383002306, 'colsample_bytree': 0.6409106543899566, 'gamma': 0.375196131717205, 'reg_alpha': 0.0003651913783642419, 'reg_lambda': 0.11283359286246271}. Best is trial 28 with value: 0.7833083321969181.\n",
      "2025/06/05 01:28:22 WARNING mlflow.models.model: Model logged without a signature and input example. Please set `input_example` parameter when logging the model to auto infer the model signature.\n"
     ]
    },
    {
     "name": "stdout",
     "output_type": "stream",
     "text": [
      "🏃 View run Trial_48_XGBoost_undersampling_BoW_1000_bigrams at: https://dagshub.com/SushrutGaikwad/youtube-comments-analyzer.mlflow/#/experiments/6/runs/e17e5b2b06304c329604acd57b2a47b1\n",
      "🧪 View experiment at: https://dagshub.com/SushrutGaikwad/youtube-comments-analyzer.mlflow/#/experiments/6\n"
     ]
    },
    {
     "name": "stderr",
     "output_type": "stream",
     "text": [
      "[I 2025-06-05 01:28:29,357] Trial 48 finished with value: 0.7080321832810582 and parameters: {'n_estimators': 272, 'learning_rate': 0.009517732247653779, 'max_depth': 13, 'subsample': 0.6662306418905402, 'colsample_bytree': 0.6843324265992154, 'gamma': 2.1593315865573075, 'reg_alpha': 0.060990772571900595, 'reg_lambda': 0.044688043054931306}. Best is trial 28 with value: 0.7833083321969181.\n",
      "2025/06/05 01:29:03 WARNING mlflow.models.model: Model logged without a signature and input example. Please set `input_example` parameter when logging the model to auto infer the model signature.\n"
     ]
    },
    {
     "name": "stdout",
     "output_type": "stream",
     "text": [
      "🏃 View run Trial_49_XGBoost_undersampling_BoW_1000_bigrams at: https://dagshub.com/SushrutGaikwad/youtube-comments-analyzer.mlflow/#/experiments/6/runs/2689277ed85549f682cd44956b7dafd5\n",
      "🧪 View experiment at: https://dagshub.com/SushrutGaikwad/youtube-comments-analyzer.mlflow/#/experiments/6\n"
     ]
    },
    {
     "name": "stderr",
     "output_type": "stream",
     "text": [
      "[I 2025-06-05 01:29:09,739] Trial 49 finished with value: 0.7576708032183281 and parameters: {'n_estimators': 425, 'learning_rate': 0.01942960483237823, 'max_depth': 12, 'subsample': 0.5922013368616541, 'colsample_bytree': 0.7794937584446547, 'gamma': 0.9145379630851473, 'reg_alpha': 0.0040137889719608424, 'reg_lambda': 1.3349168873210664}. Best is trial 28 with value: 0.7833083321969181.\n",
      "2025/06/05 01:29:45 WARNING mlflow.models.model: Model logged without a signature and input example. Please set `input_example` parameter when logging the model to auto infer the model signature.\n"
     ]
    },
    {
     "name": "stdout",
     "output_type": "stream",
     "text": [
      "🏃 View run Trial_50_XGBoost_undersampling_BoW_1000_bigrams at: https://dagshub.com/SushrutGaikwad/youtube-comments-analyzer.mlflow/#/experiments/6/runs/1ba8f028ad214b2196e19021c1037065\n",
      "🧪 View experiment at: https://dagshub.com/SushrutGaikwad/youtube-comments-analyzer.mlflow/#/experiments/6\n"
     ]
    },
    {
     "name": "stderr",
     "output_type": "stream",
     "text": [
      "[I 2025-06-05 01:29:51,744] Trial 50 finished with value: 0.784399290876858 and parameters: {'n_estimators': 576, 'learning_rate': 0.07743753587284555, 'max_depth': 10, 'subsample': 0.8056451966551087, 'colsample_bytree': 0.732709472527034, 'gamma': 2.4607129574710305, 'reg_alpha': 0.009695593672552011, 'reg_lambda': 0.3421511817934901}. Best is trial 50 with value: 0.784399290876858.\n",
      "2025/06/05 01:30:27 WARNING mlflow.models.model: Model logged without a signature and input example. Please set `input_example` parameter when logging the model to auto infer the model signature.\n"
     ]
    },
    {
     "name": "stdout",
     "output_type": "stream",
     "text": [
      "🏃 View run Trial_51_XGBoost_undersampling_BoW_1000_bigrams at: https://dagshub.com/SushrutGaikwad/youtube-comments-analyzer.mlflow/#/experiments/6/runs/3eb9b5d4eeec486c8418f193b2c2b66f\n",
      "🧪 View experiment at: https://dagshub.com/SushrutGaikwad/youtube-comments-analyzer.mlflow/#/experiments/6\n"
     ]
    },
    {
     "name": "stderr",
     "output_type": "stream",
     "text": [
      "[I 2025-06-05 01:30:33,745] Trial 51 finished with value: 0.7848084003818355 and parameters: {'n_estimators': 649, 'learning_rate': 0.07521381920175654, 'max_depth': 10, 'subsample': 0.8061613906005815, 'colsample_bytree': 0.7291046697149354, 'gamma': 2.4078581405201738, 'reg_alpha': 0.009370864277392851, 'reg_lambda': 0.33789557317991004}. Best is trial 51 with value: 0.7848084003818355.\n",
      "2025/06/05 01:31:09 WARNING mlflow.models.model: Model logged without a signature and input example. Please set `input_example` parameter when logging the model to auto infer the model signature.\n"
     ]
    },
    {
     "name": "stdout",
     "output_type": "stream",
     "text": [
      "🏃 View run Trial_52_XGBoost_undersampling_BoW_1000_bigrams at: https://dagshub.com/SushrutGaikwad/youtube-comments-analyzer.mlflow/#/experiments/6/runs/2e8c7f0983784475b9c580b3a5bbcfd5\n",
      "🧪 View experiment at: https://dagshub.com/SushrutGaikwad/youtube-comments-analyzer.mlflow/#/experiments/6\n"
     ]
    },
    {
     "name": "stderr",
     "output_type": "stream",
     "text": [
      "[I 2025-06-05 01:31:15,761] Trial 52 finished with value: 0.7839901813718806 and parameters: {'n_estimators': 694, 'learning_rate': 0.04515196045211424, 'max_depth': 11, 'subsample': 0.825647104597292, 'colsample_bytree': 0.730928574727325, 'gamma': 2.451356680684234, 'reg_alpha': 0.02288757273242521, 'reg_lambda': 0.3608659532382315}. Best is trial 51 with value: 0.7848084003818355.\n",
      "2025/06/05 01:31:51 WARNING mlflow.models.model: Model logged without a signature and input example. Please set `input_example` parameter when logging the model to auto infer the model signature.\n"
     ]
    },
    {
     "name": "stdout",
     "output_type": "stream",
     "text": [
      "🏃 View run Trial_53_XGBoost_undersampling_BoW_1000_bigrams at: https://dagshub.com/SushrutGaikwad/youtube-comments-analyzer.mlflow/#/experiments/6/runs/8abe00823a604abd8a1b89bde09ef145\n",
      "🧪 View experiment at: https://dagshub.com/SushrutGaikwad/youtube-comments-analyzer.mlflow/#/experiments/6\n"
     ]
    },
    {
     "name": "stderr",
     "output_type": "stream",
     "text": [
      "[I 2025-06-05 01:31:57,722] Trial 53 finished with value: 0.786035728896768 and parameters: {'n_estimators': 663, 'learning_rate': 0.07059493834434767, 'max_depth': 9, 'subsample': 0.8106081831144628, 'colsample_bytree': 0.7378886464628307, 'gamma': 2.4920718649958675, 'reg_alpha': 0.022386184176603142, 'reg_lambda': 0.3648369998206483}. Best is trial 53 with value: 0.786035728896768.\n",
      "2025/06/05 01:32:33 WARNING mlflow.models.model: Model logged without a signature and input example. Please set `input_example` parameter when logging the model to auto infer the model signature.\n"
     ]
    },
    {
     "name": "stdout",
     "output_type": "stream",
     "text": [
      "🏃 View run Trial_54_XGBoost_undersampling_BoW_1000_bigrams at: https://dagshub.com/SushrutGaikwad/youtube-comments-analyzer.mlflow/#/experiments/6/runs/a677691dd49443f7a5af8c12f6376c09\n",
      "🧪 View experiment at: https://dagshub.com/SushrutGaikwad/youtube-comments-analyzer.mlflow/#/experiments/6\n"
     ]
    },
    {
     "name": "stderr",
     "output_type": "stream",
     "text": [
      "[I 2025-06-05 01:32:39,829] Trial 54 finished with value: 0.783853811536888 and parameters: {'n_estimators': 674, 'learning_rate': 0.08260807702203399, 'max_depth': 7, 'subsample': 0.8615964142632758, 'colsample_bytree': 0.7337650432489767, 'gamma': 2.405110492605041, 'reg_alpha': 0.015680975186693636, 'reg_lambda': 0.37297691797647503}. Best is trial 53 with value: 0.786035728896768.\n",
      "2025/06/05 01:33:15 WARNING mlflow.models.model: Model logged without a signature and input example. Please set `input_example` parameter when logging the model to auto infer the model signature.\n"
     ]
    },
    {
     "name": "stdout",
     "output_type": "stream",
     "text": [
      "🏃 View run Trial_55_XGBoost_undersampling_BoW_1000_bigrams at: https://dagshub.com/SushrutGaikwad/youtube-comments-analyzer.mlflow/#/experiments/6/runs/8d3d976538b04a7487fc9538d762a7bf\n",
      "🧪 View experiment at: https://dagshub.com/SushrutGaikwad/youtube-comments-analyzer.mlflow/#/experiments/6\n"
     ]
    },
    {
     "name": "stderr",
     "output_type": "stream",
     "text": [
      "[I 2025-06-05 01:33:21,873] Trial 55 finished with value: 0.7837174417018955 and parameters: {'n_estimators': 667, 'learning_rate': 0.08943686021998724, 'max_depth': 5, 'subsample': 0.8662296468385019, 'colsample_bytree': 0.7987729949113885, 'gamma': 2.4813839892702685, 'reg_alpha': 0.022331244754730084, 'reg_lambda': 0.3272906682705367}. Best is trial 53 with value: 0.786035728896768.\n",
      "2025/06/05 01:33:57 WARNING mlflow.models.model: Model logged without a signature and input example. Please set `input_example` parameter when logging the model to auto infer the model signature.\n"
     ]
    },
    {
     "name": "stdout",
     "output_type": "stream",
     "text": [
      "🏃 View run Trial_56_XGBoost_undersampling_BoW_1000_bigrams at: https://dagshub.com/SushrutGaikwad/youtube-comments-analyzer.mlflow/#/experiments/6/runs/e61d0f97bb7d47d591c5a435205c8040\n",
      "🧪 View experiment at: https://dagshub.com/SushrutGaikwad/youtube-comments-analyzer.mlflow/#/experiments/6\n"
     ]
    },
    {
     "name": "stderr",
     "output_type": "stream",
     "text": [
      "[I 2025-06-05 01:34:04,215] Trial 56 finished with value: 0.7638074457929905 and parameters: {'n_estimators': 690, 'learning_rate': 0.042353258735927934, 'max_depth': 4, 'subsample': 0.8680213076426939, 'colsample_bytree': 0.8401706131904253, 'gamma': 2.4566401329805405, 'reg_alpha': 0.01430771713414264, 'reg_lambda': 0.3831349216475079}. Best is trial 53 with value: 0.786035728896768.\n",
      "2025/06/05 01:34:40 WARNING mlflow.models.model: Model logged without a signature and input example. Please set `input_example` parameter when logging the model to auto infer the model signature.\n"
     ]
    },
    {
     "name": "stdout",
     "output_type": "stream",
     "text": [
      "🏃 View run Trial_57_XGBoost_undersampling_BoW_1000_bigrams at: https://dagshub.com/SushrutGaikwad/youtube-comments-analyzer.mlflow/#/experiments/6/runs/d245e787513147659fa5a31df38c1130\n",
      "🧪 View experiment at: https://dagshub.com/SushrutGaikwad/youtube-comments-analyzer.mlflow/#/experiments/6\n"
     ]
    },
    {
     "name": "stderr",
     "output_type": "stream",
     "text": [
      "[I 2025-06-05 01:34:45,965] Trial 57 finished with value: 0.7541251875085231 and parameters: {'n_estimators': 648, 'learning_rate': 0.0302628266658437, 'max_depth': 5, 'subsample': 0.7994761916637594, 'colsample_bytree': 0.7961200319976396, 'gamma': 2.7868370604774335, 'reg_alpha': 0.022194236909389795, 'reg_lambda': 1.7347656790127013}. Best is trial 53 with value: 0.786035728896768.\n",
      "2025/06/05 01:35:21 WARNING mlflow.models.model: Model logged without a signature and input example. Please set `input_example` parameter when logging the model to auto infer the model signature.\n"
     ]
    },
    {
     "name": "stdout",
     "output_type": "stream",
     "text": [
      "🏃 View run Trial_58_XGBoost_undersampling_BoW_1000_bigrams at: https://dagshub.com/SushrutGaikwad/youtube-comments-analyzer.mlflow/#/experiments/6/runs/e01cd43510554731bc6bfd91278e5d20\n",
      "🧪 View experiment at: https://dagshub.com/SushrutGaikwad/youtube-comments-analyzer.mlflow/#/experiments/6\n"
     ]
    },
    {
     "name": "stderr",
     "output_type": "stream",
     "text": [
      "[I 2025-06-05 01:35:27,727] Trial 58 finished with value: 0.7523523796536207 and parameters: {'n_estimators': 603, 'learning_rate': 0.02297552563363185, 'max_depth': 7, 'subsample': 0.8681156015705009, 'colsample_bytree': 0.7435700699262899, 'gamma': 2.769405914849166, 'reg_alpha': 0.020124201176681553, 'reg_lambda': 0.34141514866301714}. Best is trial 53 with value: 0.786035728896768.\n",
      "2025/06/05 01:36:04 WARNING mlflow.models.model: Model logged without a signature and input example. Please set `input_example` parameter when logging the model to auto infer the model signature.\n"
     ]
    },
    {
     "name": "stdout",
     "output_type": "stream",
     "text": [
      "🏃 View run Trial_59_XGBoost_undersampling_BoW_1000_bigrams at: https://dagshub.com/SushrutGaikwad/youtube-comments-analyzer.mlflow/#/experiments/6/runs/5b36a61a6bcf45ebb6bdfc97eef82222\n",
      "🧪 View experiment at: https://dagshub.com/SushrutGaikwad/youtube-comments-analyzer.mlflow/#/experiments/6\n"
     ]
    },
    {
     "name": "stderr",
     "output_type": "stream",
     "text": [
      "[I 2025-06-05 01:36:09,726] Trial 59 finished with value: 0.7833083321969181 and parameters: {'n_estimators': 815, 'learning_rate': 0.08023740718459536, 'max_depth': 6, 'subsample': 0.8205751488970381, 'colsample_bytree': 0.7621361902200547, 'gamma': 2.292783948415405, 'reg_alpha': 0.13784196126127546, 'reg_lambda': 0.7342580627289684}. Best is trial 53 with value: 0.786035728896768.\n",
      "2025/06/05 01:36:46 WARNING mlflow.models.model: Model logged without a signature and input example. Please set `input_example` parameter when logging the model to auto infer the model signature.\n"
     ]
    },
    {
     "name": "stdout",
     "output_type": "stream",
     "text": [
      "🏃 View run Trial_60_XGBoost_undersampling_BoW_1000_bigrams at: https://dagshub.com/SushrutGaikwad/youtube-comments-analyzer.mlflow/#/experiments/6/runs/8af3a334a8cf41feb4519df9b6be6717\n",
      "🧪 View experiment at: https://dagshub.com/SushrutGaikwad/youtube-comments-analyzer.mlflow/#/experiments/6\n"
     ]
    },
    {
     "name": "stderr",
     "output_type": "stream",
     "text": [
      "[I 2025-06-05 01:36:51,761] Trial 60 finished with value: 0.778671757807173 and parameters: {'n_estimators': 703, 'learning_rate': 0.04790268931067619, 'max_depth': 7, 'subsample': 0.9374858359621216, 'colsample_bytree': 0.73227122478629, 'gamma': 2.494684872351511, 'reg_alpha': 0.04566945285894484, 'reg_lambda': 0.6601149933965924}. Best is trial 53 with value: 0.786035728896768.\n",
      "2025/06/05 01:37:27 WARNING mlflow.models.model: Model logged without a signature and input example. Please set `input_example` parameter when logging the model to auto infer the model signature.\n"
     ]
    },
    {
     "name": "stdout",
     "output_type": "stream",
     "text": [
      "🏃 View run Trial_61_XGBoost_undersampling_BoW_1000_bigrams at: https://dagshub.com/SushrutGaikwad/youtube-comments-analyzer.mlflow/#/experiments/6/runs/f0153a72a974485bba153085efc2e368\n",
      "🧪 View experiment at: https://dagshub.com/SushrutGaikwad/youtube-comments-analyzer.mlflow/#/experiments/6\n"
     ]
    },
    {
     "name": "stderr",
     "output_type": "stream",
     "text": [
      "[I 2025-06-05 01:37:33,725] Trial 61 finished with value: 0.7808536751670531 and parameters: {'n_estimators': 626, 'learning_rate': 0.08330486678195761, 'max_depth': 5, 'subsample': 0.8474687414011313, 'colsample_bytree': 0.8012924613713768, 'gamma': 2.702474322718816, 'reg_alpha': 0.0020853588258798544, 'reg_lambda': 0.9012291996571963}. Best is trial 53 with value: 0.786035728896768.\n",
      "2025/06/05 01:38:09 WARNING mlflow.models.model: Model logged without a signature and input example. Please set `input_example` parameter when logging the model to auto infer the model signature.\n"
     ]
    },
    {
     "name": "stdout",
     "output_type": "stream",
     "text": [
      "🏃 View run Trial_62_XGBoost_undersampling_BoW_1000_bigrams at: https://dagshub.com/SushrutGaikwad/youtube-comments-analyzer.mlflow/#/experiments/6/runs/e6af069cbf8346f486ef0e9c312ce06e\n",
      "🧪 View experiment at: https://dagshub.com/SushrutGaikwad/youtube-comments-analyzer.mlflow/#/experiments/6\n"
     ]
    },
    {
     "name": "stderr",
     "output_type": "stream",
     "text": [
      "[I 2025-06-05 01:38:15,718] Trial 62 finished with value: 0.785762989226783 and parameters: {'n_estimators': 673, 'learning_rate': 0.09705190155020108, 'max_depth': 9, 'subsample': 0.8084288169498269, 'colsample_bytree': 0.8361828657522504, 'gamma': 2.087035106124681, 'reg_alpha': 0.004291054934849104, 'reg_lambda': 0.27699297652701843}. Best is trial 53 with value: 0.786035728896768.\n",
      "2025/06/05 01:38:51 WARNING mlflow.models.model: Model logged without a signature and input example. Please set `input_example` parameter when logging the model to auto infer the model signature.\n"
     ]
    },
    {
     "name": "stdout",
     "output_type": "stream",
     "text": [
      "🏃 View run Trial_63_XGBoost_undersampling_BoW_1000_bigrams at: https://dagshub.com/SushrutGaikwad/youtube-comments-analyzer.mlflow/#/experiments/6/runs/12c619cdf3794e8592c412e0987c6312\n",
      "🧪 View experiment at: https://dagshub.com/SushrutGaikwad/youtube-comments-analyzer.mlflow/#/experiments/6\n"
     ]
    },
    {
     "name": "stderr",
     "output_type": "stream",
     "text": [
      "[I 2025-06-05 01:38:58,134] Trial 63 finished with value: 0.785217509886813 and parameters: {'n_estimators': 674, 'learning_rate': 0.06551934504760441, 'max_depth': 8, 'subsample': 0.8068585760680637, 'colsample_bytree': 0.8295188482870663, 'gamma': 2.3298899429670605, 'reg_alpha': 0.010674101206329015, 'reg_lambda': 0.28369454432306007}. Best is trial 53 with value: 0.786035728896768.\n",
      "2025/06/05 01:39:33 WARNING mlflow.models.model: Model logged without a signature and input example. Please set `input_example` parameter when logging the model to auto infer the model signature.\n"
     ]
    },
    {
     "name": "stdout",
     "output_type": "stream",
     "text": [
      "🏃 View run Trial_64_XGBoost_undersampling_BoW_1000_bigrams at: https://dagshub.com/SushrutGaikwad/youtube-comments-analyzer.mlflow/#/experiments/6/runs/5ad400a44c934ab994aeb209ee562774\n",
      "🧪 View experiment at: https://dagshub.com/SushrutGaikwad/youtube-comments-analyzer.mlflow/#/experiments/6\n"
     ]
    },
    {
     "name": "stderr",
     "output_type": "stream",
     "text": [
      "[I 2025-06-05 01:39:39,727] Trial 64 finished with value: 0.783853811536888 and parameters: {'n_estimators': 562, 'learning_rate': 0.060736356606362216, 'max_depth': 8, 'subsample': 0.808239961317253, 'colsample_bytree': 0.8400590828834316, 'gamma': 1.9588153232293979, 'reg_alpha': 0.010347451725272936, 'reg_lambda': 0.13867570405299384}. Best is trial 53 with value: 0.786035728896768.\n",
      "2025/06/05 01:40:15 WARNING mlflow.models.model: Model logged without a signature and input example. Please set `input_example` parameter when logging the model to auto infer the model signature.\n"
     ]
    },
    {
     "name": "stdout",
     "output_type": "stream",
     "text": [
      "🏃 View run Trial_65_XGBoost_undersampling_BoW_1000_bigrams at: https://dagshub.com/SushrutGaikwad/youtube-comments-analyzer.mlflow/#/experiments/6/runs/f831b2515afe485c914fcb83f02056ba\n",
      "🧪 View experiment at: https://dagshub.com/SushrutGaikwad/youtube-comments-analyzer.mlflow/#/experiments/6\n"
     ]
    },
    {
     "name": "stderr",
     "output_type": "stream",
     "text": [
      "[I 2025-06-05 01:40:21,799] Trial 65 finished with value: 0.7794899768171281 and parameters: {'n_estimators': 734, 'learning_rate': 0.04407901723954083, 'max_depth': 8, 'subsample': 0.8298271859853572, 'colsample_bytree': 0.9116436628676278, 'gamma': 2.8915458562085776, 'reg_alpha': 0.005084894238427558, 'reg_lambda': 0.23776635073012556}. Best is trial 53 with value: 0.786035728896768.\n",
      "2025/06/05 01:40:58 WARNING mlflow.models.model: Model logged without a signature and input example. Please set `input_example` parameter when logging the model to auto infer the model signature.\n"
     ]
    },
    {
     "name": "stdout",
     "output_type": "stream",
     "text": [
      "🏃 View run Trial_66_XGBoost_undersampling_BoW_1000_bigrams at: https://dagshub.com/SushrutGaikwad/youtube-comments-analyzer.mlflow/#/experiments/6/runs/1c9c906807a64b4dba55562f58900bf9\n",
      "🧪 View experiment at: https://dagshub.com/SushrutGaikwad/youtube-comments-analyzer.mlflow/#/experiments/6\n"
     ]
    },
    {
     "name": "stderr",
     "output_type": "stream",
     "text": [
      "[I 2025-06-05 01:41:03,746] Trial 66 finished with value: 0.7774444292922406 and parameters: {'n_estimators': 587, 'learning_rate': 0.03587345022924712, 'max_depth': 9, 'subsample': 0.7742936209676787, 'colsample_bytree': 0.8258255681691983, 'gamma': 2.300402226103716, 'reg_alpha': 0.0016672131890508946, 'reg_lambda': 0.45793345336994135}. Best is trial 53 with value: 0.786035728896768.\n",
      "2025/06/05 01:41:39 WARNING mlflow.models.model: Model logged without a signature and input example. Please set `input_example` parameter when logging the model to auto infer the model signature.\n"
     ]
    },
    {
     "name": "stdout",
     "output_type": "stream",
     "text": [
      "🏃 View run Trial_67_XGBoost_undersampling_BoW_1000_bigrams at: https://dagshub.com/SushrutGaikwad/youtube-comments-analyzer.mlflow/#/experiments/6/runs/7d4d6673a2d841d8a43acc66d0cb65e8\n",
      "🧪 View experiment at: https://dagshub.com/SushrutGaikwad/youtube-comments-analyzer.mlflow/#/experiments/6\n"
     ]
    },
    {
     "name": "stderr",
     "output_type": "stream",
     "text": [
      "[I 2025-06-05 01:41:45,769] Trial 67 finished with value: 0.599345424792036 and parameters: {'n_estimators': 699, 'learning_rate': 0.0007573229628580096, 'max_depth': 7, 'subsample': 0.8874847087571787, 'colsample_bytree': 0.9383949714903678, 'gamma': 2.0484281722574202, 'reg_alpha': 0.004529961333216672, 'reg_lambda': 0.0573035539635946}. Best is trial 53 with value: 0.786035728896768.\n",
      "2025/06/05 01:42:21 WARNING mlflow.models.model: Model logged without a signature and input example. Please set `input_example` parameter when logging the model to auto infer the model signature.\n"
     ]
    },
    {
     "name": "stdout",
     "output_type": "stream",
     "text": [
      "🏃 View run Trial_68_XGBoost_undersampling_BoW_1000_bigrams at: https://dagshub.com/SushrutGaikwad/youtube-comments-analyzer.mlflow/#/experiments/6/runs/6f884db1c9b345f99ee502b43ebf0bb6\n",
      "🧪 View experiment at: https://dagshub.com/SushrutGaikwad/youtube-comments-analyzer.mlflow/#/experiments/6\n"
     ]
    },
    {
     "name": "stderr",
     "output_type": "stream",
     "text": [
      "[I 2025-06-05 01:42:27,716] Trial 68 finished with value: 0.7771716896222556 and parameters: {'n_estimators': 805, 'learning_rate': 0.0594333871912864, 'max_depth': 9, 'subsample': 0.7560193044729865, 'colsample_bytree': 0.7569812744586059, 'gamma': 3.1294770497194304, 'reg_alpha': 0.010559785731060438, 'reg_lambda': 1.8995280092396423}. Best is trial 53 with value: 0.786035728896768.\n",
      "2025/06/05 01:43:03 WARNING mlflow.models.model: Model logged without a signature and input example. Please set `input_example` parameter when logging the model to auto infer the model signature.\n"
     ]
    },
    {
     "name": "stdout",
     "output_type": "stream",
     "text": [
      "🏃 View run Trial_69_XGBoost_undersampling_BoW_1000_bigrams at: https://dagshub.com/SushrutGaikwad/youtube-comments-analyzer.mlflow/#/experiments/6/runs/8a96df7c79f34d4baa2916347b52bddc\n",
      "🧪 View experiment at: https://dagshub.com/SushrutGaikwad/youtube-comments-analyzer.mlflow/#/experiments/6\n"
     ]
    },
    {
     "name": "stderr",
     "output_type": "stream",
     "text": [
      "[I 2025-06-05 01:43:09,817] Trial 69 finished with value: 0.7674894313377881 and parameters: {'n_estimators': 656, 'learning_rate': 0.022808995910480866, 'max_depth': 9, 'subsample': 0.8315283862367305, 'colsample_bytree': 0.7248268735877338, 'gamma': 2.649080959090226, 'reg_alpha': 0.015417451736513701, 'reg_lambda': 0.13706697879231525}. Best is trial 53 with value: 0.786035728896768.\n",
      "2025/06/05 01:43:45 WARNING mlflow.models.model: Model logged without a signature and input example. Please set `input_example` parameter when logging the model to auto infer the model signature.\n"
     ]
    },
    {
     "name": "stdout",
     "output_type": "stream",
     "text": [
      "🏃 View run Trial_70_XGBoost_undersampling_BoW_1000_bigrams at: https://dagshub.com/SushrutGaikwad/youtube-comments-analyzer.mlflow/#/experiments/6/runs/feb86d3bad614098a95a20d61c4b1746\n",
      "🧪 View experiment at: https://dagshub.com/SushrutGaikwad/youtube-comments-analyzer.mlflow/#/experiments/6\n"
     ]
    },
    {
     "name": "stderr",
     "output_type": "stream",
     "text": [
      "[I 2025-06-05 01:43:51,712] Trial 70 finished with value: 0.6536206191190509 and parameters: {'n_estimators': 524, 'learning_rate': 0.00019243383705114613, 'max_depth': 10, 'subsample': 0.7909613149500065, 'colsample_bytree': 0.7838094417452649, 'gamma': 2.358225832094864, 'reg_alpha': 0.048833471390367096, 'reg_lambda': 0.26736685528849763}. Best is trial 53 with value: 0.786035728896768.\n",
      "2025/06/05 01:44:27 WARNING mlflow.models.model: Model logged without a signature and input example. Please set `input_example` parameter when logging the model to auto infer the model signature.\n"
     ]
    },
    {
     "name": "stdout",
     "output_type": "stream",
     "text": [
      "🏃 View run Trial_71_XGBoost_undersampling_BoW_1000_bigrams at: https://dagshub.com/SushrutGaikwad/youtube-comments-analyzer.mlflow/#/experiments/6/runs/56358d2a0ac742b8be3773a791b8a33a\n",
      "🧪 View experiment at: https://dagshub.com/SushrutGaikwad/youtube-comments-analyzer.mlflow/#/experiments/6\n"
     ]
    },
    {
     "name": "stderr",
     "output_type": "stream",
     "text": [
      "[I 2025-06-05 01:44:33,769] Trial 71 finished with value: 0.782490113186963 and parameters: {'n_estimators': 572, 'learning_rate': 0.0613367223456255, 'max_depth': 8, 'subsample': 0.8082206916699461, 'colsample_bytree': 0.858613306730124, 'gamma': 1.9844686416175892, 'reg_alpha': 0.011204877595198781, 'reg_lambda': 0.4796329149957239}. Best is trial 53 with value: 0.786035728896768.\n",
      "2025/06/05 01:45:09 WARNING mlflow.models.model: Model logged without a signature and input example. Please set `input_example` parameter when logging the model to auto infer the model signature.\n"
     ]
    },
    {
     "name": "stdout",
     "output_type": "stream",
     "text": [
      "🏃 View run Trial_72_XGBoost_undersampling_BoW_1000_bigrams at: https://dagshub.com/SushrutGaikwad/youtube-comments-analyzer.mlflow/#/experiments/6/runs/cbddc195f40344cf99f9bc50bd343c02\n",
      "🧪 View experiment at: https://dagshub.com/SushrutGaikwad/youtube-comments-analyzer.mlflow/#/experiments/6\n"
     ]
    },
    {
     "name": "stderr",
     "output_type": "stream",
     "text": [
      "[I 2025-06-05 01:45:15,713] Trial 72 finished with value: 0.7869903177417156 and parameters: {'n_estimators': 630, 'learning_rate': 0.07267728093756387, 'max_depth': 8, 'subsample': 0.8070437304292513, 'colsample_bytree': 0.8366686013328347, 'gamma': 1.7711974784476099, 'reg_alpha': 0.033547441386213364, 'reg_lambda': 0.1516512902337055}. Best is trial 72 with value: 0.7869903177417156.\n",
      "2025/06/05 01:45:51 WARNING mlflow.models.model: Model logged without a signature and input example. Please set `input_example` parameter when logging the model to auto infer the model signature.\n"
     ]
    },
    {
     "name": "stdout",
     "output_type": "stream",
     "text": [
      "🏃 View run Trial_73_XGBoost_undersampling_BoW_1000_bigrams at: https://dagshub.com/SushrutGaikwad/youtube-comments-analyzer.mlflow/#/experiments/6/runs/6859170ae3c24c2892d16dff7e3a5154\n",
      "🧪 View experiment at: https://dagshub.com/SushrutGaikwad/youtube-comments-analyzer.mlflow/#/experiments/6\n"
     ]
    },
    {
     "name": "stderr",
     "output_type": "stream",
     "text": [
      "[I 2025-06-05 01:45:57,792] Trial 73 finished with value: 0.7869903177417156 and parameters: {'n_estimators': 625, 'learning_rate': 0.075356662328761, 'max_depth': 7, 'subsample': 0.7775330289627302, 'colsample_bytree': 0.8191935832686287, 'gamma': 1.7979328087868158, 'reg_alpha': 0.017955707754833388, 'reg_lambda': 0.09928090884583148}. Best is trial 72 with value: 0.7869903177417156.\n",
      "2025/06/05 01:46:33 WARNING mlflow.models.model: Model logged without a signature and input example. Please set `input_example` parameter when logging the model to auto infer the model signature.\n"
     ]
    },
    {
     "name": "stdout",
     "output_type": "stream",
     "text": [
      "🏃 View run Trial_74_XGBoost_undersampling_BoW_1000_bigrams at: https://dagshub.com/SushrutGaikwad/youtube-comments-analyzer.mlflow/#/experiments/6/runs/d75adffde72c4219ab177e05485eaa64\n",
      "🧪 View experiment at: https://dagshub.com/SushrutGaikwad/youtube-comments-analyzer.mlflow/#/experiments/6\n"
     ]
    },
    {
     "name": "stderr",
     "output_type": "stream",
     "text": [
      "[I 2025-06-05 01:46:39,723] Trial 74 finished with value: 0.785217509886813 and parameters: {'n_estimators': 624, 'learning_rate': 0.07211491586883252, 'max_depth': 10, 'subsample': 0.7713299167285944, 'colsample_bytree': 0.8885566433311312, 'gamma': 2.1731815587718253, 'reg_alpha': 0.03228711388742684, 'reg_lambda': 0.024032458910955335}. Best is trial 72 with value: 0.7869903177417156.\n",
      "2025/06/05 01:47:15 WARNING mlflow.models.model: Model logged without a signature and input example. Please set `input_example` parameter when logging the model to auto infer the model signature.\n"
     ]
    },
    {
     "name": "stdout",
     "output_type": "stream",
     "text": [
      "🏃 View run Trial_75_XGBoost_undersampling_BoW_1000_bigrams at: https://dagshub.com/SushrutGaikwad/youtube-comments-analyzer.mlflow/#/experiments/6/runs/191af97221b24bf09bfcec12cb733227\n",
      "🧪 View experiment at: https://dagshub.com/SushrutGaikwad/youtube-comments-analyzer.mlflow/#/experiments/6\n"
     ]
    },
    {
     "name": "stderr",
     "output_type": "stream",
     "text": [
      "[I 2025-06-05 01:47:21,884] Trial 75 finished with value: 0.787126687576708 and parameters: {'n_estimators': 625, 'learning_rate': 0.09854526181350548, 'max_depth': 10, 'subsample': 0.7724179561397175, 'colsample_bytree': 0.8702566921814872, 'gamma': 1.8587153087595145, 'reg_alpha': 0.09880915831725993, 'reg_lambda': 0.02041783290747469}. Best is trial 75 with value: 0.787126687576708.\n",
      "2025/06/05 01:47:57 WARNING mlflow.models.model: Model logged without a signature and input example. Please set `input_example` parameter when logging the model to auto infer the model signature.\n"
     ]
    },
    {
     "name": "stdout",
     "output_type": "stream",
     "text": [
      "🏃 View run Trial_76_XGBoost_undersampling_BoW_1000_bigrams at: https://dagshub.com/SushrutGaikwad/youtube-comments-analyzer.mlflow/#/experiments/6/runs/d1babcc17b554b6c8e9962d8d9b0810a\n",
      "🧪 View experiment at: https://dagshub.com/SushrutGaikwad/youtube-comments-analyzer.mlflow/#/experiments/6\n"
     ]
    },
    {
     "name": "stderr",
     "output_type": "stream",
     "text": [
      "[I 2025-06-05 01:48:03,711] Trial 76 finished with value: 0.7869903177417156 and parameters: {'n_estimators': 632, 'learning_rate': 0.09780850280959488, 'max_depth': 9, 'subsample': 0.7767631232837351, 'colsample_bytree': 0.887560813207076, 'gamma': 1.8214425593147885, 'reg_alpha': 0.21248689872720572, 'reg_lambda': 0.0242367882412348}. Best is trial 75 with value: 0.787126687576708.\n",
      "2025/06/05 01:48:39 WARNING mlflow.models.model: Model logged without a signature and input example. Please set `input_example` parameter when logging the model to auto infer the model signature.\n"
     ]
    },
    {
     "name": "stdout",
     "output_type": "stream",
     "text": [
      "🏃 View run Trial_77_XGBoost_undersampling_BoW_1000_bigrams at: https://dagshub.com/SushrutGaikwad/youtube-comments-analyzer.mlflow/#/experiments/6/runs/b9812c625706425c86df7eea529168f0\n",
      "🧪 View experiment at: https://dagshub.com/SushrutGaikwad/youtube-comments-analyzer.mlflow/#/experiments/6\n"
     ]
    },
    {
     "name": "stderr",
     "output_type": "stream",
     "text": [
      "[I 2025-06-05 01:48:45,720] Trial 77 finished with value: 0.786035728896768 and parameters: {'n_estimators': 621, 'learning_rate': 0.09946106428204023, 'max_depth': 8, 'subsample': 0.7707498338674168, 'colsample_bytree': 0.8889924459089863, 'gamma': 1.7892596350395833, 'reg_alpha': 0.2088517804199015, 'reg_lambda': 0.02134382896869473}. Best is trial 75 with value: 0.787126687576708.\n",
      "2025/06/05 01:49:21 WARNING mlflow.models.model: Model logged without a signature and input example. Please set `input_example` parameter when logging the model to auto infer the model signature.\n"
     ]
    },
    {
     "name": "stdout",
     "output_type": "stream",
     "text": [
      "🏃 View run Trial_78_XGBoost_undersampling_BoW_1000_bigrams at: https://dagshub.com/SushrutGaikwad/youtube-comments-analyzer.mlflow/#/experiments/6/runs/556ed677a85147029b1e5cb17b0c93a8\n",
      "🧪 View experiment at: https://dagshub.com/SushrutGaikwad/youtube-comments-analyzer.mlflow/#/experiments/6\n"
     ]
    },
    {
     "name": "stderr",
     "output_type": "stream",
     "text": [
      "[I 2025-06-05 01:49:27,712] Trial 78 finished with value: 0.7831719623619255 and parameters: {'n_estimators': 621, 'learning_rate': 0.054074087477577894, 'max_depth': 8, 'subsample': 0.7384251898137346, 'colsample_bytree': 0.8675201067379427, 'gamma': 1.7673676977929045, 'reg_alpha': 0.4053184328309899, 'reg_lambda': 0.01818519069160006}. Best is trial 75 with value: 0.787126687576708.\n",
      "2025/06/05 01:50:04 WARNING mlflow.models.model: Model logged without a signature and input example. Please set `input_example` parameter when logging the model to auto infer the model signature.\n"
     ]
    },
    {
     "name": "stdout",
     "output_type": "stream",
     "text": [
      "🏃 View run Trial_79_XGBoost_undersampling_BoW_1000_bigrams at: https://dagshub.com/SushrutGaikwad/youtube-comments-analyzer.mlflow/#/experiments/6/runs/70f2bdcbfd2f474292505853bd7f328b\n",
      "🧪 View experiment at: https://dagshub.com/SushrutGaikwad/youtube-comments-analyzer.mlflow/#/experiments/6\n"
     ]
    },
    {
     "name": "stderr",
     "output_type": "stream",
     "text": [
      "[I 2025-06-05 01:50:09,721] Trial 79 finished with value: 0.785762989226783 and parameters: {'n_estimators': 732, 'learning_rate': 0.09953358070767243, 'max_depth': 9, 'subsample': 0.758040817191909, 'colsample_bytree': 0.8923054597613903, 'gamma': 1.80642886279702, 'reg_alpha': 0.16722894529546606, 'reg_lambda': 0.0077888163071297934}. Best is trial 75 with value: 0.787126687576708.\n",
      "2025/06/05 01:50:45 WARNING mlflow.models.model: Model logged without a signature and input example. Please set `input_example` parameter when logging the model to auto infer the model signature.\n"
     ]
    },
    {
     "name": "stdout",
     "output_type": "stream",
     "text": [
      "🏃 View run Trial_80_XGBoost_undersampling_BoW_1000_bigrams at: https://dagshub.com/SushrutGaikwad/youtube-comments-analyzer.mlflow/#/experiments/6/runs/8909c41d29ab4060bb605d7c65c7c28b\n",
      "🧪 View experiment at: https://dagshub.com/SushrutGaikwad/youtube-comments-analyzer.mlflow/#/experiments/6\n"
     ]
    },
    {
     "name": "stderr",
     "output_type": "stream",
     "text": [
      "[I 2025-06-05 01:50:52,629] Trial 80 finished with value: 0.786581208236738 and parameters: {'n_estimators': 727, 'learning_rate': 0.09733486805393944, 'max_depth': 9, 'subsample': 0.7672151350570721, 'colsample_bytree': 0.9003182605554577, 'gamma': 1.7770302685484556, 'reg_alpha': 0.20912222216229115, 'reg_lambda': 0.008072659762272269}. Best is trial 75 with value: 0.787126687576708.\n",
      "2025/06/05 01:51:27 WARNING mlflow.models.model: Model logged without a signature and input example. Please set `input_example` parameter when logging the model to auto infer the model signature.\n"
     ]
    },
    {
     "name": "stdout",
     "output_type": "stream",
     "text": [
      "🏃 View run Trial_81_XGBoost_undersampling_BoW_1000_bigrams at: https://dagshub.com/SushrutGaikwad/youtube-comments-analyzer.mlflow/#/experiments/6/runs/19f06707677744379c3abe1cf12705eb\n",
      "🧪 View experiment at: https://dagshub.com/SushrutGaikwad/youtube-comments-analyzer.mlflow/#/experiments/6\n"
     ]
    },
    {
     "name": "stderr",
     "output_type": "stream",
     "text": [
      "[I 2025-06-05 01:51:33,728] Trial 81 finished with value: 0.7846720305468431 and parameters: {'n_estimators': 723, 'learning_rate': 0.09261203203130046, 'max_depth': 9, 'subsample': 0.7660361177185805, 'colsample_bytree': 0.9610340236630264, 'gamma': 1.8150297466092176, 'reg_alpha': 0.22436659402579603, 'reg_lambda': 0.009139244281872324}. Best is trial 75 with value: 0.787126687576708.\n",
      "2025/06/05 01:52:09 WARNING mlflow.models.model: Model logged without a signature and input example. Please set `input_example` parameter when logging the model to auto infer the model signature.\n"
     ]
    },
    {
     "name": "stdout",
     "output_type": "stream",
     "text": [
      "🏃 View run Trial_82_XGBoost_undersampling_BoW_1000_bigrams at: https://dagshub.com/SushrutGaikwad/youtube-comments-analyzer.mlflow/#/experiments/6/runs/b11bb715bfb44549abcee6519ca48a6d\n",
      "🧪 View experiment at: https://dagshub.com/SushrutGaikwad/youtube-comments-analyzer.mlflow/#/experiments/6\n"
     ]
    },
    {
     "name": "stderr",
     "output_type": "stream",
     "text": [
      "[I 2025-06-05 01:52:15,739] Trial 82 finished with value: 0.7850811400518205 and parameters: {'n_estimators': 782, 'learning_rate': 0.09755613168033961, 'max_depth': 9, 'subsample': 0.7497933150792204, 'colsample_bytree': 0.8969865717028725, 'gamma': 1.6121099826564647, 'reg_alpha': 0.19700841491077795, 'reg_lambda': 0.007047320548529703}. Best is trial 75 with value: 0.787126687576708.\n",
      "2025/06/05 01:52:51 WARNING mlflow.models.model: Model logged without a signature and input example. Please set `input_example` parameter when logging the model to auto infer the model signature.\n"
     ]
    },
    {
     "name": "stdout",
     "output_type": "stream",
     "text": [
      "🏃 View run Trial_83_XGBoost_undersampling_BoW_1000_bigrams at: https://dagshub.com/SushrutGaikwad/youtube-comments-analyzer.mlflow/#/experiments/6/runs/49313b5254a043398750b89d56aea2f0\n",
      "🧪 View experiment at: https://dagshub.com/SushrutGaikwad/youtube-comments-analyzer.mlflow/#/experiments/6\n"
     ]
    },
    {
     "name": "stderr",
     "output_type": "stream",
     "text": [
      "[I 2025-06-05 01:52:57,742] Trial 83 finished with value: 0.784399290876858 and parameters: {'n_estimators': 725, 'learning_rate': 0.09963154378690527, 'max_depth': 7, 'subsample': 0.7885490320214699, 'colsample_bytree': 0.9151992745421871, 'gamma': 1.796566651767677, 'reg_alpha': 0.4133197191282822, 'reg_lambda': 0.004656438640802954}. Best is trial 75 with value: 0.787126687576708.\n",
      "2025/06/05 01:53:33 WARNING mlflow.models.model: Model logged without a signature and input example. Please set `input_example` parameter when logging the model to auto infer the model signature.\n"
     ]
    },
    {
     "name": "stdout",
     "output_type": "stream",
     "text": [
      "🏃 View run Trial_84_XGBoost_undersampling_BoW_1000_bigrams at: https://dagshub.com/SushrutGaikwad/youtube-comments-analyzer.mlflow/#/experiments/6/runs/7d18f34d70304927ab4ba0a6a59a0480\n",
      "🧪 View experiment at: https://dagshub.com/SushrutGaikwad/youtube-comments-analyzer.mlflow/#/experiments/6\n"
     ]
    },
    {
     "name": "stderr",
     "output_type": "stream",
     "text": [
      "[I 2025-06-05 01:53:39,732] Trial 84 finished with value: 0.784126551206873 and parameters: {'n_estimators': 532, 'learning_rate': 0.0678613500741409, 'max_depth': 8, 'subsample': 0.7812666110471544, 'colsample_bytree': 0.8780359686176301, 'gamma': 1.4899929521869228, 'reg_alpha': 0.1029852256177274, 'reg_lambda': 0.017999179011720632}. Best is trial 75 with value: 0.787126687576708.\n",
      "2025/06/05 01:54:15 WARNING mlflow.models.model: Model logged without a signature and input example. Please set `input_example` parameter when logging the model to auto infer the model signature.\n"
     ]
    },
    {
     "name": "stdout",
     "output_type": "stream",
     "text": [
      "🏃 View run Trial_85_XGBoost_undersampling_BoW_1000_bigrams at: https://dagshub.com/SushrutGaikwad/youtube-comments-analyzer.mlflow/#/experiments/6/runs/c910c32499cc4953a3d5005473873556\n",
      "🧪 View experiment at: https://dagshub.com/SushrutGaikwad/youtube-comments-analyzer.mlflow/#/experiments/6\n"
     ]
    },
    {
     "name": "stderr",
     "output_type": "stream",
     "text": [
      "[I 2025-06-05 01:54:22,474] Trial 85 finished with value: 0.6673939724532933 and parameters: {'n_estimators': 854, 'learning_rate': 0.0025207896492612848, 'max_depth': 8, 'subsample': 0.7525696822141497, 'colsample_bytree': 0.9372307481182359, 'gamma': 2.0689011573474074, 'reg_alpha': 0.7300425753868107, 'reg_lambda': 0.051129114668548255}. Best is trial 75 with value: 0.787126687576708.\n",
      "2025/06/05 01:54:57 WARNING mlflow.models.model: Model logged without a signature and input example. Please set `input_example` parameter when logging the model to auto infer the model signature.\n"
     ]
    },
    {
     "name": "stdout",
     "output_type": "stream",
     "text": [
      "🏃 View run Trial_86_XGBoost_undersampling_BoW_1000_bigrams at: https://dagshub.com/SushrutGaikwad/youtube-comments-analyzer.mlflow/#/experiments/6/runs/5eb38a8383e34e2cbb23771f9c68d48b\n",
      "🧪 View experiment at: https://dagshub.com/SushrutGaikwad/youtube-comments-analyzer.mlflow/#/experiments/6\n"
     ]
    },
    {
     "name": "stderr",
     "output_type": "stream",
     "text": [
      "[I 2025-06-05 01:55:03,704] Trial 86 finished with value: 0.7695349788626755 and parameters: {'n_estimators': 755, 'learning_rate': 0.053452490222609166, 'max_depth': 9, 'subsample': 0.845247194751536, 'colsample_bytree': 0.8568533941802007, 'gamma': 4.952857194726295, 'reg_alpha': 0.17482966281694248, 'reg_lambda': 0.030119490843915294}. Best is trial 75 with value: 0.787126687576708.\n",
      "2025/06/05 01:55:39 WARNING mlflow.models.model: Model logged without a signature and input example. Please set `input_example` parameter when logging the model to auto infer the model signature.\n"
     ]
    },
    {
     "name": "stdout",
     "output_type": "stream",
     "text": [
      "🏃 View run Trial_87_XGBoost_undersampling_BoW_1000_bigrams at: https://dagshub.com/SushrutGaikwad/youtube-comments-analyzer.mlflow/#/experiments/6/runs/b3db2d247e0d4bceb977c96839d240b2\n",
      "🧪 View experiment at: https://dagshub.com/SushrutGaikwad/youtube-comments-analyzer.mlflow/#/experiments/6\n"
     ]
    },
    {
     "name": "stderr",
     "output_type": "stream",
     "text": [
      "[I 2025-06-05 01:55:45,871] Trial 87 finished with value: 0.785762989226783 and parameters: {'n_estimators': 619, 'learning_rate': 0.08374814583862873, 'max_depth': 6, 'subsample': 0.732672278249616, 'colsample_bytree': 0.8953898787014989, 'gamma': 1.873320093807801, 'reg_alpha': 0.10349266168595544, 'reg_lambda': 0.013692329748308687}. Best is trial 75 with value: 0.787126687576708.\n",
      "2025/06/05 01:56:21 WARNING mlflow.models.model: Model logged without a signature and input example. Please set `input_example` parameter when logging the model to auto infer the model signature.\n"
     ]
    },
    {
     "name": "stdout",
     "output_type": "stream",
     "text": [
      "🏃 View run Trial_88_XGBoost_undersampling_BoW_1000_bigrams at: https://dagshub.com/SushrutGaikwad/youtube-comments-analyzer.mlflow/#/experiments/6/runs/f8899b9ee9aa4791b754d3b7e98fa9de\n",
      "🧪 View experiment at: https://dagshub.com/SushrutGaikwad/youtube-comments-analyzer.mlflow/#/experiments/6\n"
     ]
    },
    {
     "name": "stderr",
     "output_type": "stream",
     "text": [
      "[I 2025-06-05 01:56:27,712] Trial 88 finished with value: 0.7809900450020455 and parameters: {'n_estimators': 593, 'learning_rate': 0.04074546339888328, 'max_depth': 9, 'subsample': 0.7648352125139959, 'colsample_bytree': 0.8460240246769044, 'gamma': 1.6677819015427533, 'reg_alpha': 0.07265233976320032, 'reg_lambda': 0.007234022317094529}. Best is trial 75 with value: 0.787126687576708.\n",
      "2025/06/05 01:57:03 WARNING mlflow.models.model: Model logged without a signature and input example. Please set `input_example` parameter when logging the model to auto infer the model signature.\n"
     ]
    },
    {
     "name": "stdout",
     "output_type": "stream",
     "text": [
      "🏃 View run Trial_89_XGBoost_undersampling_BoW_1000_bigrams at: https://dagshub.com/SushrutGaikwad/youtube-comments-analyzer.mlflow/#/experiments/6/runs/4be07ac061dc42b9bd29467438788f60\n",
      "🧪 View experiment at: https://dagshub.com/SushrutGaikwad/youtube-comments-analyzer.mlflow/#/experiments/6\n"
     ]
    },
    {
     "name": "stderr",
     "output_type": "stream",
     "text": [
      "[I 2025-06-05 01:57:09,733] Trial 89 finished with value: 0.785762989226783 and parameters: {'n_estimators': 783, 'learning_rate': 0.07220638458859728, 'max_depth': 8, 'subsample': 0.7926068106437859, 'colsample_bytree': 0.8133338260271612, 'gamma': 2.1939041669511465, 'reg_alpha': 0.30183826198639996, 'reg_lambda': 0.03714258176997816}. Best is trial 75 with value: 0.787126687576708.\n",
      "2025/06/05 01:57:45 WARNING mlflow.models.model: Model logged without a signature and input example. Please set `input_example` parameter when logging the model to auto infer the model signature.\n"
     ]
    },
    {
     "name": "stdout",
     "output_type": "stream",
     "text": [
      "🏃 View run Trial_90_XGBoost_undersampling_BoW_1000_bigrams at: https://dagshub.com/SushrutGaikwad/youtube-comments-analyzer.mlflow/#/experiments/6/runs/43cefed068a34d90b7d732bfdd46aac4\n",
      "🧪 View experiment at: https://dagshub.com/SushrutGaikwad/youtube-comments-analyzer.mlflow/#/experiments/6\n"
     ]
    },
    {
     "name": "stderr",
     "output_type": "stream",
     "text": [
      "[I 2025-06-05 01:57:51,701] Trial 90 finished with value: 0.7858993590617755 and parameters: {'n_estimators': 637, 'learning_rate': 0.0862186343174541, 'max_depth': 7, 'subsample': 0.8199183456141186, 'colsample_bytree': 0.923483637688491, 'gamma': 1.418804752389811, 'reg_alpha': 0.284568586489044, 'reg_lambda': 0.015041585450309638}. Best is trial 75 with value: 0.787126687576708.\n",
      "2025/06/05 01:58:27 WARNING mlflow.models.model: Model logged without a signature and input example. Please set `input_example` parameter when logging the model to auto infer the model signature.\n"
     ]
    },
    {
     "name": "stdout",
     "output_type": "stream",
     "text": [
      "🏃 View run Trial_91_XGBoost_undersampling_BoW_1000_bigrams at: https://dagshub.com/SushrutGaikwad/youtube-comments-analyzer.mlflow/#/experiments/6/runs/b94495e0290c44718ccd38d3adef2fd1\n",
      "🧪 View experiment at: https://dagshub.com/SushrutGaikwad/youtube-comments-analyzer.mlflow/#/experiments/6\n"
     ]
    },
    {
     "name": "stderr",
     "output_type": "stream",
     "text": [
      "[I 2025-06-05 01:58:33,705] Trial 91 finished with value: 0.7861720987317605 and parameters: {'n_estimators': 632, 'learning_rate': 0.08674988026731068, 'max_depth': 7, 'subsample': 0.7810248119042915, 'colsample_bytree': 0.9244172004958651, 'gamma': 1.438236185101652, 'reg_alpha': 0.28995300585892564, 'reg_lambda': 0.01694884630069899}. Best is trial 75 with value: 0.787126687576708.\n",
      "2025/06/05 01:59:09 WARNING mlflow.models.model: Model logged without a signature and input example. Please set `input_example` parameter when logging the model to auto infer the model signature.\n"
     ]
    },
    {
     "name": "stdout",
     "output_type": "stream",
     "text": [
      "🏃 View run Trial_92_XGBoost_undersampling_BoW_1000_bigrams at: https://dagshub.com/SushrutGaikwad/youtube-comments-analyzer.mlflow/#/experiments/6/runs/7526d85eb818416fb15f10a35a6e1a83\n",
      "🧪 View experiment at: https://dagshub.com/SushrutGaikwad/youtube-comments-analyzer.mlflow/#/experiments/6\n"
     ]
    },
    {
     "name": "stderr",
     "output_type": "stream",
     "text": [
      "[I 2025-06-05 01:59:15,707] Trial 92 finished with value: 0.7858993590617755 and parameters: {'n_estimators': 637, 'learning_rate': 0.08529506367944556, 'max_depth': 7, 'subsample': 0.8185680382735011, 'colsample_bytree': 0.9835089921699575, 'gamma': 1.4509208253039585, 'reg_alpha': 0.28535163582196305, 'reg_lambda': 0.02908920333617072}. Best is trial 75 with value: 0.787126687576708.\n",
      "2025/06/05 01:59:51 WARNING mlflow.models.model: Model logged without a signature and input example. Please set `input_example` parameter when logging the model to auto infer the model signature.\n"
     ]
    },
    {
     "name": "stdout",
     "output_type": "stream",
     "text": [
      "🏃 View run Trial_93_XGBoost_undersampling_BoW_1000_bigrams at: https://dagshub.com/SushrutGaikwad/youtube-comments-analyzer.mlflow/#/experiments/6/runs/19a69c7bad6e41798d6fb787cea6f651\n",
      "🧪 View experiment at: https://dagshub.com/SushrutGaikwad/youtube-comments-analyzer.mlflow/#/experiments/6\n"
     ]
    },
    {
     "name": "stderr",
     "output_type": "stream",
     "text": [
      "[I 2025-06-05 01:59:57,702] Trial 93 finished with value: 0.7789444974771581 and parameters: {'n_estimators': 546, 'learning_rate': 0.05893058323924223, 'max_depth': 7, 'subsample': 0.7800324628693052, 'colsample_bytree': 0.9894760882207927, 'gamma': 1.3273229600455299, 'reg_alpha': 0.8213283716243513, 'reg_lambda': 0.01721696069389663}. Best is trial 75 with value: 0.787126687576708.\n",
      "2025/06/05 02:00:33 WARNING mlflow.models.model: Model logged without a signature and input example. Please set `input_example` parameter when logging the model to auto infer the model signature.\n"
     ]
    },
    {
     "name": "stdout",
     "output_type": "stream",
     "text": [
      "🏃 View run Trial_94_XGBoost_undersampling_BoW_1000_bigrams at: https://dagshub.com/SushrutGaikwad/youtube-comments-analyzer.mlflow/#/experiments/6/runs/dbd9d5cf150d4debaf92485504cbb343\n",
      "🧪 View experiment at: https://dagshub.com/SushrutGaikwad/youtube-comments-analyzer.mlflow/#/experiments/6\n"
     ]
    },
    {
     "name": "stderr",
     "output_type": "stream",
     "text": [
      "[I 2025-06-05 02:00:39,713] Trial 94 finished with value: 0.785217509886813 and parameters: {'n_estimators': 636, 'learning_rate': 0.08221287723787901, 'max_depth': 6, 'subsample': 0.7451940878015902, 'colsample_bytree': 0.9265006365478485, 'gamma': 1.4154806509629714, 'reg_alpha': 0.3382507404582305, 'reg_lambda': 0.03020254476205972}. Best is trial 75 with value: 0.787126687576708.\n",
      "2025/06/05 02:01:15 WARNING mlflow.models.model: Model logged without a signature and input example. Please set `input_example` parameter when logging the model to auto infer the model signature.\n"
     ]
    },
    {
     "name": "stdout",
     "output_type": "stream",
     "text": [
      "🏃 View run Trial_95_XGBoost_undersampling_BoW_1000_bigrams at: https://dagshub.com/SushrutGaikwad/youtube-comments-analyzer.mlflow/#/experiments/6/runs/ea130d7ae94f46f0a12d11c32be15ea1\n",
      "🧪 View experiment at: https://dagshub.com/SushrutGaikwad/youtube-comments-analyzer.mlflow/#/experiments/6\n"
     ]
    },
    {
     "name": "stderr",
     "output_type": "stream",
     "text": [
      "[I 2025-06-05 02:01:21,734] Trial 95 finished with value: 0.7858993590617755 and parameters: {'n_estimators': 603, 'learning_rate': 0.06804912382103973, 'max_depth': 7, 'subsample': 0.8193073770752818, 'colsample_bytree': 0.9534580073768624, 'gamma': 1.5397615968019067, 'reg_alpha': 0.5356947406233896, 'reg_lambda': 0.005356933124753308}. Best is trial 75 with value: 0.787126687576708.\n",
      "2025/06/05 02:01:57 WARNING mlflow.models.model: Model logged without a signature and input example. Please set `input_example` parameter when logging the model to auto infer the model signature.\n"
     ]
    },
    {
     "name": "stdout",
     "output_type": "stream",
     "text": [
      "🏃 View run Trial_96_XGBoost_undersampling_BoW_1000_bigrams at: https://dagshub.com/SushrutGaikwad/youtube-comments-analyzer.mlflow/#/experiments/6/runs/6677d57d046a4a5cb3efbc19c6044196\n",
      "🧪 View experiment at: https://dagshub.com/SushrutGaikwad/youtube-comments-analyzer.mlflow/#/experiments/6\n"
     ]
    },
    {
     "name": "stderr",
     "output_type": "stream",
     "text": [
      "[I 2025-06-05 02:02:03,704] Trial 96 finished with value: 0.7721260057275331 and parameters: {'n_estimators': 493, 'learning_rate': 0.04960866975393962, 'max_depth': 6, 'subsample': 0.7958423478093823, 'colsample_bytree': 0.92620153089676, 'gamma': 0.9733742900097027, 'reg_alpha': 0.2774332230126713, 'reg_lambda': 0.002078897245405338}. Best is trial 75 with value: 0.787126687576708.\n",
      "2025/06/05 02:02:39 WARNING mlflow.models.model: Model logged without a signature and input example. Please set `input_example` parameter when logging the model to auto infer the model signature.\n"
     ]
    },
    {
     "name": "stdout",
     "output_type": "stream",
     "text": [
      "🏃 View run Trial_97_XGBoost_undersampling_BoW_1000_bigrams at: https://dagshub.com/SushrutGaikwad/youtube-comments-analyzer.mlflow/#/experiments/6/runs/008803bd506b4950bc2f8bacce5f68ec\n",
      "🧪 View experiment at: https://dagshub.com/SushrutGaikwad/youtube-comments-analyzer.mlflow/#/experiments/6\n"
     ]
    },
    {
     "name": "stderr",
     "output_type": "stream",
     "text": [
      "[I 2025-06-05 02:02:45,703] Trial 97 finished with value: 0.7691258693576981 and parameters: {'n_estimators': 647, 'learning_rate': 0.034859133478872505, 'max_depth': 7, 'subsample': 0.8410683427362102, 'colsample_bytree': 0.9766171111958002, 'gamma': 1.082000864874538, 'reg_alpha': 1.4546299452994216, 'reg_lambda': 0.06804941605933168}. Best is trial 75 with value: 0.787126687576708.\n",
      "2025/06/05 02:03:21 WARNING mlflow.models.model: Model logged without a signature and input example. Please set `input_example` parameter when logging the model to auto infer the model signature.\n"
     ]
    },
    {
     "name": "stdout",
     "output_type": "stream",
     "text": [
      "🏃 View run Trial_98_XGBoost_undersampling_BoW_1000_bigrams at: https://dagshub.com/SushrutGaikwad/youtube-comments-analyzer.mlflow/#/experiments/6/runs/ee0300fbc1f44c4fa45b4aaa52dbafe1\n",
      "🧪 View experiment at: https://dagshub.com/SushrutGaikwad/youtube-comments-analyzer.mlflow/#/experiments/6\n"
     ]
    },
    {
     "name": "stderr",
     "output_type": "stream",
     "text": [
      "[I 2025-06-05 02:03:27,702] Trial 98 finished with value: 0.7849447702168281 and parameters: {'n_estimators': 710, 'learning_rate': 0.08331554529903365, 'max_depth': 8, 'subsample': 0.7243044999330589, 'colsample_bytree': 0.9095789736408462, 'gamma': 1.3011982672827336, 'reg_alpha': 0.1154116520992475, 'reg_lambda': 0.012742827140762063}. Best is trial 75 with value: 0.787126687576708.\n",
      "2025/06/05 02:04:04 WARNING mlflow.models.model: Model logged without a signature and input example. Please set `input_example` parameter when logging the model to auto infer the model signature.\n"
     ]
    },
    {
     "name": "stdout",
     "output_type": "stream",
     "text": [
      "🏃 View run Trial_99_XGBoost_undersampling_BoW_1000_bigrams at: https://dagshub.com/SushrutGaikwad/youtube-comments-analyzer.mlflow/#/experiments/6/runs/64ebe46dbc6d456eb91f84eda936e62f\n",
      "🧪 View experiment at: https://dagshub.com/SushrutGaikwad/youtube-comments-analyzer.mlflow/#/experiments/6\n"
     ]
    },
    {
     "name": "stderr",
     "output_type": "stream",
     "text": [
      "[I 2025-06-05 02:04:09,905] Trial 99 finished with value: 0.6551206873039683 and parameters: {'n_estimators': 503, 'learning_rate': 0.004797578432783995, 'max_depth': 6, 'subsample': 0.7740079986903426, 'colsample_bytree': 0.8704615980481, 'gamma': 1.7143546167128956, 'reg_alpha': 0.2302147964350328, 'reg_lambda': 0.09580747960066929}. Best is trial 75 with value: 0.787126687576708.\n"
     ]
    }
   ],
   "source": [
    "study = optuna.create_study(direction=\"maximize\")\n",
    "study.optimize(objective, n_trials=100)"
   ]
  },
  {
   "cell_type": "code",
   "execution_count": 9,
   "id": "347a7bcc",
   "metadata": {},
   "outputs": [],
   "source": [
    "# Getting the best parameters\n",
    "best_params = study.best_params\n",
    "best_model = XGBClassifier(\n",
    "    n_estimators=best_params[\"n_estimators\"],\n",
    "    learning_rate=best_params[\"learning_rate\"],\n",
    "    max_depth=best_params[\"max_depth\"],\n",
    "    subsample=best_params[\"subsample\"],\n",
    "    colsample_bytree=best_params[\"colsample_bytree\"],\n",
    "    gamma=best_params[\"gamma\"],\n",
    "    reg_alpha=best_params[\"reg_alpha\"],\n",
    "    reg_lambda=best_params[\"reg_lambda\"],\n",
    "    random_state=42,\n",
    "    n_jobs=-1\n",
    ")"
   ]
  },
  {
   "cell_type": "code",
   "execution_count": 10,
   "id": "fec43a03",
   "metadata": {},
   "outputs": [
    {
     "name": "stderr",
     "output_type": "stream",
     "text": [
      "2025/06/05 02:05:02 WARNING mlflow.models.model: Model logged without a signature and input example. Please set `input_example` parameter when logging the model to auto infer the model signature.\n"
     ]
    },
    {
     "name": "stdout",
     "output_type": "stream",
     "text": [
      "🏃 View run Trial_best_XGBoost_undersampling_BoW_1000_bigrams at: https://dagshub.com/SushrutGaikwad/youtube-comments-analyzer.mlflow/#/experiments/6/runs/c4cf4df1b728423caa99940187c98509\n",
      "🧪 View experiment at: https://dagshub.com/SushrutGaikwad/youtube-comments-analyzer.mlflow/#/experiments/6\n"
     ]
    },
    {
     "data": {
      "text/plain": [
       "0.787126687576708"
      ]
     },
     "execution_count": 10,
     "metadata": {},
     "output_type": "execute_result"
    }
   ],
   "source": [
    "# Logging the best model\n",
    "log_to_mlflow(\n",
    "    model_name=\"XGBoost\",\n",
    "    model=best_model,\n",
    "    X_train=X_train_vectorized,\n",
    "    X_test=X_test_vectorized,\n",
    "    y_train=y_train,\n",
    "    y_test=y_test,\n",
    "    params=best_params,\n",
    "    trial_number=\"best\"\n",
    ")"
   ]
  },
  {
   "cell_type": "code",
   "execution_count": 11,
   "id": "8ed1d07d",
   "metadata": {},
   "outputs": [
    {
     "data": {
      "application/vnd.plotly.v1+json": {
       "config": {
        "plotlyServerURL": "https://plot.ly"
       },
       "data": [
        {
         "cliponaxis": false,
         "hovertemplate": [
          "reg_lambda (FloatDistribution): 0.0009494147009851784<extra></extra>",
          "gamma (FloatDistribution): 0.0026880729147607725<extra></extra>",
          "colsample_bytree (FloatDistribution): 0.0032769038851477943<extra></extra>",
          "n_estimators (IntDistribution): 0.0050368395757712705<extra></extra>",
          "subsample (FloatDistribution): 0.008577127642235938<extra></extra>",
          "max_depth (IntDistribution): 0.009750200033810774<extra></extra>",
          "reg_alpha (FloatDistribution): 0.03665375350769749<extra></extra>",
          "learning_rate (FloatDistribution): 0.9330676877395909<extra></extra>"
         ],
         "name": "Objective Value",
         "orientation": "h",
         "text": [
          "<0.01",
          "<0.01",
          "<0.01",
          "<0.01",
          "<0.01",
          "<0.01",
          "0.04",
          "0.93"
         ],
         "textposition": "outside",
         "type": "bar",
         "x": [
          0.0009494147009851784,
          0.0026880729147607725,
          0.0032769038851477943,
          0.0050368395757712705,
          0.008577127642235938,
          0.009750200033810774,
          0.03665375350769749,
          0.9330676877395909
         ],
         "y": [
          "reg_lambda",
          "gamma",
          "colsample_bytree",
          "n_estimators",
          "subsample",
          "max_depth",
          "reg_alpha",
          "learning_rate"
         ]
        }
       ],
       "layout": {
        "template": {
         "data": {
          "bar": [
           {
            "error_x": {
             "color": "#2a3f5f"
            },
            "error_y": {
             "color": "#2a3f5f"
            },
            "marker": {
             "line": {
              "color": "#E5ECF6",
              "width": 0.5
             },
             "pattern": {
              "fillmode": "overlay",
              "size": 10,
              "solidity": 0.2
             }
            },
            "type": "bar"
           }
          ],
          "barpolar": [
           {
            "marker": {
             "line": {
              "color": "#E5ECF6",
              "width": 0.5
             },
             "pattern": {
              "fillmode": "overlay",
              "size": 10,
              "solidity": 0.2
             }
            },
            "type": "barpolar"
           }
          ],
          "carpet": [
           {
            "aaxis": {
             "endlinecolor": "#2a3f5f",
             "gridcolor": "white",
             "linecolor": "white",
             "minorgridcolor": "white",
             "startlinecolor": "#2a3f5f"
            },
            "baxis": {
             "endlinecolor": "#2a3f5f",
             "gridcolor": "white",
             "linecolor": "white",
             "minorgridcolor": "white",
             "startlinecolor": "#2a3f5f"
            },
            "type": "carpet"
           }
          ],
          "choropleth": [
           {
            "colorbar": {
             "outlinewidth": 0,
             "ticks": ""
            },
            "type": "choropleth"
           }
          ],
          "contour": [
           {
            "colorbar": {
             "outlinewidth": 0,
             "ticks": ""
            },
            "colorscale": [
             [
              0,
              "#0d0887"
             ],
             [
              0.1111111111111111,
              "#46039f"
             ],
             [
              0.2222222222222222,
              "#7201a8"
             ],
             [
              0.3333333333333333,
              "#9c179e"
             ],
             [
              0.4444444444444444,
              "#bd3786"
             ],
             [
              0.5555555555555556,
              "#d8576b"
             ],
             [
              0.6666666666666666,
              "#ed7953"
             ],
             [
              0.7777777777777778,
              "#fb9f3a"
             ],
             [
              0.8888888888888888,
              "#fdca26"
             ],
             [
              1,
              "#f0f921"
             ]
            ],
            "type": "contour"
           }
          ],
          "contourcarpet": [
           {
            "colorbar": {
             "outlinewidth": 0,
             "ticks": ""
            },
            "type": "contourcarpet"
           }
          ],
          "heatmap": [
           {
            "colorbar": {
             "outlinewidth": 0,
             "ticks": ""
            },
            "colorscale": [
             [
              0,
              "#0d0887"
             ],
             [
              0.1111111111111111,
              "#46039f"
             ],
             [
              0.2222222222222222,
              "#7201a8"
             ],
             [
              0.3333333333333333,
              "#9c179e"
             ],
             [
              0.4444444444444444,
              "#bd3786"
             ],
             [
              0.5555555555555556,
              "#d8576b"
             ],
             [
              0.6666666666666666,
              "#ed7953"
             ],
             [
              0.7777777777777778,
              "#fb9f3a"
             ],
             [
              0.8888888888888888,
              "#fdca26"
             ],
             [
              1,
              "#f0f921"
             ]
            ],
            "type": "heatmap"
           }
          ],
          "histogram": [
           {
            "marker": {
             "pattern": {
              "fillmode": "overlay",
              "size": 10,
              "solidity": 0.2
             }
            },
            "type": "histogram"
           }
          ],
          "histogram2d": [
           {
            "colorbar": {
             "outlinewidth": 0,
             "ticks": ""
            },
            "colorscale": [
             [
              0,
              "#0d0887"
             ],
             [
              0.1111111111111111,
              "#46039f"
             ],
             [
              0.2222222222222222,
              "#7201a8"
             ],
             [
              0.3333333333333333,
              "#9c179e"
             ],
             [
              0.4444444444444444,
              "#bd3786"
             ],
             [
              0.5555555555555556,
              "#d8576b"
             ],
             [
              0.6666666666666666,
              "#ed7953"
             ],
             [
              0.7777777777777778,
              "#fb9f3a"
             ],
             [
              0.8888888888888888,
              "#fdca26"
             ],
             [
              1,
              "#f0f921"
             ]
            ],
            "type": "histogram2d"
           }
          ],
          "histogram2dcontour": [
           {
            "colorbar": {
             "outlinewidth": 0,
             "ticks": ""
            },
            "colorscale": [
             [
              0,
              "#0d0887"
             ],
             [
              0.1111111111111111,
              "#46039f"
             ],
             [
              0.2222222222222222,
              "#7201a8"
             ],
             [
              0.3333333333333333,
              "#9c179e"
             ],
             [
              0.4444444444444444,
              "#bd3786"
             ],
             [
              0.5555555555555556,
              "#d8576b"
             ],
             [
              0.6666666666666666,
              "#ed7953"
             ],
             [
              0.7777777777777778,
              "#fb9f3a"
             ],
             [
              0.8888888888888888,
              "#fdca26"
             ],
             [
              1,
              "#f0f921"
             ]
            ],
            "type": "histogram2dcontour"
           }
          ],
          "mesh3d": [
           {
            "colorbar": {
             "outlinewidth": 0,
             "ticks": ""
            },
            "type": "mesh3d"
           }
          ],
          "parcoords": [
           {
            "line": {
             "colorbar": {
              "outlinewidth": 0,
              "ticks": ""
             }
            },
            "type": "parcoords"
           }
          ],
          "pie": [
           {
            "automargin": true,
            "type": "pie"
           }
          ],
          "scatter": [
           {
            "fillpattern": {
             "fillmode": "overlay",
             "size": 10,
             "solidity": 0.2
            },
            "type": "scatter"
           }
          ],
          "scatter3d": [
           {
            "line": {
             "colorbar": {
              "outlinewidth": 0,
              "ticks": ""
             }
            },
            "marker": {
             "colorbar": {
              "outlinewidth": 0,
              "ticks": ""
             }
            },
            "type": "scatter3d"
           }
          ],
          "scattercarpet": [
           {
            "marker": {
             "colorbar": {
              "outlinewidth": 0,
              "ticks": ""
             }
            },
            "type": "scattercarpet"
           }
          ],
          "scattergeo": [
           {
            "marker": {
             "colorbar": {
              "outlinewidth": 0,
              "ticks": ""
             }
            },
            "type": "scattergeo"
           }
          ],
          "scattergl": [
           {
            "marker": {
             "colorbar": {
              "outlinewidth": 0,
              "ticks": ""
             }
            },
            "type": "scattergl"
           }
          ],
          "scattermap": [
           {
            "marker": {
             "colorbar": {
              "outlinewidth": 0,
              "ticks": ""
             }
            },
            "type": "scattermap"
           }
          ],
          "scattermapbox": [
           {
            "marker": {
             "colorbar": {
              "outlinewidth": 0,
              "ticks": ""
             }
            },
            "type": "scattermapbox"
           }
          ],
          "scatterpolar": [
           {
            "marker": {
             "colorbar": {
              "outlinewidth": 0,
              "ticks": ""
             }
            },
            "type": "scatterpolar"
           }
          ],
          "scatterpolargl": [
           {
            "marker": {
             "colorbar": {
              "outlinewidth": 0,
              "ticks": ""
             }
            },
            "type": "scatterpolargl"
           }
          ],
          "scatterternary": [
           {
            "marker": {
             "colorbar": {
              "outlinewidth": 0,
              "ticks": ""
             }
            },
            "type": "scatterternary"
           }
          ],
          "surface": [
           {
            "colorbar": {
             "outlinewidth": 0,
             "ticks": ""
            },
            "colorscale": [
             [
              0,
              "#0d0887"
             ],
             [
              0.1111111111111111,
              "#46039f"
             ],
             [
              0.2222222222222222,
              "#7201a8"
             ],
             [
              0.3333333333333333,
              "#9c179e"
             ],
             [
              0.4444444444444444,
              "#bd3786"
             ],
             [
              0.5555555555555556,
              "#d8576b"
             ],
             [
              0.6666666666666666,
              "#ed7953"
             ],
             [
              0.7777777777777778,
              "#fb9f3a"
             ],
             [
              0.8888888888888888,
              "#fdca26"
             ],
             [
              1,
              "#f0f921"
             ]
            ],
            "type": "surface"
           }
          ],
          "table": [
           {
            "cells": {
             "fill": {
              "color": "#EBF0F8"
             },
             "line": {
              "color": "white"
             }
            },
            "header": {
             "fill": {
              "color": "#C8D4E3"
             },
             "line": {
              "color": "white"
             }
            },
            "type": "table"
           }
          ]
         },
         "layout": {
          "annotationdefaults": {
           "arrowcolor": "#2a3f5f",
           "arrowhead": 0,
           "arrowwidth": 1
          },
          "autotypenumbers": "strict",
          "coloraxis": {
           "colorbar": {
            "outlinewidth": 0,
            "ticks": ""
           }
          },
          "colorscale": {
           "diverging": [
            [
             0,
             "#8e0152"
            ],
            [
             0.1,
             "#c51b7d"
            ],
            [
             0.2,
             "#de77ae"
            ],
            [
             0.3,
             "#f1b6da"
            ],
            [
             0.4,
             "#fde0ef"
            ],
            [
             0.5,
             "#f7f7f7"
            ],
            [
             0.6,
             "#e6f5d0"
            ],
            [
             0.7,
             "#b8e186"
            ],
            [
             0.8,
             "#7fbc41"
            ],
            [
             0.9,
             "#4d9221"
            ],
            [
             1,
             "#276419"
            ]
           ],
           "sequential": [
            [
             0,
             "#0d0887"
            ],
            [
             0.1111111111111111,
             "#46039f"
            ],
            [
             0.2222222222222222,
             "#7201a8"
            ],
            [
             0.3333333333333333,
             "#9c179e"
            ],
            [
             0.4444444444444444,
             "#bd3786"
            ],
            [
             0.5555555555555556,
             "#d8576b"
            ],
            [
             0.6666666666666666,
             "#ed7953"
            ],
            [
             0.7777777777777778,
             "#fb9f3a"
            ],
            [
             0.8888888888888888,
             "#fdca26"
            ],
            [
             1,
             "#f0f921"
            ]
           ],
           "sequentialminus": [
            [
             0,
             "#0d0887"
            ],
            [
             0.1111111111111111,
             "#46039f"
            ],
            [
             0.2222222222222222,
             "#7201a8"
            ],
            [
             0.3333333333333333,
             "#9c179e"
            ],
            [
             0.4444444444444444,
             "#bd3786"
            ],
            [
             0.5555555555555556,
             "#d8576b"
            ],
            [
             0.6666666666666666,
             "#ed7953"
            ],
            [
             0.7777777777777778,
             "#fb9f3a"
            ],
            [
             0.8888888888888888,
             "#fdca26"
            ],
            [
             1,
             "#f0f921"
            ]
           ]
          },
          "colorway": [
           "#636efa",
           "#EF553B",
           "#00cc96",
           "#ab63fa",
           "#FFA15A",
           "#19d3f3",
           "#FF6692",
           "#B6E880",
           "#FF97FF",
           "#FECB52"
          ],
          "font": {
           "color": "#2a3f5f"
          },
          "geo": {
           "bgcolor": "white",
           "lakecolor": "white",
           "landcolor": "#E5ECF6",
           "showlakes": true,
           "showland": true,
           "subunitcolor": "white"
          },
          "hoverlabel": {
           "align": "left"
          },
          "hovermode": "closest",
          "mapbox": {
           "style": "light"
          },
          "paper_bgcolor": "white",
          "plot_bgcolor": "#E5ECF6",
          "polar": {
           "angularaxis": {
            "gridcolor": "white",
            "linecolor": "white",
            "ticks": ""
           },
           "bgcolor": "#E5ECF6",
           "radialaxis": {
            "gridcolor": "white",
            "linecolor": "white",
            "ticks": ""
           }
          },
          "scene": {
           "xaxis": {
            "backgroundcolor": "#E5ECF6",
            "gridcolor": "white",
            "gridwidth": 2,
            "linecolor": "white",
            "showbackground": true,
            "ticks": "",
            "zerolinecolor": "white"
           },
           "yaxis": {
            "backgroundcolor": "#E5ECF6",
            "gridcolor": "white",
            "gridwidth": 2,
            "linecolor": "white",
            "showbackground": true,
            "ticks": "",
            "zerolinecolor": "white"
           },
           "zaxis": {
            "backgroundcolor": "#E5ECF6",
            "gridcolor": "white",
            "gridwidth": 2,
            "linecolor": "white",
            "showbackground": true,
            "ticks": "",
            "zerolinecolor": "white"
           }
          },
          "shapedefaults": {
           "line": {
            "color": "#2a3f5f"
           }
          },
          "ternary": {
           "aaxis": {
            "gridcolor": "white",
            "linecolor": "white",
            "ticks": ""
           },
           "baxis": {
            "gridcolor": "white",
            "linecolor": "white",
            "ticks": ""
           },
           "bgcolor": "#E5ECF6",
           "caxis": {
            "gridcolor": "white",
            "linecolor": "white",
            "ticks": ""
           }
          },
          "title": {
           "x": 0.05
          },
          "xaxis": {
           "automargin": true,
           "gridcolor": "white",
           "linecolor": "white",
           "ticks": "",
           "title": {
            "standoff": 15
           },
           "zerolinecolor": "white",
           "zerolinewidth": 2
          },
          "yaxis": {
           "automargin": true,
           "gridcolor": "white",
           "linecolor": "white",
           "ticks": "",
           "title": {
            "standoff": 15
           },
           "zerolinecolor": "white",
           "zerolinewidth": 2
          }
         }
        },
        "title": {
         "text": "Hyperparameter Importances"
        },
        "xaxis": {
         "title": {
          "text": "Hyperparameter Importance"
         }
        },
        "yaxis": {
         "title": {
          "text": "Hyperparameter"
         }
        }
       }
      }
     },
     "metadata": {},
     "output_type": "display_data"
    },
    {
     "data": {
      "application/vnd.plotly.v1+json": {
       "config": {
        "plotlyServerURL": "https://plot.ly"
       },
       "data": [
        {
         "mode": "markers",
         "name": "Objective Value",
         "type": "scatter",
         "x": [
          0,
          1,
          2,
          3,
          4,
          5,
          6,
          7,
          8,
          9,
          10,
          11,
          12,
          13,
          14,
          15,
          16,
          17,
          18,
          19,
          20,
          21,
          22,
          23,
          24,
          25,
          26,
          27,
          28,
          29,
          30,
          31,
          32,
          33,
          34,
          35,
          36,
          37,
          38,
          39,
          40,
          41,
          42,
          43,
          44,
          45,
          46,
          47,
          48,
          49,
          50,
          51,
          52,
          53,
          54,
          55,
          56,
          57,
          58,
          59,
          60,
          61,
          62,
          63,
          64,
          65,
          66,
          67,
          68,
          69,
          70,
          71,
          72,
          73,
          74,
          75,
          76,
          77,
          78,
          79,
          80,
          81,
          82,
          83,
          84,
          85,
          86,
          87,
          88,
          89,
          90,
          91,
          92,
          93,
          94,
          95,
          96,
          97,
          98,
          99
         ],
         "y": [
          0.584072003272876,
          0.6702577389881358,
          0.7119869084958407,
          0.7651711441429155,
          0.6481658257193509,
          0.590890495022501,
          0.7788081276421656,
          0.7704895677076231,
          0.6537569889540433,
          0.592254193372426,
          0.591981453702441,
          0.7588981317332606,
          0.7710350470475931,
          0.7618982681030956,
          0.765852993317878,
          0.6131187781262785,
          0.7432156007091232,
          0.7177144415655257,
          0.7347606709395882,
          0.7080321832810582,
          0.6893495158870858,
          0.7707623073776081,
          0.7768989499522706,
          0.7794899768171281,
          0.782490113186963,
          0.7818082640120005,
          0.7419882721941906,
          0.7710350470475931,
          0.7833083321969181,
          0.6558025364789308,
          0.7624437474430656,
          0.7801718259920906,
          0.780308195827083,
          0.7603981999181781,
          0.7258966316650757,
          0.7808536751670531,
          0.6798036274376108,
          0.6661666439383608,
          0.7708986772126005,
          0.7692622391926905,
          0.7781262784672031,
          0.7755352516023456,
          0.781399154507023,
          0.7796263466521206,
          0.6804854766125733,
          0.7620346379380881,
          0.7663984726578481,
          0.7567162143733807,
          0.7080321832810582,
          0.7576708032183281,
          0.784399290876858,
          0.7848084003818355,
          0.7839901813718806,
          0.786035728896768,
          0.783853811536888,
          0.7837174417018955,
          0.7638074457929905,
          0.7541251875085231,
          0.7523523796536207,
          0.7833083321969181,
          0.778671757807173,
          0.7808536751670531,
          0.785762989226783,
          0.785217509886813,
          0.783853811536888,
          0.7794899768171281,
          0.7774444292922406,
          0.599345424792036,
          0.7771716896222556,
          0.7674894313377881,
          0.6536206191190509,
          0.782490113186963,
          0.7869903177417156,
          0.7869903177417156,
          0.785217509886813,
          0.787126687576708,
          0.7869903177417156,
          0.786035728896768,
          0.7831719623619255,
          0.785762989226783,
          0.786581208236738,
          0.7846720305468431,
          0.7850811400518205,
          0.784399290876858,
          0.784126551206873,
          0.6673939724532933,
          0.7695349788626755,
          0.785762989226783,
          0.7809900450020455,
          0.785762989226783,
          0.7858993590617755,
          0.7861720987317605,
          0.7858993590617755,
          0.7789444974771581,
          0.785217509886813,
          0.7858993590617755,
          0.7721260057275331,
          0.7691258693576981,
          0.7849447702168281,
          0.6551206873039683
         ]
        },
        {
         "mode": "lines",
         "name": "Best Value",
         "type": "scatter",
         "x": [
          0,
          1,
          2,
          3,
          4,
          5,
          6,
          7,
          8,
          9,
          10,
          11,
          12,
          13,
          14,
          15,
          16,
          17,
          18,
          19,
          20,
          21,
          22,
          23,
          24,
          25,
          26,
          27,
          28,
          29,
          30,
          31,
          32,
          33,
          34,
          35,
          36,
          37,
          38,
          39,
          40,
          41,
          42,
          43,
          44,
          45,
          46,
          47,
          48,
          49,
          50,
          51,
          52,
          53,
          54,
          55,
          56,
          57,
          58,
          59,
          60,
          61,
          62,
          63,
          64,
          65,
          66,
          67,
          68,
          69,
          70,
          71,
          72,
          73,
          74,
          75,
          76,
          77,
          78,
          79,
          80,
          81,
          82,
          83,
          84,
          85,
          86,
          87,
          88,
          89,
          90,
          91,
          92,
          93,
          94,
          95,
          96,
          97,
          98,
          99
         ],
         "y": [
          0.584072003272876,
          0.6702577389881358,
          0.7119869084958407,
          0.7651711441429155,
          0.7651711441429155,
          0.7651711441429155,
          0.7788081276421656,
          0.7788081276421656,
          0.7788081276421656,
          0.7788081276421656,
          0.7788081276421656,
          0.7788081276421656,
          0.7788081276421656,
          0.7788081276421656,
          0.7788081276421656,
          0.7788081276421656,
          0.7788081276421656,
          0.7788081276421656,
          0.7788081276421656,
          0.7788081276421656,
          0.7788081276421656,
          0.7788081276421656,
          0.7788081276421656,
          0.7794899768171281,
          0.782490113186963,
          0.782490113186963,
          0.782490113186963,
          0.782490113186963,
          0.7833083321969181,
          0.7833083321969181,
          0.7833083321969181,
          0.7833083321969181,
          0.7833083321969181,
          0.7833083321969181,
          0.7833083321969181,
          0.7833083321969181,
          0.7833083321969181,
          0.7833083321969181,
          0.7833083321969181,
          0.7833083321969181,
          0.7833083321969181,
          0.7833083321969181,
          0.7833083321969181,
          0.7833083321969181,
          0.7833083321969181,
          0.7833083321969181,
          0.7833083321969181,
          0.7833083321969181,
          0.7833083321969181,
          0.7833083321969181,
          0.784399290876858,
          0.7848084003818355,
          0.7848084003818355,
          0.786035728896768,
          0.786035728896768,
          0.786035728896768,
          0.786035728896768,
          0.786035728896768,
          0.786035728896768,
          0.786035728896768,
          0.786035728896768,
          0.786035728896768,
          0.786035728896768,
          0.786035728896768,
          0.786035728896768,
          0.786035728896768,
          0.786035728896768,
          0.786035728896768,
          0.786035728896768,
          0.786035728896768,
          0.786035728896768,
          0.786035728896768,
          0.7869903177417156,
          0.7869903177417156,
          0.7869903177417156,
          0.787126687576708,
          0.787126687576708,
          0.787126687576708,
          0.787126687576708,
          0.787126687576708,
          0.787126687576708,
          0.787126687576708,
          0.787126687576708,
          0.787126687576708,
          0.787126687576708,
          0.787126687576708,
          0.787126687576708,
          0.787126687576708,
          0.787126687576708,
          0.787126687576708,
          0.787126687576708,
          0.787126687576708,
          0.787126687576708,
          0.787126687576708,
          0.787126687576708,
          0.787126687576708,
          0.787126687576708,
          0.787126687576708,
          0.787126687576708,
          0.787126687576708
         ]
        },
        {
         "marker": {
          "color": "#cccccc"
         },
         "mode": "markers",
         "name": "Infeasible Trial",
         "showlegend": false,
         "type": "scatter",
         "x": [],
         "y": []
        }
       ],
       "layout": {
        "template": {
         "data": {
          "bar": [
           {
            "error_x": {
             "color": "#2a3f5f"
            },
            "error_y": {
             "color": "#2a3f5f"
            },
            "marker": {
             "line": {
              "color": "#E5ECF6",
              "width": 0.5
             },
             "pattern": {
              "fillmode": "overlay",
              "size": 10,
              "solidity": 0.2
             }
            },
            "type": "bar"
           }
          ],
          "barpolar": [
           {
            "marker": {
             "line": {
              "color": "#E5ECF6",
              "width": 0.5
             },
             "pattern": {
              "fillmode": "overlay",
              "size": 10,
              "solidity": 0.2
             }
            },
            "type": "barpolar"
           }
          ],
          "carpet": [
           {
            "aaxis": {
             "endlinecolor": "#2a3f5f",
             "gridcolor": "white",
             "linecolor": "white",
             "minorgridcolor": "white",
             "startlinecolor": "#2a3f5f"
            },
            "baxis": {
             "endlinecolor": "#2a3f5f",
             "gridcolor": "white",
             "linecolor": "white",
             "minorgridcolor": "white",
             "startlinecolor": "#2a3f5f"
            },
            "type": "carpet"
           }
          ],
          "choropleth": [
           {
            "colorbar": {
             "outlinewidth": 0,
             "ticks": ""
            },
            "type": "choropleth"
           }
          ],
          "contour": [
           {
            "colorbar": {
             "outlinewidth": 0,
             "ticks": ""
            },
            "colorscale": [
             [
              0,
              "#0d0887"
             ],
             [
              0.1111111111111111,
              "#46039f"
             ],
             [
              0.2222222222222222,
              "#7201a8"
             ],
             [
              0.3333333333333333,
              "#9c179e"
             ],
             [
              0.4444444444444444,
              "#bd3786"
             ],
             [
              0.5555555555555556,
              "#d8576b"
             ],
             [
              0.6666666666666666,
              "#ed7953"
             ],
             [
              0.7777777777777778,
              "#fb9f3a"
             ],
             [
              0.8888888888888888,
              "#fdca26"
             ],
             [
              1,
              "#f0f921"
             ]
            ],
            "type": "contour"
           }
          ],
          "contourcarpet": [
           {
            "colorbar": {
             "outlinewidth": 0,
             "ticks": ""
            },
            "type": "contourcarpet"
           }
          ],
          "heatmap": [
           {
            "colorbar": {
             "outlinewidth": 0,
             "ticks": ""
            },
            "colorscale": [
             [
              0,
              "#0d0887"
             ],
             [
              0.1111111111111111,
              "#46039f"
             ],
             [
              0.2222222222222222,
              "#7201a8"
             ],
             [
              0.3333333333333333,
              "#9c179e"
             ],
             [
              0.4444444444444444,
              "#bd3786"
             ],
             [
              0.5555555555555556,
              "#d8576b"
             ],
             [
              0.6666666666666666,
              "#ed7953"
             ],
             [
              0.7777777777777778,
              "#fb9f3a"
             ],
             [
              0.8888888888888888,
              "#fdca26"
             ],
             [
              1,
              "#f0f921"
             ]
            ],
            "type": "heatmap"
           }
          ],
          "histogram": [
           {
            "marker": {
             "pattern": {
              "fillmode": "overlay",
              "size": 10,
              "solidity": 0.2
             }
            },
            "type": "histogram"
           }
          ],
          "histogram2d": [
           {
            "colorbar": {
             "outlinewidth": 0,
             "ticks": ""
            },
            "colorscale": [
             [
              0,
              "#0d0887"
             ],
             [
              0.1111111111111111,
              "#46039f"
             ],
             [
              0.2222222222222222,
              "#7201a8"
             ],
             [
              0.3333333333333333,
              "#9c179e"
             ],
             [
              0.4444444444444444,
              "#bd3786"
             ],
             [
              0.5555555555555556,
              "#d8576b"
             ],
             [
              0.6666666666666666,
              "#ed7953"
             ],
             [
              0.7777777777777778,
              "#fb9f3a"
             ],
             [
              0.8888888888888888,
              "#fdca26"
             ],
             [
              1,
              "#f0f921"
             ]
            ],
            "type": "histogram2d"
           }
          ],
          "histogram2dcontour": [
           {
            "colorbar": {
             "outlinewidth": 0,
             "ticks": ""
            },
            "colorscale": [
             [
              0,
              "#0d0887"
             ],
             [
              0.1111111111111111,
              "#46039f"
             ],
             [
              0.2222222222222222,
              "#7201a8"
             ],
             [
              0.3333333333333333,
              "#9c179e"
             ],
             [
              0.4444444444444444,
              "#bd3786"
             ],
             [
              0.5555555555555556,
              "#d8576b"
             ],
             [
              0.6666666666666666,
              "#ed7953"
             ],
             [
              0.7777777777777778,
              "#fb9f3a"
             ],
             [
              0.8888888888888888,
              "#fdca26"
             ],
             [
              1,
              "#f0f921"
             ]
            ],
            "type": "histogram2dcontour"
           }
          ],
          "mesh3d": [
           {
            "colorbar": {
             "outlinewidth": 0,
             "ticks": ""
            },
            "type": "mesh3d"
           }
          ],
          "parcoords": [
           {
            "line": {
             "colorbar": {
              "outlinewidth": 0,
              "ticks": ""
             }
            },
            "type": "parcoords"
           }
          ],
          "pie": [
           {
            "automargin": true,
            "type": "pie"
           }
          ],
          "scatter": [
           {
            "fillpattern": {
             "fillmode": "overlay",
             "size": 10,
             "solidity": 0.2
            },
            "type": "scatter"
           }
          ],
          "scatter3d": [
           {
            "line": {
             "colorbar": {
              "outlinewidth": 0,
              "ticks": ""
             }
            },
            "marker": {
             "colorbar": {
              "outlinewidth": 0,
              "ticks": ""
             }
            },
            "type": "scatter3d"
           }
          ],
          "scattercarpet": [
           {
            "marker": {
             "colorbar": {
              "outlinewidth": 0,
              "ticks": ""
             }
            },
            "type": "scattercarpet"
           }
          ],
          "scattergeo": [
           {
            "marker": {
             "colorbar": {
              "outlinewidth": 0,
              "ticks": ""
             }
            },
            "type": "scattergeo"
           }
          ],
          "scattergl": [
           {
            "marker": {
             "colorbar": {
              "outlinewidth": 0,
              "ticks": ""
             }
            },
            "type": "scattergl"
           }
          ],
          "scattermap": [
           {
            "marker": {
             "colorbar": {
              "outlinewidth": 0,
              "ticks": ""
             }
            },
            "type": "scattermap"
           }
          ],
          "scattermapbox": [
           {
            "marker": {
             "colorbar": {
              "outlinewidth": 0,
              "ticks": ""
             }
            },
            "type": "scattermapbox"
           }
          ],
          "scatterpolar": [
           {
            "marker": {
             "colorbar": {
              "outlinewidth": 0,
              "ticks": ""
             }
            },
            "type": "scatterpolar"
           }
          ],
          "scatterpolargl": [
           {
            "marker": {
             "colorbar": {
              "outlinewidth": 0,
              "ticks": ""
             }
            },
            "type": "scatterpolargl"
           }
          ],
          "scatterternary": [
           {
            "marker": {
             "colorbar": {
              "outlinewidth": 0,
              "ticks": ""
             }
            },
            "type": "scatterternary"
           }
          ],
          "surface": [
           {
            "colorbar": {
             "outlinewidth": 0,
             "ticks": ""
            },
            "colorscale": [
             [
              0,
              "#0d0887"
             ],
             [
              0.1111111111111111,
              "#46039f"
             ],
             [
              0.2222222222222222,
              "#7201a8"
             ],
             [
              0.3333333333333333,
              "#9c179e"
             ],
             [
              0.4444444444444444,
              "#bd3786"
             ],
             [
              0.5555555555555556,
              "#d8576b"
             ],
             [
              0.6666666666666666,
              "#ed7953"
             ],
             [
              0.7777777777777778,
              "#fb9f3a"
             ],
             [
              0.8888888888888888,
              "#fdca26"
             ],
             [
              1,
              "#f0f921"
             ]
            ],
            "type": "surface"
           }
          ],
          "table": [
           {
            "cells": {
             "fill": {
              "color": "#EBF0F8"
             },
             "line": {
              "color": "white"
             }
            },
            "header": {
             "fill": {
              "color": "#C8D4E3"
             },
             "line": {
              "color": "white"
             }
            },
            "type": "table"
           }
          ]
         },
         "layout": {
          "annotationdefaults": {
           "arrowcolor": "#2a3f5f",
           "arrowhead": 0,
           "arrowwidth": 1
          },
          "autotypenumbers": "strict",
          "coloraxis": {
           "colorbar": {
            "outlinewidth": 0,
            "ticks": ""
           }
          },
          "colorscale": {
           "diverging": [
            [
             0,
             "#8e0152"
            ],
            [
             0.1,
             "#c51b7d"
            ],
            [
             0.2,
             "#de77ae"
            ],
            [
             0.3,
             "#f1b6da"
            ],
            [
             0.4,
             "#fde0ef"
            ],
            [
             0.5,
             "#f7f7f7"
            ],
            [
             0.6,
             "#e6f5d0"
            ],
            [
             0.7,
             "#b8e186"
            ],
            [
             0.8,
             "#7fbc41"
            ],
            [
             0.9,
             "#4d9221"
            ],
            [
             1,
             "#276419"
            ]
           ],
           "sequential": [
            [
             0,
             "#0d0887"
            ],
            [
             0.1111111111111111,
             "#46039f"
            ],
            [
             0.2222222222222222,
             "#7201a8"
            ],
            [
             0.3333333333333333,
             "#9c179e"
            ],
            [
             0.4444444444444444,
             "#bd3786"
            ],
            [
             0.5555555555555556,
             "#d8576b"
            ],
            [
             0.6666666666666666,
             "#ed7953"
            ],
            [
             0.7777777777777778,
             "#fb9f3a"
            ],
            [
             0.8888888888888888,
             "#fdca26"
            ],
            [
             1,
             "#f0f921"
            ]
           ],
           "sequentialminus": [
            [
             0,
             "#0d0887"
            ],
            [
             0.1111111111111111,
             "#46039f"
            ],
            [
             0.2222222222222222,
             "#7201a8"
            ],
            [
             0.3333333333333333,
             "#9c179e"
            ],
            [
             0.4444444444444444,
             "#bd3786"
            ],
            [
             0.5555555555555556,
             "#d8576b"
            ],
            [
             0.6666666666666666,
             "#ed7953"
            ],
            [
             0.7777777777777778,
             "#fb9f3a"
            ],
            [
             0.8888888888888888,
             "#fdca26"
            ],
            [
             1,
             "#f0f921"
            ]
           ]
          },
          "colorway": [
           "#636efa",
           "#EF553B",
           "#00cc96",
           "#ab63fa",
           "#FFA15A",
           "#19d3f3",
           "#FF6692",
           "#B6E880",
           "#FF97FF",
           "#FECB52"
          ],
          "font": {
           "color": "#2a3f5f"
          },
          "geo": {
           "bgcolor": "white",
           "lakecolor": "white",
           "landcolor": "#E5ECF6",
           "showlakes": true,
           "showland": true,
           "subunitcolor": "white"
          },
          "hoverlabel": {
           "align": "left"
          },
          "hovermode": "closest",
          "mapbox": {
           "style": "light"
          },
          "paper_bgcolor": "white",
          "plot_bgcolor": "#E5ECF6",
          "polar": {
           "angularaxis": {
            "gridcolor": "white",
            "linecolor": "white",
            "ticks": ""
           },
           "bgcolor": "#E5ECF6",
           "radialaxis": {
            "gridcolor": "white",
            "linecolor": "white",
            "ticks": ""
           }
          },
          "scene": {
           "xaxis": {
            "backgroundcolor": "#E5ECF6",
            "gridcolor": "white",
            "gridwidth": 2,
            "linecolor": "white",
            "showbackground": true,
            "ticks": "",
            "zerolinecolor": "white"
           },
           "yaxis": {
            "backgroundcolor": "#E5ECF6",
            "gridcolor": "white",
            "gridwidth": 2,
            "linecolor": "white",
            "showbackground": true,
            "ticks": "",
            "zerolinecolor": "white"
           },
           "zaxis": {
            "backgroundcolor": "#E5ECF6",
            "gridcolor": "white",
            "gridwidth": 2,
            "linecolor": "white",
            "showbackground": true,
            "ticks": "",
            "zerolinecolor": "white"
           }
          },
          "shapedefaults": {
           "line": {
            "color": "#2a3f5f"
           }
          },
          "ternary": {
           "aaxis": {
            "gridcolor": "white",
            "linecolor": "white",
            "ticks": ""
           },
           "baxis": {
            "gridcolor": "white",
            "linecolor": "white",
            "ticks": ""
           },
           "bgcolor": "#E5ECF6",
           "caxis": {
            "gridcolor": "white",
            "linecolor": "white",
            "ticks": ""
           }
          },
          "title": {
           "x": 0.05
          },
          "xaxis": {
           "automargin": true,
           "gridcolor": "white",
           "linecolor": "white",
           "ticks": "",
           "title": {
            "standoff": 15
           },
           "zerolinecolor": "white",
           "zerolinewidth": 2
          },
          "yaxis": {
           "automargin": true,
           "gridcolor": "white",
           "linecolor": "white",
           "ticks": "",
           "title": {
            "standoff": 15
           },
           "zerolinecolor": "white",
           "zerolinewidth": 2
          }
         }
        },
        "title": {
         "text": "Optimization History Plot"
        },
        "xaxis": {
         "title": {
          "text": "Trial"
         }
        },
        "yaxis": {
         "title": {
          "text": "Objective Value"
         }
        }
       }
      }
     },
     "metadata": {},
     "output_type": "display_data"
    }
   ],
   "source": [
    "# Plotting parameter importance\n",
    "optuna.visualization.plot_param_importances(study).show()\n",
    "\n",
    "# Plotting optimization history\n",
    "optuna.visualization.plot_optimization_history(study).show()"
   ]
  }
 ],
 "metadata": {
  "kernelspec": {
   "display_name": "venv",
   "language": "python",
   "name": "python3"
  },
  "language_info": {
   "codemirror_mode": {
    "name": "ipython",
    "version": 3
   },
   "file_extension": ".py",
   "mimetype": "text/x-python",
   "name": "python",
   "nbconvert_exporter": "python",
   "pygments_lexer": "ipython3",
   "version": "3.11.12"
  }
 },
 "nbformat": 4,
 "nbformat_minor": 5
}
