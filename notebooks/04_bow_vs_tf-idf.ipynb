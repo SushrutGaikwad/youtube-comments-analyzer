{
 "cells": [
  {
   "cell_type": "code",
   "execution_count": 1,
   "id": "b4f2a8af-bca7-4540-a7b8-f5977034a69f",
   "metadata": {},
   "outputs": [],
   "source": [
    "# Imports\n",
    "\n",
    "import mlflow\n",
    "import dagshub\n",
    "import mlflow.sklearn\n",
    "\n",
    "import numpy as np\n",
    "import pandas as pd\n",
    "import seaborn as sns\n",
    "import matplotlib.pyplot as plt\n",
    "\n",
    "from sklearn.feature_extraction.text import CountVectorizer, TfidfVectorizer\n",
    "from sklearn.model_selection import train_test_split\n",
    "from sklearn.ensemble import RandomForestClassifier\n",
    "from sklearn.metrics import accuracy_score, classification_report, confusion_matrix"
   ]
  },
  {
   "cell_type": "code",
   "execution_count": 2,
   "id": "ba417d7a-7681-41e4-98ad-ee76404fa67a",
   "metadata": {},
   "outputs": [
    {
     "data": {
      "text/html": [
       "<pre style=\"white-space:pre;overflow-x:auto;line-height:normal;font-family:Menlo,'DejaVu Sans Mono',consolas,'Courier New',monospace\">Accessing as SushrutGaikwad\n",
       "</pre>\n"
      ],
      "text/plain": [
       "Accessing as SushrutGaikwad\n"
      ]
     },
     "metadata": {},
     "output_type": "display_data"
    },
    {
     "data": {
      "text/html": [
       "<pre style=\"white-space:pre;overflow-x:auto;line-height:normal;font-family:Menlo,'DejaVu Sans Mono',consolas,'Courier New',monospace\">Initialized MLflow to track repo <span style=\"color: #008000; text-decoration-color: #008000\">\"SushrutGaikwad/youtube-comments-analyzer\"</span>\n",
       "</pre>\n"
      ],
      "text/plain": [
       "Initialized MLflow to track repo \u001b[32m\"SushrutGaikwad/youtube-comments-analyzer\"\u001b[0m\n"
      ]
     },
     "metadata": {},
     "output_type": "display_data"
    },
    {
     "data": {
      "text/html": [
       "<pre style=\"white-space:pre;overflow-x:auto;line-height:normal;font-family:Menlo,'DejaVu Sans Mono',consolas,'Courier New',monospace\">Repository SushrutGaikwad/youtube-comments-analyzer initialized!\n",
       "</pre>\n"
      ],
      "text/plain": [
       "Repository SushrutGaikwad/youtube-comments-analyzer initialized!\n"
      ]
     },
     "metadata": {},
     "output_type": "display_data"
    }
   ],
   "source": [
    "# Setting up DagsHub\n",
    "\n",
    "dagshub.init(repo_owner='SushrutGaikwad', repo_name='youtube-comments-analyzer', mlflow=True)"
   ]
  },
  {
   "cell_type": "markdown",
   "id": "758445f3-3198-4dff-a59f-b5ed35f30ddd",
   "metadata": {},
   "source": [
    "# Data"
   ]
  },
  {
   "cell_type": "code",
   "execution_count": 3,
   "id": "97fa6069-e427-433c-a4c2-676188820f3b",
   "metadata": {},
   "outputs": [
    {
     "data": {
      "text/plain": [
       "(36662, 2)"
      ]
     },
     "execution_count": 3,
     "metadata": {},
     "output_type": "execute_result"
    }
   ],
   "source": [
    "PREPROCESSED_DATA_PATH = \"../data/processed/reddit_preprocessed.csv\"\n",
    "df = pd.read_csv(PREPROCESSED_DATA_PATH)\n",
    "df.dropna(subset=[\"clean_comment\"], inplace=True)\n",
    "df.shape"
   ]
  },
  {
   "cell_type": "markdown",
   "id": "7aec6bb5-8165-4cad-97fe-9a187b4b056b",
   "metadata": {},
   "source": [
    "# Running the experiment"
   ]
  },
  {
   "cell_type": "code",
   "execution_count": 4,
   "id": "f5567033-87fd-4005-b358-c9686933612e",
   "metadata": {},
   "outputs": [
    {
     "name": "stderr",
     "output_type": "stream",
     "text": [
      "2025/06/02 21:31:08 INFO mlflow.tracking.fluent: Experiment with name 'Exp 1: BoW vs. TF-IDF' does not exist. Creating a new experiment.\n"
     ]
    },
    {
     "data": {
      "text/plain": [
       "<Experiment: artifact_location='mlflow-artifacts:/b7e3a4fac7d549d693df980dcc550f89', creation_time=1748880068862, experiment_id='2', last_update_time=1748880068862, lifecycle_stage='active', name='Exp 1: BoW vs. TF-IDF', tags={}>"
      ]
     },
     "execution_count": 4,
     "metadata": {},
     "output_type": "execute_result"
    }
   ],
   "source": [
    "# Setting experiment name\n",
    "\n",
    "mlflow.set_experiment(\"Exp 1: BoW vs. TF-IDF\")"
   ]
  },
  {
   "cell_type": "code",
   "execution_count": 7,
   "id": "afee39de-69a5-467e-9494-7c89658ebbcf",
   "metadata": {},
   "outputs": [],
   "source": [
    "def run_experiment(\n",
    "    df,\n",
    "    vectorizer_type,\n",
    "    ngram_range,\n",
    "    vectorizer_max_features,\n",
    "    vectorizer_name\n",
    "):\n",
    "    if vectorizer_type == \"BoW\":\n",
    "        vectorizer = CountVectorizer(\n",
    "            ngram_range=ngram_range,\n",
    "            max_features=vectorizer_max_features\n",
    "        )\n",
    "    elif vectorizer_type == \"TF-IDF\":\n",
    "        vectorizer = TfidfVectorizer(\n",
    "            ngram_range=ngram_range,\n",
    "            max_features=vectorizer_max_features\n",
    "        )\n",
    "\n",
    "    X_train, X_test, y_train, y_test = train_test_split(\n",
    "        df[\"clean_comment\"],\n",
    "        df[\"category\"],\n",
    "        test_size=0.2,\n",
    "        random_state=42,\n",
    "        stratify=df[\"category\"]\n",
    "    )\n",
    "    X_train_vectorized = vectorizer.fit_transform(X_train)\n",
    "    X_test_vectorized = vectorizer.transform(X_test)\n",
    "\n",
    "    with mlflow.start_run() as run:\n",
    "        # Tags\n",
    "        mlflow.set_tag(\"mlflow.runName\", f\"{vectorizer_name}_{ngram_range}_RandomForest\")\n",
    "        mlflow.set_tag(\"experiment_type\", \"feature_engineering\")\n",
    "        mlflow.set_tag(\"model_type\", \"RandomForestClassifier\")\n",
    "\n",
    "        # Description\n",
    "        mlflow.set_tag(\n",
    "            \"description\",\n",
    "            f\"RandomForest with {vectorizer_name}, ngram_range={ngram_range}, max_features={vectorizer_max_features}.\"\n",
    "        )\n",
    "\n",
    "        # Logging vectorizer parameters\n",
    "        mlflow.log_param(\"vectorizer_type\", vectorizer_type)\n",
    "        mlflow.log_param(\"ngram_range\", ngram_range)\n",
    "        mlflow.log_param(\"vectorizer_max_features\", vectorizer_max_features)\n",
    "\n",
    "        # Log random forest parameters\n",
    "        n_estimators = 200\n",
    "        max_depth = 15\n",
    "        mlflow.log_param(\"n_estimators\", n_estimators)\n",
    "        mlflow.log_param(\"max_depth\", max_depth)\n",
    "\n",
    "        # Initializing and training the model\n",
    "        model = RandomForestClassifier(\n",
    "            n_estimators=n_estimators,\n",
    "            max_depth=max_depth,\n",
    "            random_state=42\n",
    "        )\n",
    "        model.fit(X_train_vectorized, y_train)\n",
    "\n",
    "        # Making predictions on the test set and logging metrics\n",
    "        y_pred = model.predict(X_test_vectorized)\n",
    "\n",
    "        # Logging accuracy\n",
    "        accuracy = accuracy_score(\n",
    "            y_true=y_test,\n",
    "            y_pred=y_pred\n",
    "        )\n",
    "        mlflow.log_metric(\"accuracy\", accuracy)\n",
    "\n",
    "        # Logging classification report metrics\n",
    "        classification_rep = classification_report(\n",
    "            y_true=y_test,\n",
    "            y_pred=y_pred,\n",
    "            output_dict=True\n",
    "        )\n",
    "        for label, metrics in classification_rep.items():\n",
    "            if isinstance(metrics, dict):\n",
    "                for metric, value in metrics.items():\n",
    "                    mlflow.log_metric(f\"{label}: {metric}\", value)\n",
    "\n",
    "        # Logging the confusion matrix\n",
    "        conf_matrix = confusion_matrix(\n",
    "            y_true=y_test,\n",
    "            y_pred=y_pred,\n",
    "        )\n",
    "        plt.figure(figsize=(8, 6))\n",
    "        sns.heatmap(conf_matrix, annot=True, fmt=\"d\", cmap=\"Blues\")\n",
    "        plt.xlabel(\"Predicted\")\n",
    "        plt.ylabel(\"Actual\")\n",
    "        plt.title(f\"Confusion matrix: {vectorizer_name}, {ngram_range}\")\n",
    "        plt.savefig(\n",
    "            f\"../reports/figures/confusion_matrix_{vectorizer_name}_{ngram_range}.png\"\n",
    "        )\n",
    "        mlflow.log_artifact(\n",
    "            f\"../reports/figures/confusion_matrix_{vectorizer_name}_{ngram_range}.png\"\n",
    "        )\n",
    "        plt.close()\n",
    "\n",
    "        # Logging the model\n",
    "        mlflow.sklearn.log_model(\n",
    "            model,\n",
    "            f\"random_forest_model_{vectorizer_name}_{ngram_range}\"\n",
    "        )"
   ]
  },
  {
   "cell_type": "code",
   "execution_count": 8,
   "id": "076a6e9b-3584-4f09-84cd-fd21728796cc",
   "metadata": {},
   "outputs": [
    {
     "name": "stderr",
     "output_type": "stream",
     "text": [
      "2025/06/02 22:06:39 WARNING mlflow.models.model: Model logged without a signature and input example. Please set `input_example` parameter when logging the model to auto infer the model signature.\n"
     ]
    },
    {
     "name": "stdout",
     "output_type": "stream",
     "text": [
      "🏃 View run BoW_(1, 1)_RandomForest at: https://dagshub.com/SushrutGaikwad/youtube-comments-analyzer.mlflow/#/experiments/2/runs/638c3ef92fe34e28844517509a004591\n",
      "🧪 View experiment at: https://dagshub.com/SushrutGaikwad/youtube-comments-analyzer.mlflow/#/experiments/2\n"
     ]
    },
    {
     "name": "stderr",
     "output_type": "stream",
     "text": [
      "2025/06/02 22:07:20 WARNING mlflow.models.model: Model logged without a signature and input example. Please set `input_example` parameter when logging the model to auto infer the model signature.\n"
     ]
    },
    {
     "name": "stdout",
     "output_type": "stream",
     "text": [
      "🏃 View run TF-IDF_(1, 1)_RandomForest at: https://dagshub.com/SushrutGaikwad/youtube-comments-analyzer.mlflow/#/experiments/2/runs/5c15c60aba1b4a4298bc48e86a98eea5\n",
      "🧪 View experiment at: https://dagshub.com/SushrutGaikwad/youtube-comments-analyzer.mlflow/#/experiments/2\n"
     ]
    },
    {
     "name": "stderr",
     "output_type": "stream",
     "text": [
      "2025/06/02 22:08:01 WARNING mlflow.models.model: Model logged without a signature and input example. Please set `input_example` parameter when logging the model to auto infer the model signature.\n"
     ]
    },
    {
     "name": "stdout",
     "output_type": "stream",
     "text": [
      "🏃 View run BoW_(1, 2)_RandomForest at: https://dagshub.com/SushrutGaikwad/youtube-comments-analyzer.mlflow/#/experiments/2/runs/67cd06d2e4154e9d821a6361b3e8355a\n",
      "🧪 View experiment at: https://dagshub.com/SushrutGaikwad/youtube-comments-analyzer.mlflow/#/experiments/2\n"
     ]
    },
    {
     "name": "stderr",
     "output_type": "stream",
     "text": [
      "2025/06/02 22:08:42 WARNING mlflow.models.model: Model logged without a signature and input example. Please set `input_example` parameter when logging the model to auto infer the model signature.\n"
     ]
    },
    {
     "name": "stdout",
     "output_type": "stream",
     "text": [
      "🏃 View run TF-IDF_(1, 2)_RandomForest at: https://dagshub.com/SushrutGaikwad/youtube-comments-analyzer.mlflow/#/experiments/2/runs/7016bc0fb1744a75aa639f603b0e4282\n",
      "🧪 View experiment at: https://dagshub.com/SushrutGaikwad/youtube-comments-analyzer.mlflow/#/experiments/2\n"
     ]
    },
    {
     "name": "stderr",
     "output_type": "stream",
     "text": [
      "2025/06/02 22:09:25 WARNING mlflow.models.model: Model logged without a signature and input example. Please set `input_example` parameter when logging the model to auto infer the model signature.\n"
     ]
    },
    {
     "name": "stdout",
     "output_type": "stream",
     "text": [
      "🏃 View run BoW_(1, 3)_RandomForest at: https://dagshub.com/SushrutGaikwad/youtube-comments-analyzer.mlflow/#/experiments/2/runs/6e9bf694afcc48cfa9398833145c4348\n",
      "🧪 View experiment at: https://dagshub.com/SushrutGaikwad/youtube-comments-analyzer.mlflow/#/experiments/2\n"
     ]
    },
    {
     "name": "stderr",
     "output_type": "stream",
     "text": [
      "2025/06/02 22:10:10 WARNING mlflow.models.model: Model logged without a signature and input example. Please set `input_example` parameter when logging the model to auto infer the model signature.\n"
     ]
    },
    {
     "name": "stdout",
     "output_type": "stream",
     "text": [
      "🏃 View run TF-IDF_(1, 3)_RandomForest at: https://dagshub.com/SushrutGaikwad/youtube-comments-analyzer.mlflow/#/experiments/2/runs/c046f8e2bd5a48bcaed8dffb3470be9b\n",
      "🧪 View experiment at: https://dagshub.com/SushrutGaikwad/youtube-comments-analyzer.mlflow/#/experiments/2\n"
     ]
    }
   ],
   "source": [
    "ngram_ranges = [\n",
    "    (1, 1),  # unigrams\n",
    "    (1, 2),  # bigrams\n",
    "    (1, 3)   # trigrams\n",
    "]\n",
    "max_features = 5000\n",
    "\n",
    "for ngram_range in ngram_ranges:\n",
    "    # BoW experiments\n",
    "    run_experiment(\n",
    "        df=df,\n",
    "        vectorizer_type=\"BoW\",\n",
    "        ngram_range=ngram_range,\n",
    "        vectorizer_max_features=max_features,\n",
    "        vectorizer_name=\"BoW\"\n",
    "    )\n",
    "\n",
    "    # TF-IDF experiments\n",
    "    run_experiment(\n",
    "        df=df,\n",
    "        vectorizer_type=\"TF-IDF\",\n",
    "        ngram_range=ngram_range,\n",
    "        vectorizer_max_features=max_features,\n",
    "        vectorizer_name=\"TF-IDF\"\n",
    "    )"
   ]
  },
  {
   "cell_type": "code",
   "execution_count": null,
   "id": "c7d29c4b-99be-4a3e-9348-5d964d196296",
   "metadata": {},
   "outputs": [],
   "source": []
  }
 ],
 "metadata": {
  "kernelspec": {
   "display_name": "Python 3 (ipykernel)",
   "language": "python",
   "name": "python3"
  },
  "language_info": {
   "codemirror_mode": {
    "name": "ipython",
    "version": 3
   },
   "file_extension": ".py",
   "mimetype": "text/x-python",
   "name": "python",
   "nbconvert_exporter": "python",
   "pygments_lexer": "ipython3",
   "version": "3.11.12"
  }
 },
 "nbformat": 4,
 "nbformat_minor": 5
}
