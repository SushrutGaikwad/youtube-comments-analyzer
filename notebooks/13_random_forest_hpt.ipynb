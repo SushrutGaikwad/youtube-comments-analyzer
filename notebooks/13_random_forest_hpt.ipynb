{
 "cells": [
  {
   "cell_type": "code",
   "execution_count": 1,
   "id": "d604010d",
   "metadata": {},
   "outputs": [],
   "source": [
    "# Imports\n",
    "\n",
    "import optuna\n",
    "import mlflow\n",
    "import dagshub\n",
    "import mlflow.sklearn\n",
    "\n",
    "import numpy as np\n",
    "import pandas as pd\n",
    "import seaborn as sns\n",
    "import matplotlib.pyplot as plt\n",
    "\n",
    "from imblearn.under_sampling import RandomUnderSampler\n",
    "from sklearn.feature_extraction.text import CountVectorizer\n",
    "from sklearn.model_selection import train_test_split\n",
    "from sklearn.ensemble import RandomForestClassifier\n",
    "from sklearn.metrics import accuracy_score, classification_report, confusion_matrix"
   ]
  },
  {
   "cell_type": "code",
   "execution_count": 2,
   "id": "3d4ca18a",
   "metadata": {},
   "outputs": [
    {
     "data": {
      "text/html": [
       "<pre style=\"white-space:pre;overflow-x:auto;line-height:normal;font-family:Menlo,'DejaVu Sans Mono',consolas,'Courier New',monospace\">Accessing as SushrutGaikwad\n",
       "</pre>\n"
      ],
      "text/plain": [
       "Accessing as SushrutGaikwad\n"
      ]
     },
     "metadata": {},
     "output_type": "display_data"
    },
    {
     "data": {
      "text/html": [
       "<pre style=\"white-space:pre;overflow-x:auto;line-height:normal;font-family:Menlo,'DejaVu Sans Mono',consolas,'Courier New',monospace\">Initialized MLflow to track repo <span style=\"color: #008000; text-decoration-color: #008000\">\"SushrutGaikwad/youtube-comments-analyzer\"</span>\n",
       "</pre>\n"
      ],
      "text/plain": [
       "Initialized MLflow to track repo \u001b[32m\"SushrutGaikwad/youtube-comments-analyzer\"\u001b[0m\n"
      ]
     },
     "metadata": {},
     "output_type": "display_data"
    },
    {
     "data": {
      "text/html": [
       "<pre style=\"white-space:pre;overflow-x:auto;line-height:normal;font-family:Menlo,'DejaVu Sans Mono',consolas,'Courier New',monospace\">Repository SushrutGaikwad/youtube-comments-analyzer initialized!\n",
       "</pre>\n"
      ],
      "text/plain": [
       "Repository SushrutGaikwad/youtube-comments-analyzer initialized!\n"
      ]
     },
     "metadata": {},
     "output_type": "display_data"
    }
   ],
   "source": [
    "# Setting up DagsHub\n",
    "\n",
    "dagshub.init(repo_owner='SushrutGaikwad', repo_name='youtube-comments-analyzer', mlflow=True)"
   ]
  },
  {
   "cell_type": "markdown",
   "id": "8c28e6d3",
   "metadata": {},
   "source": [
    "# Data"
   ]
  },
  {
   "cell_type": "code",
   "execution_count": 3,
   "id": "1984d62e",
   "metadata": {},
   "outputs": [
    {
     "data": {
      "text/plain": [
       "(36662, 2)"
      ]
     },
     "execution_count": 3,
     "metadata": {},
     "output_type": "execute_result"
    }
   ],
   "source": [
    "PREPROCESSED_DATA_PATH = \"../data/processed/reddit_preprocessed.csv\"\n",
    "df = pd.read_csv(PREPROCESSED_DATA_PATH)\n",
    "df.dropna(subset=[\"clean_comment\"], inplace=True)\n",
    "df.shape"
   ]
  },
  {
   "cell_type": "markdown",
   "id": "0b4440e9",
   "metadata": {},
   "source": [
    "# Running the experiment"
   ]
  },
  {
   "cell_type": "code",
   "execution_count": 4,
   "id": "289ba925",
   "metadata": {},
   "outputs": [
    {
     "data": {
      "text/plain": [
       "<Experiment: artifact_location='mlflow-artifacts:/3f66177ebab24d6392ce8f143c28100b', creation_time=1749046747756, experiment_id='5', last_update_time=1749046747756, lifecycle_stage='active', name='Exp 4: ML algorithms with hyperparameter tuning', tags={}>"
      ]
     },
     "execution_count": 4,
     "metadata": {},
     "output_type": "execute_result"
    }
   ],
   "source": [
    "# Setting experiment name\n",
    "\n",
    "mlflow.set_experiment(\"Exp 4: ML algorithms with hyperparameter tuning\")"
   ]
  },
  {
   "cell_type": "markdown",
   "id": "71c3c2b6",
   "metadata": {},
   "source": [
    "## Preprocessing"
   ]
  },
  {
   "cell_type": "code",
   "execution_count": 5,
   "id": "95117d64",
   "metadata": {},
   "outputs": [],
   "source": [
    "# Remapping class labels from {-1, 0, 1} to {2, 0, 1}\n",
    "mapping = {\n",
    "    -1: 2,\n",
    "    0: 0,\n",
    "    1: 1\n",
    "}\n",
    "df[\"category\"] = df[\"category\"].map(mapping)\n",
    "\n",
    "# Removing missing sentiments\n",
    "df.dropna(subset=[\"category\"], inplace=True)\n",
    "\n",
    "# Feature engineering\n",
    "ngram_range = (1, 2)\n",
    "max_features = 1000\n",
    "vectorizer = CountVectorizer(\n",
    "    ngram_range=ngram_range,\n",
    "    max_features=max_features\n",
    ")\n",
    "\n",
    "# Train-test split\n",
    "X_train, X_test, y_train, y_test = train_test_split(\n",
    "    df[\"clean_comment\"],\n",
    "    df[\"category\"],\n",
    "    test_size=0.2,\n",
    "    random_state=42,\n",
    "    stratify=df[\"category\"]\n",
    ")\n",
    "X_train_vectorized = vectorizer.fit_transform(X_train)\n",
    "X_test_vectorized = vectorizer.transform(X_test)\n",
    "\n",
    "# Undersampling\n",
    "rus = RandomUnderSampler(random_state=42)\n",
    "X_train_vectorized, y_train = rus.fit_resample(\n",
    "    X_train_vectorized,\n",
    "    y_train\n",
    ")"
   ]
  },
  {
   "cell_type": "markdown",
   "id": "509f33a7",
   "metadata": {},
   "source": [
    "## Running the experiment"
   ]
  },
  {
   "cell_type": "code",
   "execution_count": 6,
   "id": "5af58555",
   "metadata": {},
   "outputs": [],
   "source": [
    "# Function to log results to MLFlow\n",
    "def log_to_mlflow(\n",
    "    model_name,\n",
    "    model,\n",
    "    X_train,\n",
    "    X_test,\n",
    "    y_train,\n",
    "    y_test\n",
    "):\n",
    "    with mlflow.start_run():\n",
    "        # Tags\n",
    "        mlflow.set_tag(\n",
    "            \"mlflow.runName\", f\"{model_name}_BoW_bigrams_1000_undersampling\"\n",
    "        )\n",
    "        mlflow.set_tag(\"experiment_type\", \"ML_models_comparison\")\n",
    "        \n",
    "        # Logging model name as a parameter\n",
    "        mlflow.log_param(\"model_name\", model_name)\n",
    "        \n",
    "        # Initializing and training the model\n",
    "        model.fit(X_train, y_train)\n",
    "        \n",
    "        # Making predictions on the test set and logging metrics\n",
    "        y_pred = model.predict(X_test)\n",
    "        \n",
    "        # Logging accuracy\n",
    "        accuracy = accuracy_score(\n",
    "            y_true=y_test,\n",
    "            y_pred=y_pred\n",
    "        )\n",
    "        mlflow.log_metric(\"accuracy\", accuracy)\n",
    "        \n",
    "        # Logging classification report metrics\n",
    "        classification_rep = classification_report(\n",
    "            y_true=y_test,\n",
    "            y_pred=y_pred,\n",
    "            output_dict=True\n",
    "        )\n",
    "        for label, metrics in classification_rep.items():\n",
    "            if isinstance(metrics, dict):\n",
    "                for metric, value in metrics.items():\n",
    "                    mlflow.log_metric(f\"{label}: {metric}\", value)\n",
    "        \n",
    "        # Logging the model\n",
    "        mlflow.sklearn.log_model(model, f\"{model_name}_model\")"
   ]
  },
  {
   "cell_type": "code",
   "execution_count": 7,
   "id": "c5bec78b",
   "metadata": {},
   "outputs": [],
   "source": [
    "# Optuna objective function\n",
    "def objective(trial):\n",
    "    n_estimators = trial.suggest_int(\"n_estimators\", 50, 300)\n",
    "    max_depth = trial.suggest_int(\"max_depth\", 3, 20)\n",
    "    min_samples_split = trial.suggest_int(\"min_samples_split\", 2, 20)\n",
    "    min_samples_leaf = trial.suggest_int(\"min_samples_leaf\", 1, 20)\n",
    "    \n",
    "    model = RandomForestClassifier(\n",
    "        n_estimators=n_estimators,\n",
    "        max_depth=max_depth,\n",
    "        min_samples_split=min_samples_split,\n",
    "        min_samples_leaf=min_samples_leaf,\n",
    "        random_state=42,\n",
    "        n_jobs=-1\n",
    "    )\n",
    "    model.fit(X_train_vectorized, y_train)\n",
    "    y_pred = model.predict(X_test_vectorized)\n",
    "    return accuracy_score(\n",
    "        y_true=y_test,\n",
    "        y_pred=y_pred\n",
    "    )"
   ]
  },
  {
   "cell_type": "code",
   "execution_count": 8,
   "id": "5ae93583",
   "metadata": {},
   "outputs": [],
   "source": [
    "def run_experiment():\n",
    "    study = optuna.create_study(direction=\"maximize\")\n",
    "    study.optimize(objective, n_trials=50)\n",
    "    \n",
    "    # Getting the best parameters and logging the best model\n",
    "    best_params = study.best_params\n",
    "    best_model = RandomForestClassifier(\n",
    "        n_estimators=best_params[\"n_estimators\"],\n",
    "        max_depth=best_params[\"max_depth\"],\n",
    "        min_samples_split=best_params[\"min_samples_split\"],\n",
    "        min_samples_leaf=best_params[\"min_samples_leaf\"],\n",
    "        random_state=42,\n",
    "        n_jobs=-1\n",
    "    )\n",
    "    log_to_mlflow(\n",
    "        model_name=\"RandomForest\",\n",
    "        model=best_model,\n",
    "        X_train=X_train_vectorized,\n",
    "        X_test=X_test_vectorized,\n",
    "        y_train=y_train,\n",
    "        y_test=y_test\n",
    "    )"
   ]
  },
  {
   "cell_type": "code",
   "execution_count": 9,
   "id": "b3ed4f8b",
   "metadata": {},
   "outputs": [
    {
     "name": "stderr",
     "output_type": "stream",
     "text": [
      "[I 2025-06-04 21:41:36,650] A new study created in memory with name: no-name-6a6fda36-2184-40db-b6d2-433585fd9daa\n",
      "[I 2025-06-04 21:41:37,113] Trial 0 finished with value: 0.6408018546297559 and parameters: {'n_estimators': 279, 'max_depth': 7, 'min_samples_split': 8, 'min_samples_leaf': 12}. Best is trial 0 with value: 0.6408018546297559.\n",
      "[I 2025-06-04 21:41:37,251] Trial 1 finished with value: 0.6514387017591708 and parameters: {'n_estimators': 63, 'max_depth': 13, 'min_samples_split': 5, 'min_samples_leaf': 10}. Best is trial 1 with value: 0.6514387017591708.\n",
      "[I 2025-06-04 21:41:37,623] Trial 2 finished with value: 0.614618846311196 and parameters: {'n_estimators': 242, 'max_depth': 3, 'min_samples_split': 11, 'min_samples_leaf': 17}. Best is trial 1 with value: 0.6514387017591708.\n",
      "[I 2025-06-04 21:41:38,107] Trial 3 finished with value: 0.6755761625528434 and parameters: {'n_estimators': 280, 'max_depth': 19, 'min_samples_split': 13, 'min_samples_leaf': 20}. Best is trial 3 with value: 0.6755761625528434.\n",
      "[I 2025-06-04 21:41:38,289] Trial 4 finished with value: 0.6630301377335334 and parameters: {'n_estimators': 77, 'max_depth': 15, 'min_samples_split': 13, 'min_samples_leaf': 4}. Best is trial 3 with value: 0.6755761625528434.\n",
      "[I 2025-06-04 21:41:38,572] Trial 5 finished with value: 0.6465293876994409 and parameters: {'n_estimators': 166, 'max_depth': 8, 'min_samples_split': 14, 'min_samples_leaf': 2}. Best is trial 3 with value: 0.6755761625528434.\n",
      "[I 2025-06-04 21:41:39,032] Trial 6 finished with value: 0.6379380880949134 and parameters: {'n_estimators': 292, 'max_depth': 6, 'min_samples_split': 20, 'min_samples_leaf': 16}. Best is trial 3 with value: 0.6755761625528434.\n",
      "[I 2025-06-04 21:41:39,424] Trial 7 finished with value: 0.6637119869084959 and parameters: {'n_estimators': 241, 'max_depth': 13, 'min_samples_split': 5, 'min_samples_leaf': 17}. Best is trial 3 with value: 0.6755761625528434.\n",
      "[I 2025-06-04 21:41:39,653] Trial 8 finished with value: 0.6522569207691259 and parameters: {'n_estimators': 122, 'max_depth': 11, 'min_samples_split': 13, 'min_samples_leaf': 14}. Best is trial 3 with value: 0.6755761625528434.\n",
      "[I 2025-06-04 21:41:39,872] Trial 9 finished with value: 0.6300286376653484 and parameters: {'n_estimators': 136, 'max_depth': 5, 'min_samples_split': 8, 'min_samples_leaf': 13}. Best is trial 3 with value: 0.6755761625528434.\n",
      "[I 2025-06-04 21:41:40,214] Trial 10 finished with value: 0.6813036956225283 and parameters: {'n_estimators': 206, 'max_depth': 20, 'min_samples_split': 18, 'min_samples_leaf': 20}. Best is trial 10 with value: 0.6813036956225283.\n",
      "[I 2025-06-04 21:41:40,606] Trial 11 finished with value: 0.6791217782626483 and parameters: {'n_estimators': 224, 'max_depth': 20, 'min_samples_split': 18, 'min_samples_leaf': 20}. Best is trial 10 with value: 0.6813036956225283.\n",
      "[I 2025-06-04 21:41:40,987] Trial 12 finished with value: 0.6791217782626483 and parameters: {'n_estimators': 212, 'max_depth': 19, 'min_samples_split': 19, 'min_samples_leaf': 20}. Best is trial 10 with value: 0.6813036956225283.\n",
      "[I 2025-06-04 21:41:41,352] Trial 13 finished with value: 0.6830765034774308 and parameters: {'n_estimators': 201, 'max_depth': 20, 'min_samples_split': 17, 'min_samples_leaf': 8}. Best is trial 13 with value: 0.6830765034774308.\n",
      "[I 2025-06-04 21:41:41,710] Trial 14 finished with value: 0.6743488340379108 and parameters: {'n_estimators': 188, 'max_depth': 17, 'min_samples_split': 16, 'min_samples_leaf': 8}. Best is trial 13 with value: 0.6830765034774308.\n",
      "[I 2025-06-04 21:41:42,059] Trial 15 finished with value: 0.6739397245329333 and parameters: {'n_estimators': 176, 'max_depth': 17, 'min_samples_split': 17, 'min_samples_leaf': 7}. Best is trial 13 with value: 0.6830765034774308.\n",
      "[I 2025-06-04 21:41:42,350] Trial 16 finished with value: 0.6723032865130233 and parameters: {'n_estimators': 151, 'max_depth': 17, 'min_samples_split': 16, 'min_samples_leaf': 6}. Best is trial 13 with value: 0.6830765034774308.\n",
      "[I 2025-06-04 21:41:42,742] Trial 17 finished with value: 0.6847129414973407 and parameters: {'n_estimators': 201, 'max_depth': 20, 'min_samples_split': 20, 'min_samples_leaf': 10}. Best is trial 17 with value: 0.6847129414973407.\n",
      "[I 2025-06-04 21:41:42,955] Trial 18 finished with value: 0.6630301377335334 and parameters: {'n_estimators': 98, 'max_depth': 15, 'min_samples_split': 2, 'min_samples_leaf': 10}. Best is trial 17 with value: 0.6847129414973407.\n",
      "[I 2025-06-04 21:41:43,391] Trial 19 finished with value: 0.6574389744988408 and parameters: {'n_estimators': 250, 'max_depth': 10, 'min_samples_split': 20, 'min_samples_leaf': 1}. Best is trial 17 with value: 0.6847129414973407.\n",
      "[I 2025-06-04 21:41:43,852] Trial 20 finished with value: 0.6682121914632483 and parameters: {'n_estimators': 193, 'max_depth': 15, 'min_samples_split': 15, 'min_samples_leaf': 5}. Best is trial 17 with value: 0.6847129414973407.\n",
      "[I 2025-06-04 21:41:44,246] Trial 21 finished with value: 0.6804854766125733 and parameters: {'n_estimators': 210, 'max_depth': 20, 'min_samples_split': 18, 'min_samples_leaf': 9}. Best is trial 17 with value: 0.6847129414973407.\n",
      "[I 2025-06-04 21:41:44,604] Trial 22 finished with value: 0.6778944497477158 and parameters: {'n_estimators': 196, 'max_depth': 18, 'min_samples_split': 20, 'min_samples_leaf': 11}. Best is trial 17 with value: 0.6847129414973407.\n",
      "[I 2025-06-04 21:41:44,895] Trial 23 finished with value: 0.6781671894177008 and parameters: {'n_estimators': 157, 'max_depth': 20, 'min_samples_split': 18, 'min_samples_leaf': 14}. Best is trial 17 with value: 0.6847129414973407.\n",
      "[I 2025-06-04 21:41:45,304] Trial 24 finished with value: 0.6732578753579708 and parameters: {'n_estimators': 226, 'max_depth': 18, 'min_samples_split': 11, 'min_samples_leaf': 8}. Best is trial 17 with value: 0.6847129414973407.\n",
      "[I 2025-06-04 21:41:45,787] Trial 25 finished with value: 0.6772126005727533 and parameters: {'n_estimators': 263, 'max_depth': 16, 'min_samples_split': 16, 'min_samples_leaf': 4}. Best is trial 17 with value: 0.6847129414973407.\n",
      "[I 2025-06-04 21:41:46,111] Trial 26 finished with value: 0.6596208918587209 and parameters: {'n_estimators': 178, 'max_depth': 13, 'min_samples_split': 18, 'min_samples_leaf': 11}. Best is trial 17 with value: 0.6847129414973407.\n",
      "[I 2025-06-04 21:41:46,486] Trial 27 finished with value: 0.6832128733124233 and parameters: {'n_estimators': 210, 'max_depth': 19, 'min_samples_split': 19, 'min_samples_leaf': 16}. Best is trial 17 with value: 0.6847129414973407.\n",
      "[I 2025-06-04 21:41:46,738] Trial 28 finished with value: 0.6758489022228283 and parameters: {'n_estimators': 135, 'max_depth': 18, 'min_samples_split': 20, 'min_samples_leaf': 15}. Best is trial 17 with value: 0.6847129414973407.\n",
      "[I 2025-06-04 21:41:47,152] Trial 29 finished with value: 0.6788490385926633 and parameters: {'n_estimators': 224, 'max_depth': 19, 'min_samples_split': 9, 'min_samples_leaf': 12}. Best is trial 17 with value: 0.6847129414973407.\n",
      "[I 2025-06-04 21:41:47,590] Trial 30 finished with value: 0.6521205509341333 and parameters: {'n_estimators': 267, 'max_depth': 9, 'min_samples_split': 17, 'min_samples_leaf': 12}. Best is trial 17 with value: 0.6847129414973407.\n",
      "[I 2025-06-04 21:41:47,963] Trial 31 finished with value: 0.6853947906723032 and parameters: {'n_estimators': 201, 'max_depth': 20, 'min_samples_split': 19, 'min_samples_leaf': 18}. Best is trial 31 with value: 0.6853947906723032.\n",
      "[I 2025-06-04 21:41:48,288] Trial 32 finished with value: 0.6795308877676258 and parameters: {'n_estimators': 185, 'max_depth': 19, 'min_samples_split': 19, 'min_samples_leaf': 18}. Best is trial 31 with value: 0.6853947906723032.\n",
      "[I 2025-06-04 21:41:48,679] Trial 33 finished with value: 0.6727123960180008 and parameters: {'n_estimators': 233, 'max_depth': 16, 'min_samples_split': 19, 'min_samples_leaf': 17}. Best is trial 31 with value: 0.6853947906723032.\n",
      "[I 2025-06-04 21:41:49,032] Trial 34 finished with value: 0.6765307513977908 and parameters: {'n_estimators': 206, 'max_depth': 18, 'min_samples_split': 15, 'min_samples_leaf': 18}. Best is trial 31 with value: 0.6853947906723032.\n",
      "[I 2025-06-04 21:41:49,326] Trial 35 finished with value: 0.6804854766125733 and parameters: {'n_estimators': 164, 'max_depth': 20, 'min_samples_split': 11, 'min_samples_leaf': 9}. Best is trial 31 with value: 0.6853947906723032.\n",
      "[I 2025-06-04 21:41:49,835] Trial 36 finished with value: 0.6667121232783308 and parameters: {'n_estimators': 260, 'max_depth': 14, 'min_samples_split': 19, 'min_samples_leaf': 15}. Best is trial 31 with value: 0.6853947906723032.\n",
      "[I 2025-06-04 21:41:50,179] Trial 37 finished with value: 0.617891722351016 and parameters: {'n_estimators': 201, 'max_depth': 3, 'min_samples_split': 17, 'min_samples_leaf': 10}. Best is trial 31 with value: 0.6853947906723032.\n",
      "[I 2025-06-04 21:41:50,302] Trial 38 finished with value: 0.6709395881630983 and parameters: {'n_estimators': 54, 'max_depth': 19, 'min_samples_split': 15, 'min_samples_leaf': 18}. Best is trial 31 with value: 0.6853947906723032.\n",
      "[I 2025-06-04 21:41:50,719] Trial 39 finished with value: 0.6732578753579708 and parameters: {'n_estimators': 245, 'max_depth': 17, 'min_samples_split': 14, 'min_samples_leaf': 13}. Best is trial 31 with value: 0.6853947906723032.\n",
      "[I 2025-06-04 21:41:51,090] Trial 40 finished with value: 0.6708032183281059 and parameters: {'n_estimators': 216, 'max_depth': 16, 'min_samples_split': 20, 'min_samples_leaf': 16}. Best is trial 31 with value: 0.6853947906723032.\n",
      "[I 2025-06-04 21:41:51,425] Trial 41 finished with value: 0.6821219146324833 and parameters: {'n_estimators': 195, 'max_depth': 20, 'min_samples_split': 17, 'min_samples_leaf': 19}. Best is trial 31 with value: 0.6853947906723032.\n",
      "[I 2025-06-04 21:41:51,729] Trial 42 finished with value: 0.6792581480976408 and parameters: {'n_estimators': 166, 'max_depth': 19, 'min_samples_split': 17, 'min_samples_leaf': 19}. Best is trial 31 with value: 0.6853947906723032.\n",
      "[I 2025-06-04 21:41:52,058] Trial 43 finished with value: 0.6792581480976408 and parameters: {'n_estimators': 184, 'max_depth': 20, 'min_samples_split': 13, 'min_samples_leaf': 19}. Best is trial 31 with value: 0.6853947906723032.\n",
      "[I 2025-06-04 21:41:52,452] Trial 44 finished with value: 0.6759852720578208 and parameters: {'n_estimators': 231, 'max_depth': 18, 'min_samples_split': 19, 'min_samples_leaf': 16}. Best is trial 31 with value: 0.6853947906723032.\n",
      "[I 2025-06-04 21:41:52,717] Trial 45 finished with value: 0.6789854084276558 and parameters: {'n_estimators': 145, 'max_depth': 19, 'min_samples_split': 6, 'min_samples_leaf': 17}. Best is trial 31 with value: 0.6853947906723032.\n",
      "[I 2025-06-04 21:41:53,086] Trial 46 finished with value: 0.6819855447974909 and parameters: {'n_estimators': 199, 'max_depth': 20, 'min_samples_split': 12, 'min_samples_leaf': 7}. Best is trial 31 with value: 0.6853947906723032.\n",
      "[I 2025-06-04 21:41:53,387] Trial 47 finished with value: 0.6534842492840583 and parameters: {'n_estimators': 171, 'max_depth': 12, 'min_samples_split': 16, 'min_samples_leaf': 19}. Best is trial 31 with value: 0.6853947906723032.\n",
      "[I 2025-06-04 21:41:53,769] Trial 48 finished with value: 0.6776217100777308 and parameters: {'n_estimators': 216, 'max_depth': 19, 'min_samples_split': 18, 'min_samples_leaf': 9}. Best is trial 31 with value: 0.6853947906723032.\n",
      "[I 2025-06-04 21:41:53,990] Trial 49 finished with value: 0.6668484931133233 and parameters: {'n_estimators': 113, 'max_depth': 17, 'min_samples_split': 19, 'min_samples_leaf': 15}. Best is trial 31 with value: 0.6853947906723032.\n",
      "2025/06/04 21:42:11 WARNING mlflow.models.model: Model logged without a signature and input example. Please set `input_example` parameter when logging the model to auto infer the model signature.\n"
     ]
    },
    {
     "name": "stdout",
     "output_type": "stream",
     "text": [
      "🏃 View run RandomForest_BoW_bigrams_1000_undersampling at: https://dagshub.com/SushrutGaikwad/youtube-comments-analyzer.mlflow/#/experiments/5/runs/d98841af1e0c4c7fa1020609527e0fd1\n",
      "🧪 View experiment at: https://dagshub.com/SushrutGaikwad/youtube-comments-analyzer.mlflow/#/experiments/5\n"
     ]
    }
   ],
   "source": [
    "run_experiment()"
   ]
  }
 ],
 "metadata": {
  "kernelspec": {
   "display_name": "venv",
   "language": "python",
   "name": "python3"
  },
  "language_info": {
   "codemirror_mode": {
    "name": "ipython",
    "version": 3
   },
   "file_extension": ".py",
   "mimetype": "text/x-python",
   "name": "python",
   "nbconvert_exporter": "python",
   "pygments_lexer": "ipython3",
   "version": "3.11.12"
  }
 },
 "nbformat": 4,
 "nbformat_minor": 5
}
