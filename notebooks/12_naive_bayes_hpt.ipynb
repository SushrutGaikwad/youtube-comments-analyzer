{
 "cells": [
  {
   "cell_type": "code",
   "execution_count": 1,
   "id": "562f6812",
   "metadata": {},
   "outputs": [],
   "source": [
    "# Imports\n",
    "\n",
    "import optuna\n",
    "import mlflow\n",
    "import dagshub\n",
    "import mlflow.sklearn\n",
    "\n",
    "import numpy as np\n",
    "import pandas as pd\n",
    "import seaborn as sns\n",
    "import matplotlib.pyplot as plt\n",
    "\n",
    "from imblearn.under_sampling import RandomUnderSampler\n",
    "from sklearn.feature_extraction.text import CountVectorizer\n",
    "from sklearn.model_selection import train_test_split\n",
    "from sklearn.naive_bayes import MultinomialNB\n",
    "from sklearn.metrics import accuracy_score, classification_report, confusion_matrix"
   ]
  },
  {
   "cell_type": "code",
   "execution_count": 2,
   "id": "628723b7",
   "metadata": {},
   "outputs": [
    {
     "data": {
      "text/html": [
       "<pre style=\"white-space:pre;overflow-x:auto;line-height:normal;font-family:Menlo,'DejaVu Sans Mono',consolas,'Courier New',monospace\">Accessing as SushrutGaikwad\n",
       "</pre>\n"
      ],
      "text/plain": [
       "Accessing as SushrutGaikwad\n"
      ]
     },
     "metadata": {},
     "output_type": "display_data"
    },
    {
     "data": {
      "text/html": [
       "<pre style=\"white-space:pre;overflow-x:auto;line-height:normal;font-family:Menlo,'DejaVu Sans Mono',consolas,'Courier New',monospace\">Initialized MLflow to track repo <span style=\"color: #008000; text-decoration-color: #008000\">\"SushrutGaikwad/youtube-comments-analyzer\"</span>\n",
       "</pre>\n"
      ],
      "text/plain": [
       "Initialized MLflow to track repo \u001b[32m\"SushrutGaikwad/youtube-comments-analyzer\"\u001b[0m\n"
      ]
     },
     "metadata": {},
     "output_type": "display_data"
    },
    {
     "data": {
      "text/html": [
       "<pre style=\"white-space:pre;overflow-x:auto;line-height:normal;font-family:Menlo,'DejaVu Sans Mono',consolas,'Courier New',monospace\">Repository SushrutGaikwad/youtube-comments-analyzer initialized!\n",
       "</pre>\n"
      ],
      "text/plain": [
       "Repository SushrutGaikwad/youtube-comments-analyzer initialized!\n"
      ]
     },
     "metadata": {},
     "output_type": "display_data"
    }
   ],
   "source": [
    "# Setting up DagsHub\n",
    "\n",
    "dagshub.init(repo_owner='SushrutGaikwad', repo_name='youtube-comments-analyzer', mlflow=True)"
   ]
  },
  {
   "cell_type": "markdown",
   "id": "b5688cf3",
   "metadata": {},
   "source": [
    "# Data"
   ]
  },
  {
   "cell_type": "code",
   "execution_count": 3,
   "id": "8329d8f6",
   "metadata": {},
   "outputs": [
    {
     "data": {
      "text/plain": [
       "(36662, 2)"
      ]
     },
     "execution_count": 3,
     "metadata": {},
     "output_type": "execute_result"
    }
   ],
   "source": [
    "PREPROCESSED_DATA_PATH = \"../data/processed/reddit_preprocessed.csv\"\n",
    "df = pd.read_csv(PREPROCESSED_DATA_PATH)\n",
    "df.dropna(subset=[\"clean_comment\"], inplace=True)\n",
    "df.shape"
   ]
  },
  {
   "cell_type": "markdown",
   "id": "0177fa17",
   "metadata": {},
   "source": [
    "# Running the experiment"
   ]
  },
  {
   "cell_type": "code",
   "execution_count": 4,
   "id": "680174ad",
   "metadata": {},
   "outputs": [
    {
     "data": {
      "text/plain": [
       "<Experiment: artifact_location='mlflow-artifacts:/3f66177ebab24d6392ce8f143c28100b', creation_time=1749046747756, experiment_id='5', last_update_time=1749046747756, lifecycle_stage='active', name='Exp 4: ML algorithms with hyperparameter tuning', tags={}>"
      ]
     },
     "execution_count": 4,
     "metadata": {},
     "output_type": "execute_result"
    }
   ],
   "source": [
    "# Setting experiment name\n",
    "\n",
    "mlflow.set_experiment(\"Exp 4: ML algorithms with hyperparameter tuning\")"
   ]
  },
  {
   "cell_type": "markdown",
   "id": "7ef7d2e2",
   "metadata": {},
   "source": [
    "## Preprocessing"
   ]
  },
  {
   "cell_type": "code",
   "execution_count": 5,
   "id": "3a31b413",
   "metadata": {},
   "outputs": [],
   "source": [
    "# Remapping class labels from {-1, 0, 1} to {2, 0, 1}\n",
    "mapping = {\n",
    "    -1: 2,\n",
    "    0: 0,\n",
    "    1: 1\n",
    "}\n",
    "df[\"category\"] = df[\"category\"].map(mapping)\n",
    "\n",
    "# Removing missing sentiments\n",
    "df.dropna(subset=[\"category\"], inplace=True)\n",
    "\n",
    "# Feature engineering\n",
    "ngram_range = (1, 2)\n",
    "max_features = 1000\n",
    "vectorizer = CountVectorizer(\n",
    "    ngram_range=ngram_range,\n",
    "    max_features=max_features\n",
    ")\n",
    "\n",
    "# Train-test split\n",
    "X_train, X_test, y_train, y_test = train_test_split(\n",
    "    df[\"clean_comment\"],\n",
    "    df[\"category\"],\n",
    "    test_size=0.2,\n",
    "    random_state=42,\n",
    "    stratify=df[\"category\"]\n",
    ")\n",
    "X_train_vectorized = vectorizer.fit_transform(X_train)\n",
    "X_test_vectorized = vectorizer.transform(X_test)\n",
    "\n",
    "# Undersampling\n",
    "rus = RandomUnderSampler(random_state=42)\n",
    "X_train_vectorized, y_train = rus.fit_resample(\n",
    "    X_train_vectorized,\n",
    "    y_train\n",
    ")"
   ]
  },
  {
   "cell_type": "markdown",
   "id": "69ddf728",
   "metadata": {},
   "source": [
    "## Running the experiment"
   ]
  },
  {
   "cell_type": "code",
   "execution_count": 6,
   "id": "2ea41343",
   "metadata": {},
   "outputs": [],
   "source": [
    "# Function to log results to MLFlow\n",
    "def log_to_mlflow(\n",
    "    model_name,\n",
    "    model,\n",
    "    X_train,\n",
    "    X_test,\n",
    "    y_train,\n",
    "    y_test\n",
    "):\n",
    "    with mlflow.start_run():\n",
    "        # Tags\n",
    "        mlflow.set_tag(\n",
    "            \"mlflow.runName\", f\"{model_name}_BoW_bigrams_1000_undersampling\"\n",
    "        )\n",
    "        mlflow.set_tag(\"experiment_type\", \"ML_models_comparison\")\n",
    "        \n",
    "        # Logging model name as a parameter\n",
    "        mlflow.log_param(\"model_name\", model_name)\n",
    "        \n",
    "        # Initializing and training the model\n",
    "        model.fit(X_train, y_train)\n",
    "        \n",
    "        # Making predictions on the test set and logging metrics\n",
    "        y_pred = model.predict(X_test)\n",
    "        \n",
    "        # Logging accuracy\n",
    "        accuracy = accuracy_score(\n",
    "            y_true=y_test,\n",
    "            y_pred=y_pred\n",
    "        )\n",
    "        mlflow.log_metric(\"accuracy\", accuracy)\n",
    "        \n",
    "        # Logging classification report metrics\n",
    "        classification_rep = classification_report(\n",
    "            y_true=y_test,\n",
    "            y_pred=y_pred,\n",
    "            output_dict=True\n",
    "        )\n",
    "        for label, metrics in classification_rep.items():\n",
    "            if isinstance(metrics, dict):\n",
    "                for metric, value in metrics.items():\n",
    "                    mlflow.log_metric(f\"{label}: {metric}\", value)\n",
    "        \n",
    "        # Logging the model\n",
    "        mlflow.sklearn.log_model(model, f\"{model_name}_model\")"
   ]
  },
  {
   "cell_type": "code",
   "execution_count": 7,
   "id": "18f37816",
   "metadata": {},
   "outputs": [],
   "source": [
    "# Optuna objective function\n",
    "def objective(trial):\n",
    "    alpha = trial.suggest_float(\"alpha\", 1e-4, 1.0, log=True)\n",
    "    \n",
    "    model = MultinomialNB(alpha=alpha)\n",
    "    model.fit(X_train_vectorized, y_train)\n",
    "    y_pred = model.predict(X_test_vectorized)\n",
    "    return accuracy_score(\n",
    "        y_true=y_test,\n",
    "        y_pred=y_pred\n",
    "    )"
   ]
  },
  {
   "cell_type": "code",
   "execution_count": 8,
   "id": "75bccb92",
   "metadata": {},
   "outputs": [],
   "source": [
    "def run_experiment():\n",
    "    study = optuna.create_study(direction=\"maximize\")\n",
    "    study.optimize(objective, n_trials=50)\n",
    "    \n",
    "    # Getting the best parameters and logging the best model\n",
    "    best_params = study.best_params\n",
    "    best_model = MultinomialNB(alpha=best_params[\"alpha\"])\n",
    "    log_to_mlflow(\n",
    "        model_name=\"MultinomialNB\",\n",
    "        model=best_model,\n",
    "        X_train=X_train_vectorized,\n",
    "        X_test=X_test_vectorized,\n",
    "        y_train=y_train,\n",
    "        y_test=y_test\n",
    "    )"
   ]
  },
  {
   "cell_type": "code",
   "execution_count": 9,
   "id": "e7432c0a",
   "metadata": {},
   "outputs": [
    {
     "name": "stderr",
     "output_type": "stream",
     "text": [
      "[I 2025-06-04 21:33:58,042] A new study created in memory with name: no-name-ec407f28-c394-441b-8d58-0e741c2de27c\n",
      "[I 2025-06-04 21:33:58,048] Trial 0 finished with value: 0.6759852720578208 and parameters: {'alpha': 0.8944018368257959}. Best is trial 0 with value: 0.6759852720578208.\n",
      "[I 2025-06-04 21:33:58,052] Trial 1 finished with value: 0.6810309559525433 and parameters: {'alpha': 0.006397318431811467}. Best is trial 1 with value: 0.6810309559525433.\n",
      "[I 2025-06-04 21:33:58,059] Trial 2 finished with value: 0.6811673257875358 and parameters: {'alpha': 0.0005261465013533783}. Best is trial 2 with value: 0.6811673257875358.\n",
      "[I 2025-06-04 21:33:58,063] Trial 3 finished with value: 0.6808945861175508 and parameters: {'alpha': 0.007488665248510829}. Best is trial 2 with value: 0.6811673257875358.\n",
      "[I 2025-06-04 21:33:58,067] Trial 4 finished with value: 0.6789854084276558 and parameters: {'alpha': 0.46246544104648785}. Best is trial 2 with value: 0.6811673257875358.\n",
      "[I 2025-06-04 21:33:58,073] Trial 5 finished with value: 0.6807582162825583 and parameters: {'alpha': 0.06074439449139303}. Best is trial 2 with value: 0.6811673257875358.\n",
      "[I 2025-06-04 21:33:58,077] Trial 6 finished with value: 0.6807582162825583 and parameters: {'alpha': 0.035619105689274615}. Best is trial 2 with value: 0.6811673257875358.\n",
      "[I 2025-06-04 21:33:58,084] Trial 7 finished with value: 0.6807582162825583 and parameters: {'alpha': 0.05140530339170068}. Best is trial 2 with value: 0.6811673257875358.\n",
      "[I 2025-06-04 21:33:58,088] Trial 8 finished with value: 0.6810309559525433 and parameters: {'alpha': 0.0023187232744285298}. Best is trial 2 with value: 0.6811673257875358.\n",
      "[I 2025-06-04 21:33:58,091] Trial 9 finished with value: 0.6808945861175508 and parameters: {'alpha': 0.016869022632649194}. Best is trial 2 with value: 0.6811673257875358.\n",
      "[I 2025-06-04 21:33:58,097] Trial 10 finished with value: 0.6810309559525433 and parameters: {'alpha': 0.00016708009985266344}. Best is trial 2 with value: 0.6811673257875358.\n",
      "[I 2025-06-04 21:33:58,103] Trial 11 finished with value: 0.6811673257875358 and parameters: {'alpha': 0.0005485231960717982}. Best is trial 2 with value: 0.6811673257875358.\n",
      "[I 2025-06-04 21:33:58,108] Trial 12 finished with value: 0.6810309559525433 and parameters: {'alpha': 0.00026422471847597546}. Best is trial 2 with value: 0.6811673257875358.\n",
      "[I 2025-06-04 21:33:58,113] Trial 13 finished with value: 0.6810309559525433 and parameters: {'alpha': 0.0008971742044510488}. Best is trial 2 with value: 0.6811673257875358.\n",
      "[I 2025-06-04 21:33:58,119] Trial 14 finished with value: 0.6811673257875358 and parameters: {'alpha': 0.0006581370567783463}. Best is trial 2 with value: 0.6811673257875358.\n",
      "[I 2025-06-04 21:33:58,124] Trial 15 finished with value: 0.6810309559525433 and parameters: {'alpha': 0.00012047280100910115}. Best is trial 2 with value: 0.6811673257875358.\n",
      "[I 2025-06-04 21:33:58,129] Trial 16 finished with value: 0.6810309559525433 and parameters: {'alpha': 0.0017357588233486213}. Best is trial 2 with value: 0.6811673257875358.\n",
      "[I 2025-06-04 21:33:58,134] Trial 17 finished with value: 0.6811673257875358 and parameters: {'alpha': 0.0004735141889298811}. Best is trial 2 with value: 0.6811673257875358.\n",
      "[I 2025-06-04 21:33:58,139] Trial 18 finished with value: 0.6810309559525433 and parameters: {'alpha': 0.002346495965838966}. Best is trial 2 with value: 0.6811673257875358.\n",
      "[I 2025-06-04 21:33:58,146] Trial 19 finished with value: 0.6811673257875358 and parameters: {'alpha': 0.0003666068669992761}. Best is trial 2 with value: 0.6811673257875358.\n",
      "[I 2025-06-04 21:33:58,152] Trial 20 finished with value: 0.6810309559525433 and parameters: {'alpha': 0.0012031545376675556}. Best is trial 2 with value: 0.6811673257875358.\n",
      "[I 2025-06-04 21:33:58,157] Trial 21 finished with value: 0.6811673257875358 and parameters: {'alpha': 0.0006149494843136608}. Best is trial 2 with value: 0.6811673257875358.\n",
      "[I 2025-06-04 21:33:58,163] Trial 22 finished with value: 0.6810309559525433 and parameters: {'alpha': 0.00011510598612710519}. Best is trial 2 with value: 0.6811673257875358.\n",
      "[I 2025-06-04 21:33:58,168] Trial 23 finished with value: 0.6810309559525433 and parameters: {'alpha': 0.0034772187436389952}. Best is trial 2 with value: 0.6811673257875358.\n",
      "[I 2025-06-04 21:33:58,173] Trial 24 finished with value: 0.6810309559525433 and parameters: {'alpha': 0.00028394317450192066}. Best is trial 2 with value: 0.6811673257875358.\n",
      "[I 2025-06-04 21:33:58,179] Trial 25 finished with value: 0.6811673257875358 and parameters: {'alpha': 0.0007978121846167761}. Best is trial 2 with value: 0.6811673257875358.\n",
      "[I 2025-06-04 21:33:58,184] Trial 26 finished with value: 0.6810309559525433 and parameters: {'alpha': 0.00469240118589886}. Best is trial 2 with value: 0.6811673257875358.\n",
      "[I 2025-06-04 21:33:58,189] Trial 27 finished with value: 0.6808945861175508 and parameters: {'alpha': 0.017903093084667678}. Best is trial 2 with value: 0.6811673257875358.\n",
      "[I 2025-06-04 21:33:58,195] Trial 28 finished with value: 0.6810309559525433 and parameters: {'alpha': 0.0013417745122983268}. Best is trial 2 with value: 0.6811673257875358.\n",
      "[I 2025-06-04 21:33:58,201] Trial 29 finished with value: 0.6796672576026183 and parameters: {'alpha': 0.2370571784573973}. Best is trial 2 with value: 0.6811673257875358.\n",
      "[I 2025-06-04 21:33:58,206] Trial 30 finished with value: 0.6810309559525433 and parameters: {'alpha': 0.00019971124632365856}. Best is trial 2 with value: 0.6811673257875358.\n",
      "[I 2025-06-04 21:33:58,212] Trial 31 finished with value: 0.6811673257875358 and parameters: {'alpha': 0.00042679593429758797}. Best is trial 2 with value: 0.6811673257875358.\n",
      "[I 2025-06-04 21:33:58,217] Trial 32 finished with value: 0.6811673257875358 and parameters: {'alpha': 0.0005354785113359067}. Best is trial 2 with value: 0.6811673257875358.\n",
      "[I 2025-06-04 21:33:58,222] Trial 33 finished with value: 0.6811673257875358 and parameters: {'alpha': 0.0006301642274748743}. Best is trial 2 with value: 0.6811673257875358.\n",
      "[I 2025-06-04 21:33:58,227] Trial 34 finished with value: 0.6810309559525433 and parameters: {'alpha': 0.0031651956181149256}. Best is trial 2 with value: 0.6811673257875358.\n",
      "[I 2025-06-04 21:33:58,233] Trial 35 finished with value: 0.6808945861175508 and parameters: {'alpha': 0.008475076102661554}. Best is trial 2 with value: 0.6811673257875358.\n",
      "[I 2025-06-04 21:33:58,238] Trial 36 finished with value: 0.6810309559525433 and parameters: {'alpha': 0.0013092247491668383}. Best is trial 2 with value: 0.6811673257875358.\n",
      "[I 2025-06-04 21:33:58,244] Trial 37 finished with value: 0.6811673257875358 and parameters: {'alpha': 0.0003567938998028592}. Best is trial 2 with value: 0.6811673257875358.\n",
      "[I 2025-06-04 21:33:58,250] Trial 38 finished with value: 0.6810309559525433 and parameters: {'alpha': 0.00020921132535895741}. Best is trial 2 with value: 0.6811673257875358.\n",
      "[I 2025-06-04 21:33:58,255] Trial 39 finished with value: 0.6810309559525433 and parameters: {'alpha': 0.0008565334472438768}. Best is trial 2 with value: 0.6811673257875358.\n",
      "[I 2025-06-04 21:33:58,260] Trial 40 finished with value: 0.6800763671075958 and parameters: {'alpha': 0.11097778875627777}. Best is trial 2 with value: 0.6811673257875358.\n",
      "[I 2025-06-04 21:33:58,266] Trial 41 finished with value: 0.6811673257875358 and parameters: {'alpha': 0.00037439216565783205}. Best is trial 2 with value: 0.6811673257875358.\n",
      "[I 2025-06-04 21:33:58,270] Trial 42 finished with value: 0.6810309559525433 and parameters: {'alpha': 0.00015149565622669408}. Best is trial 2 with value: 0.6811673257875358.\n",
      "[I 2025-06-04 21:33:58,276] Trial 43 finished with value: 0.6811673257875358 and parameters: {'alpha': 0.0004250969700480129}. Best is trial 2 with value: 0.6811673257875358.\n",
      "[I 2025-06-04 21:33:58,281] Trial 44 finished with value: 0.6810309559525433 and parameters: {'alpha': 0.0002499685686722825}. Best is trial 2 with value: 0.6811673257875358.\n",
      "[I 2025-06-04 21:33:58,286] Trial 45 finished with value: 0.6810309559525433 and parameters: {'alpha': 0.0009784661858674095}. Best is trial 2 with value: 0.6811673257875358.\n",
      "[I 2025-06-04 21:33:58,293] Trial 46 finished with value: 0.6811673257875358 and parameters: {'alpha': 0.0005411054343305449}. Best is trial 2 with value: 0.6811673257875358.\n",
      "[I 2025-06-04 21:33:58,303] Trial 47 finished with value: 0.6810309559525433 and parameters: {'alpha': 0.001608271140020507}. Best is trial 2 with value: 0.6811673257875358.\n",
      "[I 2025-06-04 21:33:58,309] Trial 48 finished with value: 0.6808945861175508 and parameters: {'alpha': 0.01359221744482746}. Best is trial 2 with value: 0.6811673257875358.\n",
      "[I 2025-06-04 21:33:58,316] Trial 49 finished with value: 0.6810309559525433 and parameters: {'alpha': 0.0002934893194260712}. Best is trial 2 with value: 0.6811673257875358.\n",
      "2025/06/04 21:34:16 WARNING mlflow.models.model: Model logged without a signature and input example. Please set `input_example` parameter when logging the model to auto infer the model signature.\n"
     ]
    },
    {
     "name": "stdout",
     "output_type": "stream",
     "text": [
      "🏃 View run MultinomialNB_BoW_bigrams_1000_undersampling at: https://dagshub.com/SushrutGaikwad/youtube-comments-analyzer.mlflow/#/experiments/5/runs/2e7a5be5830f42f0be2199d76305e18b\n",
      "🧪 View experiment at: https://dagshub.com/SushrutGaikwad/youtube-comments-analyzer.mlflow/#/experiments/5\n"
     ]
    }
   ],
   "source": [
    "run_experiment()"
   ]
  }
 ],
 "metadata": {
  "kernelspec": {
   "display_name": "venv",
   "language": "python",
   "name": "python3"
  },
  "language_info": {
   "codemirror_mode": {
    "name": "ipython",
    "version": 3
   },
   "file_extension": ".py",
   "mimetype": "text/x-python",
   "name": "python",
   "nbconvert_exporter": "python",
   "pygments_lexer": "ipython3",
   "version": "3.11.12"
  }
 },
 "nbformat": 4,
 "nbformat_minor": 5
}
