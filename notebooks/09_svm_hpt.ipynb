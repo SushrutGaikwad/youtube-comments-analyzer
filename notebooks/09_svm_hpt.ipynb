{
 "cells": [
  {
   "cell_type": "code",
   "execution_count": 1,
   "id": "74122181",
   "metadata": {},
   "outputs": [],
   "source": [
    "# Imports\n",
    "\n",
    "import optuna\n",
    "import mlflow\n",
    "import dagshub\n",
    "import mlflow.sklearn\n",
    "\n",
    "import numpy as np\n",
    "import pandas as pd\n",
    "import seaborn as sns\n",
    "import matplotlib.pyplot as plt\n",
    "\n",
    "from imblearn.under_sampling import RandomUnderSampler\n",
    "from sklearn.feature_extraction.text import CountVectorizer\n",
    "from sklearn.model_selection import train_test_split\n",
    "from sklearn.svm import SVC\n",
    "from sklearn.metrics import accuracy_score, classification_report, confusion_matrix"
   ]
  },
  {
   "cell_type": "code",
   "execution_count": 2,
   "id": "54da873c",
   "metadata": {},
   "outputs": [
    {
     "data": {
      "text/html": [
       "<pre style=\"white-space:pre;overflow-x:auto;line-height:normal;font-family:Menlo,'DejaVu Sans Mono',consolas,'Courier New',monospace\">Accessing as SushrutGaikwad\n",
       "</pre>\n"
      ],
      "text/plain": [
       "Accessing as SushrutGaikwad\n"
      ]
     },
     "metadata": {},
     "output_type": "display_data"
    },
    {
     "data": {
      "text/html": [
       "<pre style=\"white-space:pre;overflow-x:auto;line-height:normal;font-family:Menlo,'DejaVu Sans Mono',consolas,'Courier New',monospace\">Initialized MLflow to track repo <span style=\"color: #008000; text-decoration-color: #008000\">\"SushrutGaikwad/youtube-comments-analyzer\"</span>\n",
       "</pre>\n"
      ],
      "text/plain": [
       "Initialized MLflow to track repo \u001b[32m\"SushrutGaikwad/youtube-comments-analyzer\"\u001b[0m\n"
      ]
     },
     "metadata": {},
     "output_type": "display_data"
    },
    {
     "data": {
      "text/html": [
       "<pre style=\"white-space:pre;overflow-x:auto;line-height:normal;font-family:Menlo,'DejaVu Sans Mono',consolas,'Courier New',monospace\">Repository SushrutGaikwad/youtube-comments-analyzer initialized!\n",
       "</pre>\n"
      ],
      "text/plain": [
       "Repository SushrutGaikwad/youtube-comments-analyzer initialized!\n"
      ]
     },
     "metadata": {},
     "output_type": "display_data"
    }
   ],
   "source": [
    "# Setting up DagsHub\n",
    "\n",
    "dagshub.init(repo_owner='SushrutGaikwad', repo_name='youtube-comments-analyzer', mlflow=True)"
   ]
  },
  {
   "cell_type": "markdown",
   "id": "e8200b70",
   "metadata": {},
   "source": [
    "# Data"
   ]
  },
  {
   "cell_type": "code",
   "execution_count": 3,
   "id": "947c48d5",
   "metadata": {},
   "outputs": [
    {
     "data": {
      "text/plain": [
       "(36662, 2)"
      ]
     },
     "execution_count": 3,
     "metadata": {},
     "output_type": "execute_result"
    }
   ],
   "source": [
    "PREPROCESSED_DATA_PATH = \"../data/processed/reddit_preprocessed.csv\"\n",
    "df = pd.read_csv(PREPROCESSED_DATA_PATH)\n",
    "df.dropna(subset=[\"clean_comment\"], inplace=True)\n",
    "df.shape"
   ]
  },
  {
   "cell_type": "markdown",
   "id": "9c8c149f",
   "metadata": {},
   "source": [
    "# Running the experiment"
   ]
  },
  {
   "cell_type": "code",
   "execution_count": 4,
   "id": "9ad94166",
   "metadata": {},
   "outputs": [
    {
     "data": {
      "text/plain": [
       "<Experiment: artifact_location='mlflow-artifacts:/3f66177ebab24d6392ce8f143c28100b', creation_time=1749046747756, experiment_id='5', last_update_time=1749046747756, lifecycle_stage='active', name='Exp 4: ML algorithms with hyperparameter tuning', tags={}>"
      ]
     },
     "execution_count": 4,
     "metadata": {},
     "output_type": "execute_result"
    }
   ],
   "source": [
    "# Setting experiment name\n",
    "\n",
    "mlflow.set_experiment(\"Exp 4: ML algorithms with hyperparameter tuning\")"
   ]
  },
  {
   "cell_type": "markdown",
   "id": "4a3b5259",
   "metadata": {},
   "source": [
    "## Preprocessing"
   ]
  },
  {
   "cell_type": "code",
   "execution_count": null,
   "id": "4f772fbe",
   "metadata": {},
   "outputs": [],
   "source": [
    "# Remapping class labels from {-1, 0, 1} to {2, 0, 1}\n",
    "mapping = {\n",
    "    -1: 2,\n",
    "    0: 0,\n",
    "    1: 1\n",
    "}\n",
    "df[\"category\"] = df[\"category\"].map(mapping)\n",
    "\n",
    "# Removing missing sentiments\n",
    "df.dropna(subset=[\"category\"], inplace=True)\n",
    "\n",
    "# Feature engineering\n",
    "ngram_range = (1, 2)\n",
    "max_features = 1000\n",
    "vectorizer = CountVectorizer(\n",
    "    ngram_range=ngram_range,\n",
    "    max_features=max_features\n",
    ")\n",
    "\n",
    "# Train-test split\n",
    "X_train, X_test, y_train, y_test = train_test_split(\n",
    "    df[\"clean_comment\"],\n",
    "    df[\"category\"],\n",
    "    test_size=0.2,\n",
    "    random_state=42,\n",
    "    stratify=df[\"category\"]\n",
    ")\n",
    "X_train_vectorized = vectorizer.fit_transform(X_train)\n",
    "X_test_vectorized = vectorizer.transform(X_test)\n",
    "\n",
    "# Undersampling\n",
    "rus = RandomUnderSampler(random_state=42)\n",
    "X_train_vectorized, y_train = rus.fit_resample(\n",
    "    X_train_vectorized,\n",
    "    y_train\n",
    ")"
   ]
  },
  {
   "cell_type": "markdown",
   "id": "c5ee318c",
   "metadata": {},
   "source": [
    "## Running the experiment"
   ]
  },
  {
   "cell_type": "code",
   "execution_count": 6,
   "id": "6937a005",
   "metadata": {},
   "outputs": [],
   "source": [
    "# Function to log results to MLFlow\n",
    "def log_to_mlflow(\n",
    "    model_name,\n",
    "    model,\n",
    "    X_train,\n",
    "    X_test,\n",
    "    y_train,\n",
    "    y_test\n",
    "):\n",
    "    with mlflow.start_run():\n",
    "        # Tags\n",
    "        mlflow.set_tag(\n",
    "            \"mlflow.runName\", f\"{model_name}_BoW_bigrams_1000_undersampling\"\n",
    "        )\n",
    "        mlflow.set_tag(\"experiment_type\", \"ML_models_comparison\")\n",
    "        \n",
    "        # Logging model name as a parameter\n",
    "        mlflow.log_param(\"model_name\", model_name)\n",
    "        \n",
    "        # Initializing and training the model\n",
    "        model.fit(X_train, y_train)\n",
    "        \n",
    "        # Making predictions on the test set and logging metrics\n",
    "        y_pred = model.predict(X_test)\n",
    "        \n",
    "        # Logging accuracy\n",
    "        accuracy = accuracy_score(\n",
    "            y_true=y_test,\n",
    "            y_pred=y_pred\n",
    "        )\n",
    "        mlflow.log_metric(\"accuracy\", accuracy)\n",
    "        \n",
    "        # Logging classification report metrics\n",
    "        classification_rep = classification_report(\n",
    "            y_true=y_test,\n",
    "            y_pred=y_pred,\n",
    "            output_dict=True\n",
    "        )\n",
    "        for label, metrics in classification_rep.items():\n",
    "            if isinstance(metrics, dict):\n",
    "                for metric, value in metrics.items():\n",
    "                    mlflow.log_metric(f\"{label}: {metric}\", value)\n",
    "        \n",
    "        # Logging the model\n",
    "        mlflow.sklearn.log_model(model, f\"{model_name}_model\")"
   ]
  },
  {
   "cell_type": "code",
   "execution_count": 7,
   "id": "56c7cb24",
   "metadata": {},
   "outputs": [],
   "source": [
    "# Optuna objective function\n",
    "def objective(trial):\n",
    "    C = trial.suggest_float(\"C\", 1e-4, 10.0, log=True)\n",
    "    kernel = trial.suggest_categorical(\n",
    "        \"kernel\", [\"linear\", \"rbf\", \"poly\"]\n",
    "    )\n",
    "    \n",
    "    model = SVC(C=C, kernel=kernel, random_state=42)\n",
    "    model.fit(X_train_vectorized, y_train)\n",
    "    y_pred = model.predict(X_test_vectorized)\n",
    "    return accuracy_score(\n",
    "        y_true=y_test,\n",
    "        y_pred=y_pred\n",
    "    )"
   ]
  },
  {
   "cell_type": "code",
   "execution_count": 8,
   "id": "01539ca7",
   "metadata": {},
   "outputs": [],
   "source": [
    "def run_experiment():\n",
    "    study = optuna.create_study(direction=\"maximize\")\n",
    "    study.optimize(objective, n_trials=30)\n",
    "    \n",
    "    # Getting the best parameters and logging the best model\n",
    "    best_params = study.best_params\n",
    "    best_model = SVC(\n",
    "        C=best_params[\"C\"],\n",
    "        kernel=best_params[\"kernel\"],\n",
    "        random_state=42\n",
    "    )\n",
    "    log_to_mlflow(\n",
    "        model_name=\"SVM\",\n",
    "        model=best_model,\n",
    "        X_train=X_train_vectorized,\n",
    "        X_test=X_test_vectorized,\n",
    "        y_train=y_train,\n",
    "        y_test=y_test\n",
    "    )"
   ]
  },
  {
   "cell_type": "code",
   "execution_count": 9,
   "id": "b1a4edbd",
   "metadata": {},
   "outputs": [
    {
     "name": "stderr",
     "output_type": "stream",
     "text": [
      "[I 2025-06-04 20:44:42,008] A new study created in memory with name: no-name-556903de-05f9-4284-b5c4-e58affbf0e7f\n",
      "[I 2025-06-04 20:45:05,493] Trial 0 finished with value: 0.7059866357561707 and parameters: {'C': 0.017190911054901854, 'kernel': 'linear'}. Best is trial 0 with value: 0.7059866357561707.\n",
      "[I 2025-06-04 20:45:37,227] Trial 1 finished with value: 0.4119732715123415 and parameters: {'C': 0.0003919795567207438, 'kernel': 'linear'}. Best is trial 0 with value: 0.7059866357561707.\n",
      "[I 2025-06-04 20:47:03,187] Trial 2 finished with value: 0.7755352516023456 and parameters: {'C': 3.178404042273176, 'kernel': 'linear'}. Best is trial 2 with value: 0.7755352516023456.\n",
      "[I 2025-06-04 20:48:42,406] Trial 3 finished with value: 0.7755352516023456 and parameters: {'C': 3.6554479424644857, 'kernel': 'linear'}. Best is trial 2 with value: 0.7755352516023456.\n",
      "[I 2025-06-04 20:49:32,257] Trial 4 finished with value: 0.7717168962225556 and parameters: {'C': 6.665191538516008, 'kernel': 'rbf'}. Best is trial 2 with value: 0.7755352516023456.\n",
      "[I 2025-06-04 20:50:09,788] Trial 5 finished with value: 0.7730805945724806 and parameters: {'C': 2.7014529682802886, 'kernel': 'rbf'}. Best is trial 2 with value: 0.7755352516023456.\n",
      "[I 2025-06-04 20:50:46,032] Trial 6 finished with value: 0.4846583935633438 and parameters: {'C': 0.0016436960603505156, 'kernel': 'rbf'}. Best is trial 2 with value: 0.7755352516023456.\n",
      "[I 2025-06-04 20:51:10,238] Trial 7 finished with value: 0.7788081276421656 and parameters: {'C': 0.15480700864587985, 'kernel': 'linear'}. Best is trial 7 with value: 0.7788081276421656.\n",
      "[I 2025-06-04 20:51:39,829] Trial 8 finished with value: 0.7790808673121505 and parameters: {'C': 0.2740264759286511, 'kernel': 'linear'}. Best is trial 8 with value: 0.7790808673121505.\n",
      "[I 2025-06-04 20:52:13,068] Trial 9 finished with value: 0.403109232237829 and parameters: {'C': 0.4350995009698036, 'kernel': 'poly'}. Best is trial 8 with value: 0.7790808673121505.\n",
      "[I 2025-06-04 20:52:46,381] Trial 10 finished with value: 0.3608345833901541 and parameters: {'C': 0.010276520999381884, 'kernel': 'poly'}. Best is trial 8 with value: 0.7790808673121505.\n",
      "[I 2025-06-04 20:53:11,099] Trial 11 finished with value: 0.779762716487113 and parameters: {'C': 0.17198702766915913, 'kernel': 'linear'}. Best is trial 11 with value: 0.779762716487113.\n",
      "[I 2025-06-04 20:53:34,261] Trial 12 finished with value: 0.7790808673121505 and parameters: {'C': 0.14695075544811426, 'kernel': 'linear'}. Best is trial 11 with value: 0.779762716487113.\n",
      "[I 2025-06-04 20:54:10,346] Trial 13 finished with value: 0.778399018137188 and parameters: {'C': 0.4284546839329573, 'kernel': 'linear'}. Best is trial 11 with value: 0.779762716487113.\n",
      "[I 2025-06-04 20:54:31,552] Trial 14 finished with value: 0.7557616255284331 and parameters: {'C': 0.048924068765549854, 'kernel': 'linear'}. Best is trial 11 with value: 0.779762716487113.\n",
      "[I 2025-06-04 20:55:05,494] Trial 15 finished with value: 0.35647074867039413 and parameters: {'C': 0.002590494788768454, 'kernel': 'poly'}. Best is trial 11 with value: 0.779762716487113.\n",
      "[I 2025-06-04 20:55:49,136] Trial 16 finished with value: 0.7781262784672031 and parameters: {'C': 0.6857414569219622, 'kernel': 'linear'}. Best is trial 11 with value: 0.779762716487113.\n",
      "[I 2025-06-04 20:56:10,790] Trial 17 finished with value: 0.7620346379380881 and parameters: {'C': 0.05850389588720006, 'kernel': 'linear'}. Best is trial 11 with value: 0.779762716487113.\n",
      "[I 2025-06-04 20:56:42,883] Trial 18 finished with value: 0.42192826946679396 and parameters: {'C': 0.9495117034689446, 'kernel': 'poly'}. Best is trial 11 with value: 0.779762716487113.\n",
      "[I 2025-06-04 20:57:18,046] Trial 19 finished with value: 0.5036138006273012 and parameters: {'C': 0.006281243960734884, 'kernel': 'rbf'}. Best is trial 11 with value: 0.779762716487113.\n",
      "[I 2025-06-04 20:57:40,124] Trial 20 finished with value: 0.7758079912723306 and parameters: {'C': 0.11756277131432664, 'kernel': 'linear'}. Best is trial 11 with value: 0.779762716487113.\n",
      "[I 2025-06-04 20:58:03,659] Trial 21 finished with value: 0.778671757807173 and parameters: {'C': 0.16713540788445472, 'kernel': 'linear'}. Best is trial 11 with value: 0.779762716487113.\n",
      "[I 2025-06-04 20:58:25,678] Trial 22 finished with value: 0.7399427246693031 and parameters: {'C': 0.030766351447013642, 'kernel': 'linear'}. Best is trial 11 with value: 0.779762716487113.\n",
      "[I 2025-06-04 20:58:52,353] Trial 23 finished with value: 0.779762716487113 and parameters: {'C': 0.24590727578318325, 'kernel': 'linear'}. Best is trial 11 with value: 0.779762716487113.\n",
      "[I 2025-06-04 20:59:44,457] Trial 24 finished with value: 0.7768989499522706 and parameters: {'C': 1.2421988997792945, 'kernel': 'linear'}. Best is trial 11 with value: 0.779762716487113.\n",
      "[I 2025-06-04 21:00:15,405] Trial 25 finished with value: 0.7785353879721806 and parameters: {'C': 0.30342472238423523, 'kernel': 'linear'}. Best is trial 11 with value: 0.779762716487113.\n",
      "[I 2025-06-04 21:00:36,269] Trial 26 finished with value: 0.7669439519978181 and parameters: {'C': 0.0710378247531142, 'kernel': 'linear'}. Best is trial 11 with value: 0.779762716487113.\n",
      "[I 2025-06-04 21:01:35,402] Trial 27 finished with value: 0.7762171007773081 and parameters: {'C': 1.7453734278960122, 'kernel': 'linear'}. Best is trial 11 with value: 0.779762716487113.\n",
      "[I 2025-06-04 21:02:12,781] Trial 28 finished with value: 0.4865675712532388 and parameters: {'C': 9.31607713666436, 'kernel': 'poly'}. Best is trial 11 with value: 0.779762716487113.\n",
      "[I 2025-06-04 21:02:50,528] Trial 29 finished with value: 0.4783853811536888 and parameters: {'C': 0.00015465959855629426, 'kernel': 'rbf'}. Best is trial 11 with value: 0.779762716487113.\n",
      "2025/06/04 21:03:30 WARNING mlflow.models.model: Model logged without a signature and input example. Please set `input_example` parameter when logging the model to auto infer the model signature.\n"
     ]
    },
    {
     "name": "stdout",
     "output_type": "stream",
     "text": [
      "🏃 View run SVM_BoW_bigrams_1000_undersampling at: https://dagshub.com/SushrutGaikwad/youtube-comments-analyzer.mlflow/#/experiments/5/runs/83fa547981aa40a89fa4c0569d07fc31\n",
      "🧪 View experiment at: https://dagshub.com/SushrutGaikwad/youtube-comments-analyzer.mlflow/#/experiments/5\n"
     ]
    }
   ],
   "source": [
    "run_experiment()"
   ]
  },
  {
   "cell_type": "code",
   "execution_count": null,
   "id": "b3ae49f0",
   "metadata": {},
   "outputs": [],
   "source": []
  }
 ],
 "metadata": {
  "kernelspec": {
   "display_name": "venv",
   "language": "python",
   "name": "python3"
  },
  "language_info": {
   "codemirror_mode": {
    "name": "ipython",
    "version": 3
   },
   "file_extension": ".py",
   "mimetype": "text/x-python",
   "name": "python",
   "nbconvert_exporter": "python",
   "pygments_lexer": "ipython3",
   "version": "3.11.12"
  }
 },
 "nbformat": 4,
 "nbformat_minor": 5
}
